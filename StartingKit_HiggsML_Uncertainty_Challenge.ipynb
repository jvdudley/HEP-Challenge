{
 "cells": [
  {
   "cell_type": "markdown",
   "metadata": {},
   "source": [
    "# Starting Kit - FAIR UNIVERSE: HIGGSML UNCERTAINTY CHALLENGE\n",
    "\n",
    "For Overview and Decsiptions of the competition, please visit the competition page"
   ]
  },
  {
   "cell_type": "markdown",
   "metadata": {},
   "source": [
    "## Local Setup\n",
    "\n",
    "#### ⚠️ Note:\n",
    "If you are running this starting kit locally, you may want to use a dedicated conda env.  \n",
    "[Instructions to setup a conda env](https://github.com/FAIR-Universe/HEP-Challenge/tree/master/conda)\n",
    "\n",
    "#### ⚠️ Note:\n",
    "If you are running this starting kit on MAC OS, you may want to check and install `libomp` package. \n",
    "This package is needed to run xgboost model. Follow the steps below for complete installations.\n",
    "\n",
    "If still you are facing problems with XGBoost, you can uninstall the current xgboost and install py-xgboost in your environment\n",
    "\n",
    "Uninstall XGBoost\n",
    "```\n",
    "pip uninstall xgboost\n",
    "```\n",
    "\n",
    "Install py-xgboost using conda\n",
    "```\n",
    "conda install py-xgboost\n",
    "```"
   ]
  },
  {
   "cell_type": "markdown",
   "metadata": {},
   "source": [
    "## COLAB Setup\n",
    "`COLAB` determines whether this notebook is running on Google Colab."
   ]
  },
  {
   "cell_type": "code",
   "execution_count": 1,
   "metadata": {},
   "outputs": [],
   "source": [
    "COLAB = 'google.colab' in str(get_ipython())"
   ]
  },
  {
   "cell_type": "code",
   "execution_count": 2,
   "metadata": {},
   "outputs": [],
   "source": [
    "if COLAB:\n",
    "    # clone github repo\n",
    "    !git clone --depth 1 https://github.com/FAIR-Universe/HEP-Challenge.git\n",
    "\n",
    "    # move to the HEP starting kit folder\n",
    "    %cd HEP-Challenge/\n",
    "\n",
    "    # Install required packages\n",
    "    # %pip install -r conda/requirements.txt "
   ]
  },
  {
   "cell_type": "code",
   "execution_count": 3,
   "metadata": {},
   "outputs": [],
   "source": [
    "TEST_SETTINGS = {\n",
    "\"systematics\": {  # Systematics to use\n",
    "    \"tes\": False, # tau energy scale\n",
    "    \"jes\": False, # jet energy scale\n",
    "    \"soft_met\": False, # soft term in MET\n",
    "    \"ttbar_scale\": False, # ttbar scale factor\n",
    "    \"diboson_scale\": False, # diboson scale factor\n",
    "    \"bkg_scale\": False, # Background scale factor\n",
    "    },\n",
    "\"num_pseudo_experiments\" : 2, # Number of pseudo-experiments to run per set\n",
    "\"num_of_sets\" : 1, # Number of sets of pseudo-experiments to run\n",
    "} \n",
    "\n",
    "USE_RANDOM_MUS = True\n",
    "USE_TEST_MODEL = False"
   ]
  },
  {
   "cell_type": "markdown",
   "metadata": {},
   "source": [
    "## Existing Submissions\n",
    "By this point you should have a clone of the repo which contains `HiggsML_Dummy_Submission.zip` which you can submit to the Competition\n",
    "\n",
    "For more sample submissions please check `/HEP-Challenge/example_submissions/`"
   ]
  },
  {
   "cell_type": "markdown",
   "metadata": {},
   "source": [
    "### Imports"
   ]
  },
  {
   "cell_type": "code",
   "execution_count": 4,
   "metadata": {},
   "outputs": [],
   "source": [
    "import os\n",
    "import json\n",
    "import datetime\n",
    "import numpy as np\n",
    "from sys import path\n",
    "from zipfile import ZipFile, ZIP_DEFLATED\n",
    "from contextlib import closing\n",
    "\n",
    "import matplotlib.pyplot as plt\n",
    "import pandas as pd\n",
    "\n",
    "from pathlib import Path"
   ]
  },
  {
   "cell_type": "code",
   "execution_count": 5,
   "metadata": {},
   "outputs": [],
   "source": [
    "os.environ[\"CUDA_VISIBLE_DEVICES\"] = \"0,1\"\n",
    "# os.environ[\"TF_FORCE_GPU_ALLOW_GROWTH\"] = \"true\""
   ]
  },
  {
   "cell_type": "markdown",
   "metadata": {},
   "source": [
    "### Directories"
   ]
  },
  {
   "cell_type": "code",
   "execution_count": 6,
   "metadata": {},
   "outputs": [
    {
     "name": "stdout",
     "output_type": "stream",
     "text": [
      "Root directory is /clusterfs/ml4hep/jvdudley/projects/FairUniverse/examples/HEP-Challenge\n"
     ]
    }
   ],
   "source": [
    "\n",
    "root_dir = os.getcwd()\n",
    "print(\"Root directory is\", root_dir)\n",
    "\n",
    "input_dir = os.path.join(root_dir, \"input_data\")\n",
    "output_dir = os.path.join(root_dir, \"sample_result_submission\")\n",
    "program_dir = os.path.join(root_dir, \"ingestion_program\")\n",
    "score_dir = os.path.join(root_dir, \"scoring_program\")\n",
    "\n",
    "if USE_TEST_MODEL:\n",
    "    submission_dir = os.path.join(root_dir, \"test_model\")\n",
    "else:\n",
    "    submission_dir = os.path.join(root_dir, \"sample_code_submission\")\n",
    "\n",
    "test_settings = TEST_SETTINGS.copy()\n",
    "\n",
    "if not os.path.exists(output_dir):\n",
    "    os.makedirs(output_dir)\n",
    "    \n",
    "if USE_RANDOM_MUS:\n",
    "    test_settings[ \"ground_truth_mus\"] = list(range(5)) # (np.random.uniform(0.1, 3, test_settings[\"num_of_sets\"])).tolist()\n",
    "    \n",
    "    random_settings_file = os.path.join(output_dir, \"random_mu.json\")\n",
    "    with open(random_settings_file, \"w\") as f:\n",
    "        json.dump(test_settings, f)\n",
    "else:\n",
    "    test_settings_file = os.path.join(input_dir, \"test\", \"settings\", \"data.json\")\n",
    "    with open(test_settings_file) as f:\n",
    "        test_settings = json.load(f)"
   ]
  },
  {
   "cell_type": "markdown",
   "metadata": {},
   "source": [
    "\n",
    "### Add directories to path"
   ]
  },
  {
   "cell_type": "code",
   "execution_count": 7,
   "metadata": {},
   "outputs": [],
   "source": [
    "path.append(program_dir)\n",
    "path.append(submission_dir)\n",
    "path.append(score_dir)"
   ]
  },
  {
   "cell_type": "markdown",
   "metadata": {},
   "source": [
    "***\n",
    "# Internal imports\n",
    "***"
   ]
  },
  {
   "cell_type": "code",
   "execution_count": 8,
   "metadata": {},
   "outputs": [],
   "source": [
    "from visualization import *\n",
    "from systematics import systematics"
   ]
  },
  {
   "cell_type": "markdown",
   "metadata": {},
   "source": [
    "***\n",
    "# Import Submission Model\n",
    "***\n",
    "We import a class named `Model` from the submission file (`model.py`). This `Model` class has the following methods:\n",
    "- `init`: receives train set and systematics class as input\n",
    "- `fit`: can be used for training\n",
    "- `predict`: receives one test set and outputs a dictionary with the following keys\n",
    "    - `mu_hat` : predicted mu $\\hat{\\mu}$\n",
    "    - `delta_mu_hat`: $\\Delta{\\hat{\\mu}}$ bound for $\\mu$\n",
    "    - `p16`: 16th percentile\n",
    "    - `p84`: 84th percentile\n",
    "\n",
    "In this example code, the `Model` class implements an XGBoost model which is trained to predict both the TES and the class label. You can find the code in `HEP-Challenge/sample_code_submission/model.py`. You can modify it the way you want, keeping the required class structure and functions there. More instructions are given inside the `model.py` file. If running in Collab, click the folder icon in the left sidebar to open the file browser.\n",
    "\n",
    "### ⚠️ Note:\n",
    "In real setting i.e. the challenge itself, the submitted model is initialized once with train set and systematics class and the `predict` is called multiple times, each time with a different test sets. "
   ]
  },
  {
   "cell_type": "code",
   "execution_count": 9,
   "metadata": {},
   "outputs": [],
   "source": [
    "from model import Model\n",
    "from datasets import Data"
   ]
  },
  {
   "cell_type": "markdown",
   "metadata": {},
   "source": [
    "***\n",
    "## Data\n",
    "***\n",
    "\n",
    "### ⚠️ Note:\n",
    "The data used here is a small sample data is for demonstration only to get a view of what the data looks like. "
   ]
  },
  {
   "cell_type": "markdown",
   "metadata": {},
   "source": [
    "`USE_PUBLIC_DATASET` determines whether to use a public dataset provided for the participants or use a small sample datafor quick execution of this notebook\n",
    "\n",
    "#### ⚠️ Note:\n",
    "If you have already downloaded the public_data from the competition website, make sure that it is placed in the right folder `HEP-Challenge/` so that you don't download it again. Setting `USE_PUBLIC_DATASET` to `True` will download the public_data if not found in the `HEP-Challenge` directory."
   ]
  },
  {
   "cell_type": "code",
   "execution_count": 10,
   "metadata": {},
   "outputs": [],
   "source": [
    "USE_PUBLIC_DATASET = True"
   ]
  },
  {
   "cell_type": "markdown",
   "metadata": {},
   "source": [
    "`USE_PUBLIC_DATASET` determines whether to use a public dataset provided for the participants or use a small subset of the data for quick execution of this notebook"
   ]
  },
  {
   "cell_type": "code",
   "execution_count": 11,
   "metadata": {},
   "outputs": [],
   "source": [
    "if USE_PUBLIC_DATASET:\n",
    "    from datasets import Neurips2024_public_dataset as public_dataset\n",
    "    data = public_dataset()\n",
    "else:\n",
    "    data = Data(input_dir)"
   ]
  },
  {
   "cell_type": "markdown",
   "metadata": {},
   "source": [
    "The function loads the downloaded data in the public_data folder or downloads the data from codabench using `wget` in the absence of the downloaded data, "
   ]
  },
  {
   "cell_type": "code",
   "execution_count": 12,
   "metadata": {},
   "outputs": [
    {
     "name": "stdout",
     "output_type": "stream",
     "text": [
      "[*] Loading Train data\n",
      "<class 'pandas.core.frame.DataFrame'>\n",
      "RangeIndex: 157016124 entries, 0 to 157016123\n",
      "Columns: 16 entries, PRI_lep_pt to PRI_met_phi\n",
      "dtypes: float32(16)\n",
      "memory usage: 9.4 GB\n",
      "None\n",
      "[+] Train data loaded successfully\n"
     ]
    }
   ],
   "source": [
    "# load train set\n",
    "data.load_train_set()"
   ]
  },
  {
   "cell_type": "code",
   "execution_count": null,
   "metadata": {},
   "outputs": [],
   "source": [
    "# load test sets\n",
    "data.load_test_set()"
   ]
  },
  {
   "cell_type": "markdown",
   "metadata": {},
   "source": [
    "***\n",
    "# Visualize\n",
    "***\n",
    "- Visualize Train set"
   ]
  },
  {
   "cell_type": "code",
   "execution_count": null,
   "metadata": {},
   "outputs": [],
   "source": [
    "data_vis = systematics(data.get_train_set())\n",
    "\n",
    "train_visualize = Dataset_visualise(\n",
    "    data_set=data_vis,\n",
    "    columns=[\n",
    "        \"PRI_jet_leading_pt\",\n",
    "        \"PRI_met\",\n",
    "        \"DER_mass_vis\",\n",
    "        \"DER_mass_jet_jet\",\n",
    "        \"DER_sum_pt\",\n",
    "    ],\n",
    "    name=\"Train Set\",\n",
    ")"
   ]
  },
  {
   "cell_type": "code",
   "execution_count": null,
   "metadata": {},
   "outputs": [],
   "source": [
    "# Show data summary\n",
    "train_visualize.examine_dataset()"
   ]
  },
  {
   "cell_type": "code",
   "execution_count": null,
   "metadata": {},
   "outputs": [],
   "source": [
    "# Show data summary\n",
    "train_visualize.histogram_dataset()"
   ]
  },
  {
   "cell_type": "code",
   "execution_count": null,
   "metadata": {},
   "outputs": [],
   "source": [
    "train_visualize.stacked_histogram(\"DER_mass_vis\")"
   ]
  },
  {
   "cell_type": "code",
   "execution_count": null,
   "metadata": {},
   "outputs": [],
   "source": [
    "# Show data summary\n",
    "train_visualize.pair_plots(sample_size=100)"
   ]
  },
  {
   "cell_type": "code",
   "execution_count": null,
   "metadata": {},
   "outputs": [],
   "source": [
    "syst_train_data = data.get_syst_train_set()"
   ]
  },
  {
   "cell_type": "code",
   "execution_count": null,
   "metadata": {},
   "outputs": [],
   "source": [
    "# Pair plots of train set with systematics\n",
    "train_visualize.pair_plots_syst(syst_train_data[\"data\"], sample_size=100)"
   ]
  },
  {
   "cell_type": "markdown",
   "metadata": {},
   "source": [
    "***\n",
    "# Program\n",
    "***\n"
   ]
  },
  {
   "cell_type": "code",
   "execution_count": 12,
   "metadata": {},
   "outputs": [],
   "source": [
    "\n",
    "from ingestion import Ingestion\n",
    "\n",
    "ingestion = Ingestion(data)\n"
   ]
  },
  {
   "cell_type": "code",
   "execution_count": 13,
   "metadata": {},
   "outputs": [
    {
     "name": "stdout",
     "output_type": "stream",
     "text": [
      "[*] Initializing Submmited Model\n"
     ]
    }
   ],
   "source": [
    "\n",
    "# initialize submission\n",
    "ingestion.init_submission(Model)"
   ]
  },
  {
   "cell_type": "markdown",
   "metadata": {},
   "source": [
    "## Statistical Tools\n",
    "In the process of data fitting using our ingestion module, there are two primary arguments that control how the fit is performed: stat_only and syst_settings.\n",
    "- `stat_only (bool, optional)`: This argument, when set to True, forces the fitting process to compute statistics-only results. This means that only statistical uncertainties are considered, and all systematic uncertainties are ignored.\n",
    "- `syst_settings (dict, optional)`: This argument is a dictionary that specifies the systematic settings, indicating whether to fix certain systematics during the fitting process. Each entry in the dictionary represents a different systematic uncertainty, with a boolean value indicating whether it should be **fixed** (True) or allowed to **float** (False).\n",
    "\n",
    "Note that the `syst_settings` is used to only control the systematics that are allowed to float during the fitting process. It is different from the `TEST_SETTINGS['systematics']` which is used to specify the systematics to be used in the test set generation."
   ]
  },
  {
   "cell_type": "code",
   "execution_count": 14,
   "metadata": {},
   "outputs": [
    {
     "name": "stdout",
     "output_type": "stream",
     "text": [
      "[*] Calling fit method of submitted model\n",
      "[*] Loading Train data\n",
      "<class 'pandas.core.frame.DataFrame'>\n",
      "RangeIndex: 157016124 entries, 0 to 157016123\n",
      "Columns: 16 entries, PRI_lep_pt to PRI_met_phi\n",
      "dtypes: float32(16)\n",
      "memory usage: 9.4 GB\n",
      "None\n",
      "[+] Train data loaded successfully\n",
      "Full data:  (144035999, 28)\n",
      "Full Labels:  (144035999,)\n",
      "Full Weights:  (144035999,)\n",
      "sum_signal_weights:  965.9737786234093\n",
      "sum_bkg_weights:  945854.5141764001\n",
      " \n",
      " \n",
      "Full size of the data is 144035999\n",
      "Train size is 72017999\n",
      "Test size is 72018000\n",
      "Full size of the data is 72018000\n",
      "Train size is 36009000\n",
      "Test size is 36009000\n",
      "Training Set:\n",
      "-------- \n",
      "  Data Shape:          (72017999, 28)\n",
      "  Labels Shape:        (72017999,)\n",
      "  Weights Shape:       (72017999,)\n",
      "  Sum Signal Weights:  965.97\n",
      "  Sum Background Weights: 945854.51\n",
      "\n",
      "\n",
      "Validation Set:\n",
      "---------- \n",
      "  Data Shape:          (36009000, 28)\n",
      "  Labels Shape:        (36009000,)\n",
      "  Weights Shape:       (36009000,)\n",
      "  Sum Signal Weights:  965.97\n",
      "  Sum Background Weights: 945854.51\n",
      "\n",
      "\n",
      "Holdout (For Statistical Template) Set:\n",
      "---------------------------------- \n",
      "  Data Shape:          (36009000, 28)\n",
      "  Labels Shape:        (36009000,)\n",
      "  Weights Shape:       (36009000,)\n",
      "  Sum Signal Weights:  965.97\n",
      "  Sum Background Weights: 945854.51\n",
      "\n",
      "\n"
     ]
    },
    {
     "name": "stderr",
     "output_type": "stream",
     "text": [
      "2024-10-28 15:32:20.324254: E external/local_xla/xla/stream_executor/cuda/cuda_dnn.cc:9261] Unable to register cuDNN factory: Attempting to register factory for plugin cuDNN when one has already been registered\n",
      "2024-10-28 15:32:20.324287: E external/local_xla/xla/stream_executor/cuda/cuda_fft.cc:607] Unable to register cuFFT factory: Attempting to register factory for plugin cuFFT when one has already been registered\n",
      "2024-10-28 15:32:20.325422: E external/local_xla/xla/stream_executor/cuda/cuda_blas.cc:1515] Unable to register cuBLAS factory: Attempting to register factory for plugin cuBLAS when one has already been registered\n",
      "2024-10-28 15:32:20.332772: I tensorflow/core/platform/cpu_feature_guard.cc:182] This TensorFlow binary is optimized to use available CPU instructions in performance-critical operations.\n",
      "To enable the following instructions: SSE4.1 SSE4.2 AVX AVX2 AVX512F FMA, in other operations, rebuild TensorFlow with the appropriate compiler flags.\n",
      "2024-10-28 15:32:24.809077: I tensorflow/core/common_runtime/gpu/gpu_device.cc:1929] Created device /job:localhost/replica:0/task:0/device:GPU:0 with 14611 MB memory:  -> device: 1, name: Tesla V100-SXM2-16GB, pci bus id: 0000:1b:00.0, compute capability: 7.0\n"
     ]
    },
    {
     "name": "stdout",
     "output_type": "stream",
     "text": [
      "2 Physical GPUs, 1 Logical GPUs\n",
      "Model is TF NN\n",
      "test_data.shape in NeuralNetwork.predict (72017999, 28)\n",
      "70331/70331 [==============================] - 74s 1ms/step\n",
      "Done. result.shape: (72017999,)\n",
      "computing scores in stat_analysis.nominal_histograms\n",
      "test_data.shape in NeuralNetwork.predict (36009000, 28)\n",
      "35166/35166 [==============================] - 37s 1ms/step\n",
      "Done. result.shape: (36009000,)\n",
      "scores computed\n",
      "  message: Optimization terminated successfully.\n",
      "  success: True\n",
      "   status: 0\n",
      "      fun: -8253795.615414996\n",
      "        x: [ 1.026e+00]\n",
      "      nit: 1\n",
      "      jac: [ 0.000e+00]\n",
      " hess_inv: [[1]]\n",
      "     nfev: 6\n",
      "     njev: 3 dict_keys(['fun', 'jac', 'hess_inv', 'nfev', 'njev', 'status', 'success', 'message', 'x', 'nit']) [1.02601835] [[1]]\n"
     ]
    },
    {
     "data": {
      "image/png": "[encoded data removed]",
      "text/plain": [
       "<Figure size 640x480 with 1 Axes>"
      ]
     },
     "metadata": {},
     "output_type": "display_data"
    },
    {
     "data": {
      "image/png": "[encoded data removed]",
      "text/plain": [
       "<Figure size 640x480 with 1 Axes>"
      ]
     },
     "metadata": {},
     "output_type": "display_data"
    },
    {
     "name": "stdout",
     "output_type": "stream",
     "text": [
      "  message: Optimization terminated successfully.\n",
      "  success: True\n",
      "   status: 0\n",
      "      fun: -8253795.615414996\n",
      "        x: [ 1.026e+00]\n",
      "      nit: 1\n",
      "      jac: [ 0.000e+00]\n",
      " hess_inv: [[1]]\n",
      "     nfev: 6\n",
      "     njev: 3 dict_keys(['fun', 'jac', 'hess_inv', 'nfev', 'njev', 'status', 'success', 'message', 'x', 'nit']) [1.02601835] [[1]]\n"
     ]
    },
    {
     "data": {
      "image/png": "[encoded data removed]",
      "text/plain": [
       "<Figure size 640x480 with 1 Axes>"
      ]
     },
     "metadata": {},
     "output_type": "display_data"
    },
    {
     "data": {
      "image/png": "[encoded data removed]",
      "text/plain": [
       "<Figure size 640x480 with 1 Axes>"
      ]
     },
     "metadata": {},
     "output_type": "display_data"
    },
    {
     "name": "stdout",
     "output_type": "stream",
     "text": [
      "Training Results:\n",
      "-------- Results:\n",
      "\tmu_hat : 1.026141352874026\n",
      "\tdelta_mu_hat : 0.45860441900045856\n",
      "\tp16 : 0.7980104316737979\n",
      "\tp84 : 1.2566148506742565\n",
      "\n",
      "\n",
      "test_data.shape in NeuralNetwork.predict (36009000, 28)\n",
      "35166/35166 [==============================] - 37s 1ms/step\n",
      "Done. result.shape: (36009000,)\n",
      "  message: Optimization terminated successfully.\n",
      "  success: True\n",
      "   status: 0\n",
      "      fun: -8253709.071056398\n",
      "        x: [ 1.002e+00]\n",
      "      nit: 2\n",
      "      jac: [ 0.000e+00]\n",
      " hess_inv: [[ 1.063e-02]]\n",
      "     nfev: 32\n",
      "     njev: 16 dict_keys(['fun', 'jac', 'hess_inv', 'nfev', 'njev', 'status', 'success', 'message', 'x', 'nit']) [1.00199317] [[0.01063023]]\n"
     ]
    },
    {
     "data": {
      "image/png": "[encoded data removed]",
      "text/plain": [
       "<Figure size 640x480 with 1 Axes>"
      ]
     },
     "metadata": {},
     "output_type": "display_data"
    },
    {
     "data": {
      "image/png": "[encoded data removed]",
      "text/plain": [
       "<Figure size 640x480 with 1 Axes>"
      ]
     },
     "metadata": {},
     "output_type": "display_data"
    },
    {
     "name": "stdout",
     "output_type": "stream",
     "text": [
      "  message: Optimization terminated successfully.\n",
      "  success: True\n",
      "   status: 0\n",
      "      fun: -8253709.071056398\n",
      "        x: [ 1.002e+00]\n",
      "      nit: 2\n",
      "      jac: [ 0.000e+00]\n",
      " hess_inv: [[ 1.063e-02]]\n",
      "     nfev: 32\n",
      "     njev: 16 dict_keys(['fun', 'jac', 'hess_inv', 'nfev', 'njev', 'status', 'success', 'message', 'x', 'nit']) [1.00199317] [[0.01063023]]\n"
     ]
    },
    {
     "data": {
      "image/png": "[encoded data removed]",
      "text/plain": [
       "<Figure size 640x480 with 1 Axes>"
      ]
     },
     "metadata": {},
     "output_type": "display_data"
    },
    {
     "data": {
      "image/png": "[encoded data removed]",
      "text/plain": [
       "<Figure size 640x480 with 1 Axes>"
      ]
     },
     "metadata": {},
     "output_type": "display_data"
    },
    {
     "name": "stdout",
     "output_type": "stream",
     "text": [
      "Validation Results:\n",
      "---------- Results:\n",
      "\tmu_hat : 1.0022074279500022\n",
      "\tdelta_mu_hat : 0.45842422080045875\n",
      "\tp16 : 0.774166605849774\n",
      "\tp84 : 1.2325908266502328\n",
      "\n",
      "\n",
      "test_data.shape in NeuralNetwork.predict (36009000, 28)\n",
      "35166/35166 [==============================] - 37s 1ms/step\n",
      "Done. result.shape: (36009000,)\n",
      "  message: Optimization terminated successfully.\n",
      "  success: True\n",
      "   status: 0\n",
      "      fun: -8253601.749033799\n",
      "        x: [ 1.000e+00]\n",
      "      nit: 1\n",
      "      jac: [ 0.000e+00]\n",
      " hess_inv: [[1]]\n",
      "     nfev: 18\n",
      "     njev: 9 dict_keys(['fun', 'jac', 'hess_inv', 'nfev', 'njev', 'status', 'success', 'message', 'x', 'nit']) [0.99999504] [[1]]\n"
     ]
    },
    {
     "data": {
      "image/png": "[encoded data removed]",
      "text/plain": [
       "<Figure size 640x480 with 1 Axes>"
      ]
     },
     "metadata": {},
     "output_type": "display_data"
    },
    {
     "data": {
      "image/png": "[encoded data removed]",
      "text/plain": [
       "<Figure size 640x480 with 1 Axes>"
      ]
     },
     "metadata": {},
     "output_type": "display_data"
    },
    {
     "name": "stdout",
     "output_type": "stream",
     "text": [
      "  message: Optimization terminated successfully.\n",
      "  success: True\n",
      "   status: 0\n",
      "      fun: -8253601.749033799\n",
      "        x: [ 1.000e+00]\n",
      "      nit: 1\n",
      "      jac: [ 0.000e+00]\n",
      " hess_inv: [[1]]\n",
      "     nfev: 18\n",
      "     njev: 9 dict_keys(['fun', 'jac', 'hess_inv', 'nfev', 'njev', 'status', 'success', 'message', 'x', 'nit']) [0.99999504] [[1]]\n"
     ]
    },
    {
     "data": {
      "image/png": "[encoded data removed]",
      "text/plain": [
       "<Figure size 640x480 with 1 Axes>"
      ]
     },
     "metadata": {},
     "output_type": "display_data"
    },
    {
     "data": {
      "image/png": "[encoded data removed]",
      "text/plain": [
       "<Figure size 640x480 with 1 Axes>"
      ]
     },
     "metadata": {},
     "output_type": "display_data"
    },
    {
     "name": "stdout",
     "output_type": "stream",
     "text": [
      "Holdout Results:\n",
      "------- Results:\n",
      "\tmu_hat : 0.9999549504499999\n",
      "\tdelta_mu_hat : 0.4586945181004588\n",
      "\tp16 : 0.7718240292497717\n",
      "\tp84 : 1.2305185473502305\n",
      "\n",
      "\n",
      "computing scores in stat_analysis.nominal_histograms\n",
      "test_data.shape in NeuralNetwork.predict (72018000, 28)\n"
     ]
    },
    {
     "name": "stderr",
     "output_type": "stream",
     "text": [
      "2024-10-28 15:38:21.572450: W external/local_tsl/tsl/framework/bfc_allocator.cc:485] Allocator (GPU_0_bfc) ran out of memory trying to allocate 7.51GiB (rounded to 8066016000)requested by op _EagerConst\n",
      "If the cause is memory fragmentation maybe the environment variable 'TF_GPU_ALLOCATOR=cuda_malloc_async' will improve the situation. \n",
      "Current allocation summary follows.\n",
      "Current allocation summary follows.\n",
      "2024-10-28 15:38:21.572501: I external/local_tsl/tsl/framework/bfc_allocator.cc:1039] BFCAllocator dump for GPU_0_bfc\n",
      "2024-10-28 15:38:21.572513: I external/local_tsl/tsl/framework/bfc_allocator.cc:1046] Bin (256): \tTotal Chunks: 20, Chunks in use: 20. 5.0KiB allocated for chunks. 5.0KiB in use in bin. 104B client-requested in use in bin.\n",
      "2024-10-28 15:38:21.572521: I external/local_tsl/tsl/framework/bfc_allocator.cc:1046] Bin (512): \tTotal Chunks: 14, Chunks in use: 12. 7.2KiB allocated for chunks. 6.2KiB in use in bin. 4.7KiB client-requested in use in bin.\n",
      "2024-10-28 15:38:21.572526: I external/local_tsl/tsl/framework/bfc_allocator.cc:1046] Bin (1024): \tTotal Chunks: 2, Chunks in use: 1. 2.2KiB allocated for chunks. 1.2KiB in use in bin. 1.0KiB client-requested in use in bin.\n",
      "2024-10-28 15:38:21.572532: I external/local_tsl/tsl/framework/bfc_allocator.cc:1046] Bin (2048): \tTotal Chunks: 0, Chunks in use: 0. 0B allocated for chunks. 0B in use in bin. 0B client-requested in use in bin.\n",
      "2024-10-28 15:38:21.572537: I external/local_tsl/tsl/framework/bfc_allocator.cc:1046] Bin (4096): \tTotal Chunks: 0, Chunks in use: 0. 0B allocated for chunks. 0B in use in bin. 0B client-requested in use in bin.\n",
      "2024-10-28 15:38:21.572544: I external/local_tsl/tsl/framework/bfc_allocator.cc:1046] Bin (8192): \tTotal Chunks: 3, Chunks in use: 2. 36.2KiB allocated for chunks. 22.0KiB in use in bin. 21.9KiB client-requested in use in bin.\n",
      "2024-10-28 15:38:21.572549: I external/local_tsl/tsl/framework/bfc_allocator.cc:1046] Bin (16384): \tTotal Chunks: 2, Chunks in use: 1. 46.5KiB allocated for chunks. 17.2KiB in use in bin. 10.9KiB client-requested in use in bin.\n",
      "2024-10-28 15:38:21.572556: I external/local_tsl/tsl/framework/bfc_allocator.cc:1046] Bin (32768): \tTotal Chunks: 7, Chunks in use: 6. 291.8KiB allocated for chunks. 252.5KiB in use in bin. 234.4KiB client-requested in use in bin.\n",
      "2024-10-28 15:38:21.572561: I external/local_tsl/tsl/framework/bfc_allocator.cc:1046] Bin (65536): \tTotal Chunks: 1, Chunks in use: 0. 78.5KiB allocated for chunks. 0B in use in bin. 0B client-requested in use in bin.\n",
      "2024-10-28 15:38:21.572565: I external/local_tsl/tsl/framework/bfc_allocator.cc:1046] Bin (131072): \tTotal Chunks: 0, Chunks in use: 0. 0B allocated for chunks. 0B in use in bin. 0B client-requested in use in bin.\n",
      "2024-10-28 15:38:21.572570: I external/local_tsl/tsl/framework/bfc_allocator.cc:1046] Bin (262144): \tTotal Chunks: 0, Chunks in use: 0. 0B allocated for chunks. 0B in use in bin. 0B client-requested in use in bin.\n",
      "2024-10-28 15:38:21.572575: I external/local_tsl/tsl/framework/bfc_allocator.cc:1046] Bin (524288): \tTotal Chunks: 0, Chunks in use: 0. 0B allocated for chunks. 0B in use in bin. 0B client-requested in use in bin.\n",
      "2024-10-28 15:38:21.572580: I external/local_tsl/tsl/framework/bfc_allocator.cc:1046] Bin (1048576): \tTotal Chunks: 1, Chunks in use: 0. 1.54MiB allocated for chunks. 0B in use in bin. 0B client-requested in use in bin.\n",
      "2024-10-28 15:38:21.572584: I external/local_tsl/tsl/framework/bfc_allocator.cc:1046] Bin (2097152): \tTotal Chunks: 0, Chunks in use: 0. 0B allocated for chunks. 0B in use in bin. 0B client-requested in use in bin.\n",
      "2024-10-28 15:38:21.572589: I external/local_tsl/tsl/framework/bfc_allocator.cc:1046] Bin (4194304): \tTotal Chunks: 0, Chunks in use: 0. 0B allocated for chunks. 0B in use in bin. 0B client-requested in use in bin.\n",
      "2024-10-28 15:38:21.572593: I external/local_tsl/tsl/framework/bfc_allocator.cc:1046] Bin (8388608): \tTotal Chunks: 0, Chunks in use: 0. 0B allocated for chunks. 0B in use in bin. 0B client-requested in use in bin.\n",
      "2024-10-28 15:38:21.572598: I external/local_tsl/tsl/framework/bfc_allocator.cc:1046] Bin (16777216): \tTotal Chunks: 0, Chunks in use: 0. 0B allocated for chunks. 0B in use in bin. 0B client-requested in use in bin.\n",
      "2024-10-28 15:38:21.572603: I external/local_tsl/tsl/framework/bfc_allocator.cc:1046] Bin (33554432): \tTotal Chunks: 0, Chunks in use: 0. 0B allocated for chunks. 0B in use in bin. 0B client-requested in use in bin.\n",
      "2024-10-28 15:38:21.572608: I external/local_tsl/tsl/framework/bfc_allocator.cc:1046] Bin (67108864): \tTotal Chunks: 0, Chunks in use: 0. 0B allocated for chunks. 0B in use in bin. 0B client-requested in use in bin.\n",
      "2024-10-28 15:38:21.572614: I external/local_tsl/tsl/framework/bfc_allocator.cc:1046] Bin (134217728): \tTotal Chunks: 0, Chunks in use: 0. 0B allocated for chunks. 0B in use in bin. 0B client-requested in use in bin.\n",
      "2024-10-28 15:38:21.572620: I external/local_tsl/tsl/framework/bfc_allocator.cc:1046] Bin (268435456): \tTotal Chunks: 4, Chunks in use: 1. 14.27GiB allocated for chunks. 3.76GiB in use in bin. 3.76GiB client-requested in use in bin.\n",
      "2024-10-28 15:38:21.572625: I external/local_tsl/tsl/framework/bfc_allocator.cc:1062] Bin for 7.51GiB was 256.00MiB, Chunk State: \n",
      "2024-10-28 15:38:21.572645: I external/local_tsl/tsl/framework/bfc_allocator.cc:1068]   Size: 499.65MiB | Requested Size: 4.0KiB | in_use: 0 | bin_num: 20, prev:   Size: 3.76GiB | Requested Size: 3.76GiB | in_use: 1 | bin_num: -1\n",
      "2024-10-28 15:38:21.572651: I external/local_tsl/tsl/framework/bfc_allocator.cc:1068]   Size: 3.76GiB | Requested Size: 3.76GiB | in_use: 0 | bin_num: 20, next:   Size: 3.76GiB | Requested Size: 3.76GiB | in_use: 1 | bin_num: -1\n",
      "2024-10-28 15:38:21.572656: I external/local_tsl/tsl/framework/bfc_allocator.cc:1068]   Size: 6.27GiB | Requested Size: 3.76GiB | in_use: 0 | bin_num: 20\n",
      "2024-10-28 15:38:21.572660: I external/local_tsl/tsl/framework/bfc_allocator.cc:1075] Next region of size 8589934592\n",
      "2024-10-28 15:38:21.572666: I external/local_tsl/tsl/framework/bfc_allocator.cc:1095] Free  at 7f1d12000000 of size 4033008128 next 35217\n",
      "2024-10-28 15:38:21.572671: I external/local_tsl/tsl/framework/bfc_allocator.cc:1095] InUse at 7f1e0262d200 of size 4033008128 next 35215\n",
      "2024-10-28 15:38:21.572675: I external/local_tsl/tsl/framework/bfc_allocator.cc:1095] Free  at 7f1ef2c5a400 of size 523918336 next 18446744073709551615\n",
      "2024-10-28 15:38:21.572678: I external/local_tsl/tsl/framework/bfc_allocator.cc:1075] Next region of size 6728843264\n",
      "2024-10-28 15:38:21.572682: I external/local_tsl/tsl/framework/bfc_allocator.cc:1095] Free  at 7f243e000000 of size 6728843264 next 18446744073709551615\n",
      "2024-10-28 15:38:21.572686: I external/local_tsl/tsl/framework/bfc_allocator.cc:1075] Next region of size 2097152\n",
      "2024-10-28 15:38:21.572690: I external/local_tsl/tsl/framework/bfc_allocator.cc:1095] InUse at 7f306e800000 of size 256 next 1\n",
      "2024-10-28 15:38:21.572694: I external/local_tsl/tsl/framework/bfc_allocator.cc:1095] InUse at 7f306e800100 of size 1280 next 2\n",
      "2024-10-28 15:38:21.572699: I external/local_tsl/tsl/framework/bfc_allocator.cc:1095] InUse at 7f306e800600 of size 256 next 3\n",
      "2024-10-28 15:38:21.572702: I external/local_tsl/tsl/framework/bfc_allocator.cc:1095] InUse at 7f306e800700 of size 256 next 4\n",
      "2024-10-28 15:38:21.572706: I external/local_tsl/tsl/framework/bfc_allocator.cc:1095] InUse at 7f306e800800 of size 256 next 6\n",
      "2024-10-28 15:38:21.572710: I external/local_tsl/tsl/framework/bfc_allocator.cc:1095] Free  at 7f306e800900 of size 512 next 7\n",
      "2024-10-28 15:38:21.572714: I external/local_tsl/tsl/framework/bfc_allocator.cc:1095] InUse at 7f306e800b00 of size 256 next 5\n",
      "2024-10-28 15:38:21.572718: I external/local_tsl/tsl/framework/bfc_allocator.cc:1095] InUse at 7f306e800c00 of size 256 next 8\n",
      "2024-10-28 15:38:21.572721: I external/local_tsl/tsl/framework/bfc_allocator.cc:1095] Free  at 7f306e800d00 of size 1024 next 16\n",
      "2024-10-28 15:38:21.572725: I external/local_tsl/tsl/framework/bfc_allocator.cc:1095] InUse at 7f306e801100 of size 256 next 11\n",
      "2024-10-28 15:38:21.572729: I external/local_tsl/tsl/framework/bfc_allocator.cc:1095] InUse at 7f306e801200 of size 256 next 12\n",
      "2024-10-28 15:38:21.572733: I external/local_tsl/tsl/framework/bfc_allocator.cc:1095] InUse at 7f306e801300 of size 256 next 19\n",
      "2024-10-28 15:38:21.572736: I external/local_tsl/tsl/framework/bfc_allocator.cc:1095] InUse at 7f306e801400 of size 256 next 20\n",
      "2024-10-28 15:38:21.572740: I external/local_tsl/tsl/framework/bfc_allocator.cc:1095] Free  at 7f306e801500 of size 512 next 21\n",
      "2024-10-28 15:38:21.572745: I external/local_tsl/tsl/framework/bfc_allocator.cc:1095] InUse at 7f306e801700 of size 256 next 24\n",
      "2024-10-28 15:38:21.572748: I external/local_tsl/tsl/framework/bfc_allocator.cc:1095] InUse at 7f306e801800 of size 512 next 22\n",
      "2024-10-28 15:38:21.572752: I external/local_tsl/tsl/framework/bfc_allocator.cc:1095] Free  at 7f306e801a00 of size 29952 next 10\n",
      "2024-10-28 15:38:21.572756: I external/local_tsl/tsl/framework/bfc_allocator.cc:1095] InUse at 7f306e808f00 of size 512 next 25\n",
      "2024-10-28 15:38:21.572760: I external/local_tsl/tsl/framework/bfc_allocator.cc:1095] InUse at 7f306e809100 of size 512 next 26\n",
      "2024-10-28 15:38:21.572764: I external/local_tsl/tsl/framework/bfc_allocator.cc:1095] InUse at 7f306e809300 of size 256 next 33\n",
      "2024-10-28 15:38:21.572767: I external/local_tsl/tsl/framework/bfc_allocator.cc:1095] InUse at 7f306e809400 of size 256 next 34\n",
      "2024-10-28 15:38:21.572771: I external/local_tsl/tsl/framework/bfc_allocator.cc:1095] InUse at 7f306e809500 of size 256 next 31\n",
      "2024-10-28 15:38:21.572775: I external/local_tsl/tsl/framework/bfc_allocator.cc:1095] InUse at 7f306e809600 of size 256 next 35\n",
      "2024-10-28 15:38:21.572779: I external/local_tsl/tsl/framework/bfc_allocator.cc:1095] InUse at 7f306e809700 of size 768 next 36\n",
      "2024-10-28 15:38:21.572782: I external/local_tsl/tsl/framework/bfc_allocator.cc:1095] InUse at 7f306e809a00 of size 256 next 27\n",
      "2024-10-28 15:38:21.572786: I external/local_tsl/tsl/framework/bfc_allocator.cc:1095] InUse at 7f306e809b00 of size 256 next 37\n",
      "2024-10-28 15:38:21.572790: I external/local_tsl/tsl/framework/bfc_allocator.cc:1095] InUse at 7f306e809c00 of size 512 next 39\n",
      "2024-10-28 15:38:21.572794: I external/local_tsl/tsl/framework/bfc_allocator.cc:1095] InUse at 7f306e809e00 of size 512 next 41\n",
      "2024-10-28 15:38:21.572797: I external/local_tsl/tsl/framework/bfc_allocator.cc:1095] InUse at 7f306e80a000 of size 512 next 42\n",
      "2024-10-28 15:38:21.572801: I external/local_tsl/tsl/framework/bfc_allocator.cc:1095] InUse at 7f306e80a200 of size 512 next 45\n",
      "2024-10-28 15:38:21.572805: I external/local_tsl/tsl/framework/bfc_allocator.cc:1095] InUse at 7f306e80a400 of size 512 next 46\n",
      "2024-10-28 15:38:21.572809: I external/local_tsl/tsl/framework/bfc_allocator.cc:1095] InUse at 7f306e80a600 of size 512 next 47\n",
      "2024-10-28 15:38:21.572812: I external/local_tsl/tsl/framework/bfc_allocator.cc:1095] InUse at 7f306e80a800 of size 256 next 55\n",
      "2024-10-28 15:38:21.572816: I external/local_tsl/tsl/framework/bfc_allocator.cc:1095] InUse at 7f306e80a900 of size 256 next 48\n",
      "2024-10-28 15:38:21.572820: I external/local_tsl/tsl/framework/bfc_allocator.cc:1095] InUse at 7f306e80aa00 of size 512 next 50\n",
      "2024-10-28 15:38:21.572824: I external/local_tsl/tsl/framework/bfc_allocator.cc:1095] InUse at 7f306e80ac00 of size 256 next 51\n",
      "2024-10-28 15:38:21.572827: I external/local_tsl/tsl/framework/bfc_allocator.cc:1095] InUse at 7f306e80ad00 of size 512 next 53\n",
      "2024-10-28 15:38:21.572831: I external/local_tsl/tsl/framework/bfc_allocator.cc:1095] Free  at 7f306e80af00 of size 14592 next 28\n",
      "2024-10-28 15:38:21.572835: I external/local_tsl/tsl/framework/bfc_allocator.cc:1095] InUse at 7f306e80e800 of size 57600 next 15\n",
      "2024-10-28 15:38:21.572839: I external/local_tsl/tsl/framework/bfc_allocator.cc:1095] Free  at 7f306e81c900 of size 80384 next 17\n",
      "2024-10-28 15:38:21.572843: I external/local_tsl/tsl/framework/bfc_allocator.cc:1095] InUse at 7f306e830300 of size 11264 next 38\n",
      "2024-10-28 15:38:21.572851: I external/local_tsl/tsl/framework/bfc_allocator.cc:1095] InUse at 7f306e832f00 of size 11264 next 52\n",
      "2024-10-28 15:38:21.572855: I external/local_tsl/tsl/framework/bfc_allocator.cc:1095] InUse at 7f306e835b00 of size 17664 next 30\n",
      "2024-10-28 15:38:21.572859: I external/local_tsl/tsl/framework/bfc_allocator.cc:1095] InUse at 7f306e83a000 of size 40192 next 29\n",
      "2024-10-28 15:38:21.572863: I external/local_tsl/tsl/framework/bfc_allocator.cc:1095] Free  at 7f306e843d00 of size 40192 next 32\n",
      "2024-10-28 15:38:21.572867: I external/local_tsl/tsl/framework/bfc_allocator.cc:1095] InUse at 7f306e84da00 of size 40192 next 40\n",
      "2024-10-28 15:38:21.572871: I external/local_tsl/tsl/framework/bfc_allocator.cc:1095] InUse at 7f306e857700 of size 40192 next 43\n",
      "2024-10-28 15:38:21.572875: I external/local_tsl/tsl/framework/bfc_allocator.cc:1095] InUse at 7f306e861400 of size 40192 next 44\n",
      "2024-10-28 15:38:21.572879: I external/local_tsl/tsl/framework/bfc_allocator.cc:1095] InUse at 7f306e86b100 of size 40192 next 54\n",
      "2024-10-28 15:38:21.572883: I external/local_tsl/tsl/framework/bfc_allocator.cc:1095] Free  at 7f306e874e00 of size 1618432 next 18446744073709551615\n",
      "2024-10-28 15:38:21.572886: I external/local_tsl/tsl/framework/bfc_allocator.cc:1100]      Summary of in-use Chunks by size: \n",
      "2024-10-28 15:38:21.572891: I external/local_tsl/tsl/framework/bfc_allocator.cc:1103] 20 Chunks of size 256 totalling 5.0KiB\n",
      "2024-10-28 15:38:21.572896: I external/local_tsl/tsl/framework/bfc_allocator.cc:1103] 11 Chunks of size 512 totalling 5.5KiB\n",
      "2024-10-28 15:38:21.572900: I external/local_tsl/tsl/framework/bfc_allocator.cc:1103] 1 Chunks of size 768 totalling 768B\n",
      "2024-10-28 15:38:21.572904: I external/local_tsl/tsl/framework/bfc_allocator.cc:1103] 1 Chunks of size 1280 totalling 1.2KiB\n",
      "2024-10-28 15:38:21.572909: I external/local_tsl/tsl/framework/bfc_allocator.cc:1103] 2 Chunks of size 11264 totalling 22.0KiB\n",
      "2024-10-28 15:38:21.572913: I external/local_tsl/tsl/framework/bfc_allocator.cc:1103] 1 Chunks of size 17664 totalling 17.2KiB\n",
      "2024-10-28 15:38:21.572918: I external/local_tsl/tsl/framework/bfc_allocator.cc:1103] 5 Chunks of size 40192 totalling 196.2KiB\n",
      "2024-10-28 15:38:21.572922: I external/local_tsl/tsl/framework/bfc_allocator.cc:1103] 1 Chunks of size 57600 totalling 56.2KiB\n",
      "2024-10-28 15:38:21.572926: I external/local_tsl/tsl/framework/bfc_allocator.cc:1103] 1 Chunks of size 4033008128 totalling 3.76GiB\n",
      "2024-10-28 15:38:21.572931: I external/local_tsl/tsl/framework/bfc_allocator.cc:1107] Sum Total of in-use chunks: 3.76GiB\n",
      "2024-10-28 15:38:21.572935: I external/local_tsl/tsl/framework/bfc_allocator.cc:1109] Total bytes in pool: 15320875008 memory_limit_: 15320875008 available bytes: 0 curr_region_allocation_bytes_: 17179869184\n",
      "2024-10-28 15:38:21.572942: I external/local_tsl/tsl/framework/bfc_allocator.cc:1114] Stats: \n",
      "Limit:                     15320875008\n",
      "InUse:                      4033319680\n",
      "MaxInUse:                  12244311296\n",
      "NumAllocs:                      879292\n",
      "MaxAllocSize:               8066016000\n",
      "Reserved:                            0\n",
      "PeakReserved:                        0\n",
      "LargestFreeBlock:                    0\n",
      "\n",
      "2024-10-28 15:38:21.572950: W external/local_tsl/tsl/framework/bfc_allocator.cc:497] __________________________***************************______________________________________________*\n"
     ]
    },
    {
     "ename": "InternalError",
     "evalue": "Failed copying input tensor from /job:localhost/replica:0/task:0/device:CPU:0 to /job:localhost/replica:0/task:0/device:GPU:0 in order to run _EagerConst: Dst tensor is not initialized.",
     "output_type": "error",
     "traceback": [
      "\u001b[0;31m---------------------------------------------------------------------------\u001b[0m",
      "\u001b[0;31mInternalError\u001b[0m                             Traceback (most recent call last)",
      "Cell \u001b[0;32mIn[14], line 2\u001b[0m\n\u001b[1;32m      1\u001b[0m \u001b[38;5;66;03m# fit submission\u001b[39;00m\n\u001b[0;32m----> 2\u001b[0m \u001b[43mingestion\u001b[49m\u001b[38;5;241;43m.\u001b[39;49m\u001b[43mfit_submission\u001b[49m\u001b[43m(\u001b[49m\u001b[43m)\u001b[49m\n",
      "File \u001b[0;32m/clusterfs/ml4hep/jvdudley/projects/FairUniverse/examples/HEP-Challenge/ingestion_program/ingestion.py:145\u001b[0m, in \u001b[0;36mIngestion.fit_submission\u001b[0;34m(self)\u001b[0m\n\u001b[1;32m    141\u001b[0m \u001b[38;5;250m\u001b[39m\u001b[38;5;124;03m\"\"\"\u001b[39;00m\n\u001b[1;32m    142\u001b[0m \u001b[38;5;124;03mFit the submitted model.\u001b[39;00m\n\u001b[1;32m    143\u001b[0m \u001b[38;5;124;03m\"\"\"\u001b[39;00m\n\u001b[1;32m    144\u001b[0m \u001b[38;5;28mprint\u001b[39m(\u001b[38;5;124m\"\u001b[39m\u001b[38;5;124m[*] Calling fit method of submitted model\u001b[39m\u001b[38;5;124m\"\u001b[39m)\n\u001b[0;32m--> 145\u001b[0m \u001b[38;5;28;43mself\u001b[39;49m\u001b[38;5;241;43m.\u001b[39;49m\u001b[43mmodel\u001b[49m\u001b[38;5;241;43m.\u001b[39;49m\u001b[43mfit\u001b[49m\u001b[43m(\u001b[49m\u001b[43m)\u001b[49m\n",
      "File \u001b[0;32m/clusterfs/ml4hep/jvdudley/projects/FairUniverse/examples/HEP-Challenge/sample_code_submission/model.py:276\u001b[0m, in \u001b[0;36mModel.fit\u001b[0;34m(self, stat_only, syst_settings)\u001b[0m\n\u001b[1;32m    274\u001b[0m \u001b[38;5;66;03m# assume there were no problems with fitting; use valid and holdout sets to compute template histograms\u001b[39;00m\n\u001b[1;32m    275\u001b[0m \u001b[38;5;28mself\u001b[39m\u001b[38;5;241m.\u001b[39mstat_analysis \u001b[38;5;241m=\u001b[39m StatisticalAnalysis(\u001b[38;5;28mself\u001b[39m\u001b[38;5;241m.\u001b[39mmodel, temp_set, template_file\u001b[38;5;241m=\u001b[39mos\u001b[38;5;241m.\u001b[39mpath\u001b[38;5;241m.\u001b[39mjoin(current_file, TEMPLATE_FILE))\n\u001b[0;32m--> 276\u001b[0m \u001b[38;5;28;43mself\u001b[39;49m\u001b[38;5;241;43m.\u001b[39;49m\u001b[43mstat_analysis\u001b[49m\u001b[38;5;241;43m.\u001b[39;49m\u001b[43mnominal_histograms\u001b[49m\u001b[43m(\u001b[49m\u001b[43m)\u001b[49m \u001b[38;5;66;03m# save=True\u001b[39;00m\n\u001b[1;32m    278\u001b[0m \u001b[38;5;66;03m# delete the training set to free up memory\u001b[39;00m\n\u001b[1;32m    279\u001b[0m \u001b[38;5;28;01mdel\u001b[39;00m \u001b[38;5;28mself\u001b[39m\u001b[38;5;241m.\u001b[39mtraining_set\n",
      "File \u001b[0;32m/clusterfs/ml4hep/jvdudley/projects/FairUniverse/examples/HEP-Challenge/sample_code_submission/stat_only_analysis.py:92\u001b[0m, in \u001b[0;36mStatOnlyAnalysis.nominal_histograms\u001b[0;34m(self, bins, apply_syst, save)\u001b[0m\n\u001b[1;32m     90\u001b[0m \u001b[38;5;66;03m# compute scores\u001b[39;00m\n\u001b[1;32m     91\u001b[0m \u001b[38;5;28mprint\u001b[39m(\u001b[38;5;124m'\u001b[39m\u001b[38;5;124mcomputing scores in stat_analysis.nominal_histograms\u001b[39m\u001b[38;5;124m'\u001b[39m)\n\u001b[0;32m---> 92\u001b[0m holdout_scores \u001b[38;5;241m=\u001b[39m \u001b[38;5;28;43mself\u001b[39;49m\u001b[38;5;241;43m.\u001b[39;49m\u001b[43mmodel\u001b[49m\u001b[38;5;241;43m.\u001b[39;49m\u001b[43mpredict\u001b[49m\u001b[43m(\u001b[49m\u001b[43mholdout_syst\u001b[49m\u001b[43m[\u001b[49m\u001b[38;5;124;43m'\u001b[39;49m\u001b[38;5;124;43mdata\u001b[39;49m\u001b[38;5;124;43m'\u001b[39;49m\u001b[43m]\u001b[49m\u001b[43m)\u001b[49m\n\u001b[1;32m     93\u001b[0m \u001b[38;5;28mprint\u001b[39m(\u001b[38;5;124m'\u001b[39m\u001b[38;5;124mscores computed\u001b[39m\u001b[38;5;124m'\u001b[39m)\n\u001b[1;32m     94\u001b[0m \u001b[38;5;28mself\u001b[39m\u001b[38;5;241m.\u001b[39msignal_scores \u001b[38;5;241m=\u001b[39m holdout_scores[holdout_syst[\u001b[38;5;124m'\u001b[39m\u001b[38;5;124mlabels\u001b[39m\u001b[38;5;124m'\u001b[39m] \u001b[38;5;241m==\u001b[39m \u001b[38;5;241m1\u001b[39m]\n",
      "File \u001b[0;32m/clusterfs/ml4hep/jvdudley/projects/FairUniverse/examples/HEP-Challenge/sample_code_submission/neural_network_TF.py:93\u001b[0m, in \u001b[0;36mNeuralNetwork.predict\u001b[0;34m(self, test_data, batch_size, verbose)\u001b[0m\n\u001b[1;32m     91\u001b[0m \u001b[38;5;28mprint\u001b[39m(\u001b[38;5;124m'\u001b[39m\u001b[38;5;124mtest_data.shape in NeuralNetwork.predict\u001b[39m\u001b[38;5;124m'\u001b[39m, test_data\u001b[38;5;241m.\u001b[39mshape)\n\u001b[1;32m     92\u001b[0m test_data \u001b[38;5;241m=\u001b[39m \u001b[38;5;28mself\u001b[39m\u001b[38;5;241m.\u001b[39mscaler\u001b[38;5;241m.\u001b[39mtransform(test_data)\n\u001b[0;32m---> 93\u001b[0m result \u001b[38;5;241m=\u001b[39m \u001b[38;5;28;43mself\u001b[39;49m\u001b[38;5;241;43m.\u001b[39;49m\u001b[43mmodel\u001b[49m\u001b[38;5;241;43m.\u001b[39;49m\u001b[43mpredict\u001b[49m\u001b[43m(\u001b[49m\u001b[43mtest_data\u001b[49m\u001b[43m,\u001b[49m\u001b[43m \u001b[49m\u001b[43mbatch_size\u001b[49m\u001b[38;5;241;43m=\u001b[39;49m\u001b[43mbatch_size\u001b[49m\u001b[43m,\u001b[49m\u001b[43m \u001b[49m\u001b[43mverbose\u001b[49m\u001b[38;5;241;43m=\u001b[39;49m\u001b[43mverbose\u001b[49m\u001b[43m)\u001b[49m\u001b[38;5;241m.\u001b[39mflatten()\u001b[38;5;241m.\u001b[39mravel()\n\u001b[1;32m     94\u001b[0m \u001b[38;5;28mprint\u001b[39m(\u001b[38;5;124mf\u001b[39m\u001b[38;5;124m'\u001b[39m\u001b[38;5;124mDone. result.shape: \u001b[39m\u001b[38;5;132;01m{\u001b[39;00mresult\u001b[38;5;241m.\u001b[39mshape\u001b[38;5;132;01m}\u001b[39;00m\u001b[38;5;124m'\u001b[39m)\n\u001b[1;32m     95\u001b[0m \u001b[38;5;28;01mreturn\u001b[39;00m result\n",
      "File \u001b[0;32m/clusterfs/ml4hep/jvdudley/software/miniforge3/envs/FairUniverse4/lib/python3.11/site-packages/keras/src/utils/traceback_utils.py:70\u001b[0m, in \u001b[0;36mfilter_traceback.<locals>.error_handler\u001b[0;34m(*args, **kwargs)\u001b[0m\n\u001b[1;32m     67\u001b[0m     filtered_tb \u001b[38;5;241m=\u001b[39m _process_traceback_frames(e\u001b[38;5;241m.\u001b[39m__traceback__)\n\u001b[1;32m     68\u001b[0m     \u001b[38;5;66;03m# To get the full stack trace, call:\u001b[39;00m\n\u001b[1;32m     69\u001b[0m     \u001b[38;5;66;03m# `tf.debugging.disable_traceback_filtering()`\u001b[39;00m\n\u001b[0;32m---> 70\u001b[0m     \u001b[38;5;28;01mraise\u001b[39;00m e\u001b[38;5;241m.\u001b[39mwith_traceback(filtered_tb) \u001b[38;5;28;01mfrom\u001b[39;00m \u001b[38;5;28;01mNone\u001b[39;00m\n\u001b[1;32m     71\u001b[0m \u001b[38;5;28;01mfinally\u001b[39;00m:\n\u001b[1;32m     72\u001b[0m     \u001b[38;5;28;01mdel\u001b[39;00m filtered_tb\n",
      "File \u001b[0;32m/clusterfs/ml4hep/jvdudley/software/miniforge3/envs/FairUniverse4/lib/python3.11/site-packages/tensorflow/python/framework/constant_op.py:103\u001b[0m, in \u001b[0;36mconvert_to_eager_tensor\u001b[0;34m(value, ctx, dtype)\u001b[0m\n\u001b[1;32m    101\u001b[0m     dtype \u001b[38;5;241m=\u001b[39m dtypes\u001b[38;5;241m.\u001b[39mas_dtype(dtype)\u001b[38;5;241m.\u001b[39mas_datatype_enum\n\u001b[1;32m    102\u001b[0m ctx\u001b[38;5;241m.\u001b[39mensure_initialized()\n\u001b[0;32m--> 103\u001b[0m \u001b[38;5;28;01mreturn\u001b[39;00m \u001b[43mops\u001b[49m\u001b[38;5;241;43m.\u001b[39;49m\u001b[43mEagerTensor\u001b[49m\u001b[43m(\u001b[49m\u001b[43mvalue\u001b[49m\u001b[43m,\u001b[49m\u001b[43m \u001b[49m\u001b[43mctx\u001b[49m\u001b[38;5;241;43m.\u001b[39;49m\u001b[43mdevice_name\u001b[49m\u001b[43m,\u001b[49m\u001b[43m \u001b[49m\u001b[43mdtype\u001b[49m\u001b[43m)\u001b[49m\n",
      "\u001b[0;31mInternalError\u001b[0m: Failed copying input tensor from /job:localhost/replica:0/task:0/device:CPU:0 to /job:localhost/replica:0/task:0/device:GPU:0 in order to run _EagerConst: Dst tensor is not initialized."
     ]
    }
   ],
   "source": [
    "\n",
    "# fit submission\n",
    "ingestion.fit_submission()"
   ]
  },
  {
   "cell_type": "code",
   "execution_count": null,
   "metadata": {},
   "outputs": [],
   "source": [
    "ingestion.model.stat_analysis.nominal_histograms(1, apply_syst=True)"
   ]
  },
  {
   "cell_type": "code",
   "execution_count": null,
   "metadata": {},
   "outputs": [],
   "source": [
    "# load test set\n",
    "data.load_test_set()"
   ]
  },
  {
   "cell_type": "code",
   "execution_count": null,
   "metadata": {},
   "outputs": [],
   "source": [
    "\n",
    "# predict submission\n",
    "ingestion.predict_submission(test_settings)"
   ]
  },
  {
   "cell_type": "code",
   "execution_count": null,
   "metadata": {},
   "outputs": [],
   "source": [
    "ingestion.compute_result()"
   ]
  },
  {
   "cell_type": "code",
   "execution_count": null,
   "metadata": {},
   "outputs": [],
   "source": [
    "\n",
    "# save result\n",
    "!rm -rf $output_dir/*\n",
    "ingestion.save_result(output_dir)"
   ]
  },
  {
   "cell_type": "markdown",
   "metadata": {},
   "source": [
    "***\n",
    "# Likelihood plots\n",
    "***"
   ]
  },
  {
   "cell_type": "code",
   "execution_count": null,
   "metadata": {},
   "outputs": [],
   "source": [
    "from tqdm import tqdm\n",
    "\n",
    "from systematics import postprocess, systematics\n",
    "from pathlib import Path\n",
    "# from systematics import LHC_NUMBERS as LHC_NUMBERS_NEW"
   ]
  },
  {
   "cell_type": "code",
   "execution_count": null,
   "metadata": {},
   "outputs": [],
   "source": [
    "def NLL(mu, observed, expected_sig, expected_bkgd, scale=1, epsilon=1e-30):\n",
    "    # need to double check the scaling\n",
    "    expected = scale * (mu * expected_sig + expected_bkgd)\n",
    "    return np.sum(expected - observed * np.log(expected + epsilon))"
   ]
  },
  {
   "cell_type": "code",
   "execution_count": null,
   "metadata": {},
   "outputs": [],
   "source": [
    "def NLLarray(mus, observed, expected_sig, expected_bkgd, epsilon=1e-30):\n",
    "    expected = (mus[:, None] * expected_sig + expected_bkgd)\n",
    "    return (expected - observed * np.log(expected + epsilon)).sum(axis=1)"
   ]
  },
  {
   "cell_type": "code",
   "execution_count": null,
   "metadata": {},
   "outputs": [],
   "source": [
    "def get_results(mus, nlls):\n",
    "    mu_hat = mus[np.argmin(nlls)]\n",
    "    one_sigma = mus[(nlls - np.min(nlls)) < 0.5]\n",
    "    return mu_hat, (one_sigma[0], one_sigma[-1])"
   ]
  },
  {
   "cell_type": "code",
   "execution_count": null,
   "metadata": {},
   "outputs": [],
   "source": [
    "# check sum of weights after post-cuts\n",
    "def check_weights_post_syst(data):\n",
    "    syst_data = systematics(data)\n",
    "    counts = {\n",
    "        name: syst_data['weights'][syst_data['detailed_labels'] == name].sum() for name in LHC_NUMBERS\n",
    "    }\n",
    "    return pd.Series(counts)"
   ]
  },
  {
   "cell_type": "code",
   "execution_count": null,
   "metadata": {},
   "outputs": [],
   "source": [
    "def format_test_as_train(data_set=None):\n",
    "    joined_data = []\n",
    "    if data_set is None:\n",
    "        data.load_test_set()\n",
    "        data_set = data.get_test_set()\n",
    "    for name, df in data_set.items():\n",
    "        label = 1. if name == 'htautau' else 0.\n",
    "        joined_data.append(\n",
    "            df.assign(labels=label, detailed_labels=name)\n",
    "        )\n",
    "    joined_data = pd.concat(joined_data, axis=0, ignore_index=True, copy=False)\n",
    "    separated_data = {\n",
    "        'data': joined_data.drop(columns=['labels', 'detailed_labels', 'weights']),\n",
    "        'labels': joined_data['labels'],\n",
    "        'weights': joined_data['weights'],\n",
    "        'detailed_labels': joined_data['detailed_labels'],\n",
    "    }\n",
    "    return separated_data"
   ]
  },
  {
   "cell_type": "code",
   "execution_count": null,
   "metadata": {},
   "outputs": [],
   "source": [
    "num_bins = 128\n",
    "hist_bins = np.linspace(0, 1, num_bins+1)"
   ]
  },
  {
   "cell_type": "code",
   "execution_count": null,
   "metadata": {},
   "outputs": [],
   "source": [
    "\n",
    "mus = np.linspace(0, 4, 10**4) # negtive mu breaks when using labels in place of scores"
   ]
  },
  {
   "cell_type": "code",
   "execution_count": null,
   "metadata": {},
   "outputs": [],
   "source": [
    "LHC_NUMBERS = {\n",
    "    \"ztautau\": 3544019,\n",
    "    \"diboson\": 40590,\n",
    "    \"ttbar\": 158761,\n",
    "    \"htautau\": 3639,\n",
    "}"
   ]
  },
  {
   "cell_type": "code",
   "execution_count": null,
   "metadata": {},
   "outputs": [],
   "source": [
    "ingestion.model.stat_analysis.holdout_scores = None\n",
    "tmp_results = ingestion.model.stat_analysis.vary_hist_bins(\n",
    "    bins_iter=tqdm(range(1, 11)),\n",
    "    data_set=format_test_as_train(data.get_test_set()),\n",
    "    mu_true=1,\n",
    "    plot_title='Without post-cuts',\n",
    ")"
   ]
  },
  {
   "cell_type": "code",
   "execution_count": null,
   "metadata": {},
   "outputs": [],
   "source": [
    "tmp_results_syst = ingestion.model.stat_analysis.vary_hist_bins(\n",
    "    bins_iter=tqdm(range(1, 11)),\n",
    "    data_set=format_test_as_train(data.get_test_set()),\n",
    "    apply_syst=True,\n",
    "    mu_true=1,\n",
    "    plot_title='With post-cuts',\n",
    ")"
   ]
  },
  {
   "cell_type": "code",
   "execution_count": null,
   "metadata": {},
   "outputs": [],
   "source": [
    "# rescale intervals to estimate the uncertainty with weighted events\n",
    "tmp_width_scale = np.sqrt(\n",
    "    sum(\n",
    "        (df['weights']**2).sum() for df in data.get_test_set().values()\n",
    "    ) / sum(\n",
    "        df['weights'].sum() for df in data.get_test_set().values()\n",
    "    )\n",
    ")\n",
    "tmp_inv_var_weighted_mean, tmp_weighted_var_inv = np.average(\n",
    "    [result['prediction']['mu_hat'] for result in tmp_results],\n",
    "    weights=[1 / (tmp_width_scale * result['prediction']['delta_mu_hat'] / 2)**2 for result in tmp_results],\n",
    "    returned=True,\n",
    ")\n",
    "tmp_weighted_var = 1 / tmp_weighted_var_inv\n",
    "tmp_mean_syst, tmp_var_inv_syst = np.average(\n",
    "    [result['prediction']['mu_hat'] for result in tmp_results_syst],\n",
    "    weights=[1 / (tmp_width_scale * result['prediction']['delta_mu_hat'] / 2)**2 for result in tmp_results_syst],\n",
    "    returned=True,\n",
    ")\n",
    "tmp_var_syst = 1 / tmp_var_inv_syst\n",
    "\n",
    "plt.figure(figsize=(12, 10))\n",
    "plt.errorbar(\n",
    "    [result['prediction']['mu_hat'] for result in tmp_results],\n",
    "    [result['bins'] for result in tmp_results],\n",
    "    xerr=[tmp_width_scale * result['prediction']['delta_mu_hat'] / 2 for result in tmp_results],\n",
    "    fmt='.',\n",
    "    label='without cuts',\n",
    "    alpha=0.5,\n",
    ")\n",
    "plt.errorbar(\n",
    "    [result['prediction']['mu_hat'] for result in tmp_results_syst],\n",
    "    [result['bins'] for result in tmp_results_syst],\n",
    "    xerr=[tmp_width_scale * result['prediction']['delta_mu_hat'] / 2 for result in tmp_results_syst],\n",
    "    fmt='.',\n",
    "    label='with cuts',\n",
    "    alpha=0.5,\n",
    ")\n",
    "plt.axvline(\n",
    "    tmp_inv_var_weighted_mean,\n",
    "    # color='red',\n",
    "    label='mean $\\hat \\mu$ without cuts',\n",
    ")\n",
    "plt.axvspan(\n",
    "    tmp_inv_var_weighted_mean - np.sqrt(tmp_weighted_var),\n",
    "    tmp_inv_var_weighted_mean + np.sqrt(tmp_weighted_var),\n",
    "    # color='red',\n",
    "    alpha=0.2,\n",
    ")\n",
    "plt.axvline(\n",
    "    tmp_mean_syst,\n",
    "    color='C1',\n",
    "    label='mean $\\hat \\mu$ with cuts',\n",
    ")\n",
    "plt.axvspan(\n",
    "    tmp_mean_syst - np.sqrt(tmp_var_syst),\n",
    "    tmp_mean_syst + np.sqrt(tmp_var_syst),\n",
    "    color='C1',\n",
    "    alpha=0.2,\n",
    ")\n",
    "plt.axvline(1, color='black', label='True $\\mu$')\n",
    "plt.axvline(1.05, color='black', linestyle='--', label='1.05')\n",
    "# plt.axvline(np.mean([result['prediction']['mu_hat'] for result in tmp_results]), color='red', label='Mean $\\hat \\mu$')\n",
    "# plt.axvspan(\n",
    "#     np.mean([result['prediction']['mu_hat'] for result in tmp_results]) - np.std([result['prediction']['mu_hat'] for result in tmp_results]) / np.sqrt(len(tmp_results)),\n",
    "#     np.mean([result['prediction']['mu_hat'] for result in tmp_results]) + np.std([result['prediction']['mu_hat'] for result in tmp_results]) / np.sqrt(len(tmp_results)),\n",
    "#     color='red',\n",
    "#     alpha=0.2,\n",
    "#     label='$ 1 \\sigma $'\n",
    "# )\n",
    "plt.xlabel('$\\mu$')\n",
    "plt.ylabel('Number of bins')\n",
    "# plt.yscale('log')\n",
    "plt.legend()\n",
    "plt.title('Full test set')"
   ]
  },
  {
   "cell_type": "code",
   "execution_count": null,
   "metadata": {},
   "outputs": [],
   "source": [
    "tmp_luminosity_scale = .1\n",
    "\n",
    "tmp_holdout_set = ingestion.model.stat_analysis.holdout_set.copy()\n",
    "ingestion.m['weights'] == tmp_luminosity_scale * tmp_holdout_set['weights'].copy()\n",
    "\n",
    "tmp_data_set = format_test_as_train(data.get_test_set()).copy()\n",
    "tmp_data_set['weights'] == tmp_luminosity_scale * tmp_data_set['weights'].copy()\n",
    "\n",
    "# ingestion.model.stat_analysis.holdout_set['weights'] *= tmp_luminosity_scale\n",
    "\n",
    "results_low_luminosity = ingestion.model.stat_analysis.vary_hist_bins(\n",
    "    # bins_iter=tqdm(range(1, 11)),\n",
    "    data_set=tmp_data_set,\n",
    "    mu_true=1,\n",
    "    plot_title='Without post-cuts',\n",
    ")\n",
    "results_low_luminosity_syst = ingestion.model.stat_analysis.vary_hist_bins(\n",
    "    # bins_iter=tqdm(range(1, 11)),\n",
    "    data_set=tmp_data_set,\n",
    "    mu_true=1,\n",
    "    apply_syst=True,\n",
    "    plot_title='With post-cuts',\n",
    ")"
   ]
  },
  {
   "cell_type": "code",
   "execution_count": null,
   "metadata": {},
   "outputs": [],
   "source": [
    "tmp_data_set['weights']"
   ]
  },
  {
   "cell_type": "markdown",
   "metadata": {},
   "source": [
    "## Checking event counts"
   ]
  },
  {
   "cell_type": "code",
   "execution_count": null,
   "metadata": {},
   "outputs": [],
   "source": [
    "data.load_train_set()"
   ]
  },
  {
   "cell_type": "code",
   "execution_count": null,
   "metadata": {},
   "outputs": [],
   "source": [
    "all_weighted_data = data.get_train_set().copy()"
   ]
  },
  {
   "cell_type": "code",
   "execution_count": null,
   "metadata": {},
   "outputs": [],
   "source": [
    "for k, v in all_weighted_data.items():\n",
    "    print(k, type(v))"
   ]
  },
  {
   "cell_type": "code",
   "execution_count": null,
   "metadata": {},
   "outputs": [],
   "source": [
    "all_weighted_data['detailed_labels'] = np.array(all_weighted_data['detailed_labels'])"
   ]
  },
  {
   "cell_type": "code",
   "execution_count": null,
   "metadata": {},
   "outputs": [],
   "source": [
    "asimov_data = format_test_as_train(data.get_test_set())"
   ]
  },
  {
   "cell_type": "code",
   "execution_count": null,
   "metadata": {},
   "outputs": [],
   "source": [
    "# {name: all_weighted_data['weights'][all_weighted_data['detailed_labels'] == name] for name in LHC_NUMBERS}\n",
    "# plt.figure(figsize=(16, 10))\n",
    "plt.subplots(2, 2, figsize=(16, 10))\n",
    "for j, name in enumerate(LHC_NUMBERS, start=1):\n",
    "    plt.subplot(2, 2, j)\n",
    "    tmp_weights = all_weighted_data['weights'][all_weighted_data['detailed_labels'] == name]\n",
    "    print(name, tmp_weights.shape, tmp_weights.mean(), tmp_weights.std())\n",
    "    print(pd.Series(tmp_weights).value_counts())\n",
    "    plt.hist(tmp_weights, bins=100, density=False, alpha=0.5, label=name)\n",
    "    plt.title(name)\n",
    "# plt.xscale('log')\n",
    "    plt.yscale('log')\n",
    "    plt.xlabel('weights')\n",
    "    plt.ylabel('count')\n",
    "    plt.legend()\n",
    "# plt.title('weighted data')\n"
   ]
  },
  {
   "cell_type": "code",
   "execution_count": null,
   "metadata": {},
   "outputs": [],
   "source": [
    "(all_weighted_data['weights'][all_weighted_data['detailed_labels'] == 'htautau'] == 0).sum(), (all_weighted_data['detailed_labels'] == 'htautau').sum()"
   ]
  },
  {
   "cell_type": "code",
   "execution_count": null,
   "metadata": {},
   "outputs": [],
   "source": [
    "counts_df = pd.DataFrame.from_dict(\n",
    "    {\n",
    "        name: {\n",
    "            # 'LHC_NUMBERS (old)': LHC_NUMBERS[name],\n",
    "            'template sum of weights': all_weighted_data['weights'][all_weighted_data['detailed_labels'] == name].sum(),\n",
    "            'asimov sum of weights': asimov_data['weights'][asimov_data['detailed_labels'] == name].sum(),\n",
    "            'template num events': (all_weighted_data['detailed_labels'] == name).sum(),\n",
    "            'asimov num events': (asimov_data['detailed_labels'] == name).sum(),\n",
    "            'template average weight': all_weighted_data['weights'][all_weighted_data['detailed_labels'] == name].mean(),\n",
    "            'asimov average weight': asimov_data['weights'][asimov_data['detailed_labels'] == name].mean(),\n",
    "        }\n",
    "        for name in LHC_NUMBERS\n",
    "    },\n",
    "    orient='index',\n",
    ")"
   ]
  },
  {
   "cell_type": "code",
   "execution_count": null,
   "metadata": {},
   "outputs": [],
   "source": [
    "counts_df.T.style.format(precision=6)"
   ]
  },
  {
   "cell_type": "code",
   "execution_count": null,
   "metadata": {},
   "outputs": [],
   "source": [
    "counts_df.index"
   ]
  },
  {
   "cell_type": "code",
   "execution_count": null,
   "metadata": {},
   "outputs": [],
   "source": [
    "counts_df['template sum post cuts'] = check_weights_post_syst(data.get_train_set())\n",
    "counts_df['asimov sum post cuts'] = check_weights_post_syst(format_test_as_train(data.get_test_set()))"
   ]
  },
  {
   "cell_type": "code",
   "execution_count": null,
   "metadata": {},
   "outputs": [],
   "source": []
  },
  {
   "cell_type": "code",
   "execution_count": null,
   "metadata": {},
   "outputs": [],
   "source": [
    "counts_df.assign(diff=lambda df: df['asimov sum post cuts'] - df['template sum post cuts']).T.assign(sum=lambda df: df.sum(1)).style.format(precision=3)"
   ]
  },
  {
   "cell_type": "markdown",
   "metadata": {},
   "source": [
    "## Comparison\n",
    "\n",
    "Use scores and weights from Sascha"
   ]
  },
  {
   "cell_type": "code",
   "execution_count": null,
   "metadata": {},
   "outputs": [],
   "source": [
    "bresult = [] # list of dictionaries of results of varying num_bins"
   ]
  },
  {
   "cell_type": "code",
   "execution_count": null,
   "metadata": {},
   "outputs": [],
   "source": [
    "sresults = {}"
   ]
  },
  {
   "cell_type": "code",
   "execution_count": null,
   "metadata": {},
   "outputs": [],
   "source": [
    "# sascha_dir = Path('/global/ml4hep/spss/jvdudley/physicsData/FairUniverse/comparison_Sascha/Fair_Universe_Comparison_Data/')\n",
    "sascha_dir = Path('/global/ml4hep/spss/sdiefenbacher/Fair_Universe/comparison/comparison_templates_data_07_23_seed45/')\n",
    "# sprefix = 'Run_9'"
   ]
  },
  {
   "cell_type": "code",
   "execution_count": null,
   "metadata": {},
   "outputs": [],
   "source": [
    "for file in sascha_dir.glob('eval*.npy'):\n",
    "    # if file.stem.startswith('Run'): continue\n",
    "    print(file.stem)"
   ]
  },
  {
   "cell_type": "code",
   "execution_count": null,
   "metadata": {},
   "outputs": [],
   "source": [
    "def sread(pattern, dir=sascha_dir):\n",
    "    return {file.stem: np.load(file) for file in dir.glob(pattern)}"
   ]
  },
  {
   "cell_type": "code",
   "execution_count": null,
   "metadata": {},
   "outputs": [],
   "source": [
    "sread('eval*.npy')"
   ]
  },
  {
   "cell_type": "code",
   "execution_count": null,
   "metadata": {},
   "outputs": [],
   "source": [
    "sread('Run_0*.npy')"
   ]
  },
  {
   "cell_type": "code",
   "execution_count": null,
   "metadata": {},
   "outputs": [],
   "source": [
    "for pattern in ('eval*.npy', 'Run_0*.npy', '*bkg*.npy'):\n",
    "    plt.hist()"
   ]
  },
  {
   "cell_type": "code",
   "execution_count": null,
   "metadata": {},
   "outputs": [],
   "source": [
    "stdata = {}\n",
    "sedata = {}\n",
    "\n",
    "sdata = {}"
   ]
  },
  {
   "cell_type": "code",
   "execution_count": null,
   "metadata": {},
   "outputs": [],
   "source": [
    "# for pattern in ('*sig*.npy', '*bkg*.npy', '*Run_*.npy'):\n",
    "for name, data in sread('*.npy').items():\n",
    "    # print(name, data.shape)\n",
    "    if name.endswith('_weights'):\n",
    "        tmpsuffix = 'weights'\n",
    "    elif name.endswith('_values'):\n",
    "        tmpsuffix = 'values'\n",
    "    else:\n",
    "        raise ValueError(f'{name} does not end with \"_weights\" or \"_values\"')\n",
    "    tmpprefix = name.removesuffix('_weights').removesuffix('_values')\n",
    "    if tmpprefix.startswith('Run_'):\n",
    "        tmpprefix = int(tmpprefix.removeprefix('Run_').removesuffix('eval'))\n",
    "    if tmpprefix not in sdata:\n",
    "        sdata[tmpprefix] = {}\n",
    "    sdata[tmpprefix][tmpsuffix] = data"
   ]
  },
  {
   "cell_type": "code",
   "execution_count": null,
   "metadata": {},
   "outputs": [],
   "source": [
    "for name, data in sread('*Run_*.npy').items():\n",
    "    tmpprefix = name.removesuffix('_weights').removesuffix('_values')\n",
    "    if tmpprefix not in sedata:\n",
    "        sedata[tmpprefix] = {}\n",
    "    sedata[tmpprefix][name.removeprefix(tmpprefix + '_')] = data"
   ]
  },
  {
   "cell_type": "code",
   "execution_count": null,
   "metadata": {},
   "outputs": [],
   "source": []
  },
  {
   "cell_type": "code",
   "execution_count": null,
   "metadata": {},
   "outputs": [],
   "source": [
    "sedata['Run_0eval'].keys()"
   ]
  },
  {
   "cell_type": "code",
   "execution_count": null,
   "metadata": {},
   "outputs": [],
   "source": [
    "sascha_copy = {file.stem: np.load(file) for file in sascha_dir.glob('*bkg*.npy')}\n",
    "sascha_data = {}\n"
   ]
  },
  {
   "cell_type": "code",
   "execution_count": null,
   "metadata": {},
   "outputs": [],
   "source": [
    "for name in sascha_copy:\n",
    "    tmp_prefix = name.removesuffix('_values').removesuffix('_weights')\n",
    "    if tmp_prefix not in sascha_data:\n",
    "        sascha_data[tmp_prefix] = {}\n",
    "    sascha_data[tmp_prefix][name.removeprefix(tmp_prefix + '_')] = sascha_copy[name]\n",
    "del sascha_copy"
   ]
  },
  {
   "cell_type": "code",
   "execution_count": null,
   "metadata": {},
   "outputs": [],
   "source": [
    "sascha_hist = {name: np.histogram(data['values'], bins=hist_bins, weights=data['weights'])[0] for name, data in sascha_data.items()}"
   ]
  },
  {
   "cell_type": "code",
   "execution_count": null,
   "metadata": {},
   "outputs": [],
   "source": [
    "shist = {name: np.histogram(data['values'], bins=hist_bins, weights=data['weights'])[0] for name, data in tqdm(sdata.items())}"
   ]
  },
  {
   "cell_type": "code",
   "execution_count": null,
   "metadata": {},
   "outputs": [],
   "source": [
    "svar = {name: np.histogram(data['values'], bins=hist_bins, weights=data['weights']**2)[0] for name, data in tqdm(sdata.items())}"
   ]
  },
  {
   "cell_type": "code",
   "execution_count": null,
   "metadata": {},
   "outputs": [],
   "source": [
    "sthist = {name: np.histogram(data['values'], bins=hist_bins, weights=data['weights'])[0] for name, data in stdata.items()}\n",
    "sehist = {name: np.histogram(data['values'], bins=hist_bins, weights=data['weights'])[0] for name, data in sedata.items()}"
   ]
  },
  {
   "cell_type": "code",
   "execution_count": null,
   "metadata": {},
   "outputs": [],
   "source": [
    "(np.sqrt(shist['template_sig'] + shist['template_bkg']) / np.sqrt((svar['template_sig'] + svar['template_bkg']))).min()"
   ]
  },
  {
   "cell_type": "code",
   "execution_count": null,
   "metadata": {},
   "outputs": [],
   "source": [
    "plt.stairs(\n",
    "    np.sqrt(shist['template_sig'] + shist['template_bkg']),\n",
    "    hist_bins,\n",
    "    label='Poisson uncertainty',\n",
    "    # color='blue',\n",
    "    alpha=0.5,\n",
    "    fill=True,\n",
    ")\n",
    "plt.stairs(\n",
    "    np.sqrt(svar['template_sig'] + svar['template_bkg']),\n",
    "    hist_bins,\n",
    "    label='MC uncertainty',\n",
    "    # color='red',\n",
    "    alpha=0.5,\n",
    "    fill=True,\n",
    ")\n",
    "plt.legend()"
   ]
  },
  {
   "cell_type": "code",
   "execution_count": null,
   "metadata": {},
   "outputs": [],
   "source": [
    "plt.figure(figsize=(12, 10))\n",
    "plt.axvline(\n",
    "    hist_bins[shist['template_sig'].argmax()] + (hist_bins[1] - hist_bins[0]) / 2,\n",
    "    color='red',\n",
    "    linestyle='--',\n",
    "    label='max sig',\n",
    "    alpha=0.5,\n",
    ")\n",
    "plt.axvline(\n",
    "    hist_bins[(shist['template_sig'] / shist['template_bkg']).argmax()] + (hist_bins[1] - hist_bins[0]) / 2,\n",
    "    color='red',\n",
    "    linestyle=':',\n",
    "    label='max sig/bkg',\n",
    "    alpha=0.5,\n",
    ")\n",
    "# plt.hist(\n",
    "#     [hist_bins[:-1],] * 2,\n",
    "#     hist_bins,\n",
    "#     weights=[hist for name, hist in shist.items() if isinstance(name, str)],\n",
    "#     alpha=0.5,\n",
    "#     label=[name for name in shist if isinstance(name, str)],\n",
    "#     histtype='barstacked',\n",
    "# )\n",
    "# tmp_vals = 0\n",
    "# tmp_baseline = 0\n",
    "# for sb in ('template_bkg', 'template_sig'):\n",
    "#     tmp_vals += shist[sb]\n",
    "#     plt.stairs(\n",
    "#         tmp_vals,\n",
    "#         hist_bins,\n",
    "#         alpha=0.5,\n",
    "#         label=sb,\n",
    "#         baseline=tmp_baseline,\n",
    "#         fill=True,\n",
    "#     )\n",
    "#     tmp_baseline += shist[sb]\n",
    "plt.stairs(\n",
    "    shist['template_sig'],\n",
    "    hist_bins,\n",
    "    alpha=0.5,\n",
    "    label='sig',\n",
    "    fill=True,\n",
    ")\n",
    "plt.errorbar(\n",
    "    (hist_bins[:-1] + hist_bins[1:]) / 2,\n",
    "    shist['template_sig'], # + shist['template_bkg']\n",
    "    1 * np.sqrt(svar['template_sig'] + svar['template_bkg']),\n",
    "    fmt=',',\n",
    "    color='black',\n",
    "    # drawstyle='steps-mid',\n",
    "    label='bkg+sig uncertainty',\n",
    "    alpha=0.5,\n",
    ")\n",
    "for name, hist in shist.items():\n",
    "    if isinstance(name, str):\n",
    "        continue\n",
    "    plt.stairs( # hist(\n",
    "        hist - shist['template_bkg'], # hist_bins[:-1],\n",
    "        hist_bins,\n",
    "        # weights=hist - shist['template_bkg'],\n",
    "        alpha=0.01,\n",
    "        # label=name,\n",
    "        # histtype='step',\n",
    "    )\n",
    "# plt.yscale('log')\n",
    "# plt.xlim(.9, 1)\n",
    "# plt.ylim(4e1, 1.3e3)\n",
    "plt.grid()\n",
    "plt.legend()\n",
    "plt.title('pseudoexperiments - bkg template')"
   ]
  },
  {
   "cell_type": "code",
   "execution_count": null,
   "metadata": {},
   "outputs": [],
   "source": [
    "sascha_data.keys()"
   ]
  },
  {
   "cell_type": "code",
   "execution_count": null,
   "metadata": {},
   "outputs": [],
   "source": [
    "# sascha_nlls = [\n",
    "#     NLL(\n",
    "#         mu,\n",
    "#         sascha_hist[sprefix + 'eval'],\n",
    "#         sascha_hist[sprefix + 'template_sig'],\n",
    "#         sascha_hist[sprefix + 'template_bkg'],\n",
    "#     ) for mu in mus\n",
    "# ]\n",
    "sascha_nlls = NLLarray(\n",
    "    mus,\n",
    "    shist[0],\n",
    "    shist['template_sig'],\n",
    "    shist['template_bkg'],\n",
    ")"
   ]
  },
  {
   "cell_type": "code",
   "execution_count": null,
   "metadata": {},
   "outputs": [],
   "source": [
    "sascha_one_sigma = np.array(mus)[(sascha_nlls - min(sascha_nlls)) < 0.5]"
   ]
  },
  {
   "cell_type": "code",
   "execution_count": null,
   "metadata": {},
   "outputs": [],
   "source": [
    "sresults[sprefix] = (sascha_one_sigma[0], sascha_one_sigma[-1])"
   ]
  },
  {
   "cell_type": "code",
   "execution_count": null,
   "metadata": {},
   "outputs": [],
   "source": [
    "plt.plot(mus, sascha_nlls - min(sascha_nlls))\n",
    "plt.axhline(.5, color='black', linestyle='--')\n",
    "plt.axvline(mus[np.argmin(sascha_nlls)], color='C1', label=f'mu_hat: {mus[np.argmin(sascha_nlls)]:.2f}')\n",
    "# plt.axvline(sascha_one_sigma[0], color='r', label=f'p16: {sascha_one_sigma[0]:.2f}')\n",
    "# plt.axvline(sascha_one_sigma[-1], color='r', label=f'p84: {sascha_one_sigma[-1]:.2f}')\n",
    "plt.axvspan(sascha_one_sigma[0], sascha_one_sigma[-1], color='grey', alpha=0.5, label=f'p16-p84: {sascha_one_sigma[0]:.2f}-{sascha_one_sigma[-1]:.2f}')\n",
    "# plt.axvline(1.45, color='C2', label='mu_hat (Sascha)')\n",
    "# plt.axvline(1.3952, color='C3', label='mu_hat (Yulei)')\n",
    "plt.axvline(1, color='black', label='mu_true')\n",
    "# plt.plot(mus, 5.1 * (mus - mus[np.argmin(sascha_nlls)])**2, label='(mu - mu_hat)^2')\n",
    "plt.ylim(0, 2)\n",
    "plt.xlabel('mu')\n",
    "plt.ylabel('NLL - min(NLL)')\n",
    "plt.legend()\n",
    "plt.title('Comparison:' + sprefix)"
   ]
  },
  {
   "cell_type": "code",
   "execution_count": null,
   "metadata": {},
   "outputs": [],
   "source": [
    "sresults = {}"
   ]
  },
  {
   "cell_type": "code",
   "execution_count": null,
   "metadata": {},
   "outputs": [],
   "source": [
    "for name, hist in tqdm(shist.items(), 'computing results from histograms'):\n",
    "    # print(name)\n",
    "    if isinstance(name, str):\n",
    "        continue\n",
    "    snlls = NLLarray(mus, hist, shist['template_sig'], shist['template_bkg'])\n",
    "    #     NLL(\n",
    "    #         mu,\n",
    "    #         hist,\n",
    "    #         shist['template_sig'],\n",
    "    #         shist['template_bkg'],\n",
    "    #     ) for mu in mus\n",
    "    # ]\n",
    "    sresults[name] = get_results(mus, snlls)"
   ]
  },
  {
   "cell_type": "code",
   "execution_count": null,
   "metadata": {},
   "outputs": [],
   "source": [
    "intervals = np.array([t for _, t in sresults.values()])"
   ]
  },
  {
   "cell_type": "code",
   "execution_count": null,
   "metadata": {},
   "outputs": [],
   "source": [
    "assert mus[1] < intervals.min(), f'mus starts too high'\n",
    "print(f'{mus[1]:.3f} < {intervals.min():.3f}')\n",
    "assert mus[-2] > intervals.max(), f'mus ends too low'\n",
    "print(f'{mus[-2]:.3f} > {intervals.max():.3f}')\n"
   ]
  },
  {
   "cell_type": "code",
   "execution_count": null,
   "metadata": {},
   "outputs": [],
   "source": [
    "# bresult[num_bins] = (intervals.mean(), ((intervals[:, 0] < 1) & (intervals[:, 1] > 1)).mean())\n",
    "bresult.append({\n",
    "    'mean': intervals.mean(),\n",
    "    'stderr': intervals.mean(1).std() / np.sqrt(intervals.shape[0]),\n",
    "    'coverage': ((intervals[:, 0] < 1) & (intervals[:, 1] > 1)).mean(),\n",
    "    'num_pseudo_experiments': intervals.shape[0],\n",
    "    'num_bins': num_bins,\n",
    "})\n",
    "\n",
    "# print(f'mean: {bresult[num_bins][0]:.3f}, coverage: {bresult[num_bins][1]:.3f}')\n",
    "print(bresult[-1])"
   ]
  },
  {
   "cell_type": "code",
   "execution_count": null,
   "metadata": {},
   "outputs": [],
   "source": [
    "plt.figure(figsize=(12, 10))\n",
    "plt.hlines(\n",
    "    [name for name in sresults],\n",
    "    [p16 for _, (p16, _) in sresults.values()],\n",
    "    [p84 for _, (_, p84) in sresults.values()],\n",
    ")\n",
    "# plot mu_true: currently 1\n",
    "plt.axvline(1, color='black', label=f'mu_true=1')\n",
    "# plot mu_hat mean\n",
    "plt.axvline(bresult[-1]['mean'], color='r', label=f'mu_hat mean={bresult[-1][\"mean\"]:.3f}')\n",
    "# plot mu_hat stderr\n",
    "plt.axvspan(\n",
    "    bresult[-1]['mean'] - bresult[-1]['stderr'],\n",
    "    bresult[-1]['mean'] + bresult[-1]['stderr'],\n",
    "    color='r',\n",
    "    alpha=0.25,\n",
    "    label=f'mu_hat stderr={bresult[-1][\"stderr\"]:.3f}',\n",
    ")\n",
    "plt.xlabel('mu')\n",
    "plt.ylabel('pseudo-experiment')\n",
    "plt.title(f'{num_bins} histogram bins: coverage={bresult[-1][\"coverage\"]:.3f}')\n",
    "plt.legend()"
   ]
  },
  {
   "cell_type": "code",
   "execution_count": null,
   "metadata": {},
   "outputs": [],
   "source": [
    "# bresult plots of mean±stderr and coverage vs num_bins\n",
    "fig = plt.figure(figsize=(12, 10))\n",
    "plt.errorbar(\n",
    "    [b['mean'] for b in bresult],\n",
    "    [b['num_bins'] for b in bresult],\n",
    "    xerr=[b['stderr'] for b in bresult],\n",
    "    fmt='o',\n",
    "    label='mu_hat',\n",
    "    alpha=0.5,\n",
    ")\n",
    "plt.axvline(1, color='black', label='mu_true')\n",
    "plt.yscale('log')\n",
    "plt.ylabel('num_bins')\n",
    "plt.xlabel('mu_hat')\n",
    "plt.twiny()\n",
    "plt.errorbar(\n",
    "    [b['coverage'] for b in bresult],\n",
    "    [b['num_bins'] for b in bresult],\n",
    "    xerr=[np.sqrt(.682689 * (1 - .682689) / b['num_pseudo_experiments']) for b in bresult],\n",
    "    fmt='ro',\n",
    "    label='coverage',\n",
    "    alpha=0.5,\n",
    ")\n",
    "plt.axvline(.682689, color='r', linestyle='--', label='1 sigma')\n",
    "# plt.axhspan(\n",
    "#     .682689 - np.sqrt(.682689 * (1 - .682689) / bresult[-1]['num_pseudo_experiments']),\n",
    "#     .682689 + np.sqrt(.682689 * (1 - .682689) / bresult[-1]['num_pseudo_experiments']),\n",
    "#     color='grey',\n",
    "#     alpha=0.25,\n",
    "# )\n",
    "plt.xlabel('coverage')\n",
    "plt.suptitle('Results of varying num_bins')\n",
    "plt.text(.557, .9, sascha_dir.stem)\n",
    "fig.legend()"
   ]
  },
  {
   "cell_type": "code",
   "execution_count": null,
   "metadata": {},
   "outputs": [],
   "source": [
    "cresults = {\n",
    "    'Jordan': {\n",
    "        'Run_0': (0.8823613236132362, 1.1882118821188212),\n",
    "        'Run_1': (0.8945064450644507, 1.1997444974449745),\n",
    "        'Run_2': (0.8033480334803348, 1.115131151311513),\n",
    "        'Run_3': (0.9987899878998789, 1.3043430434304342),\n",
    "        'Run_4': (0.9687946879468795, 1.2695876958769587),\n",
    "        'Run_5': (0.9235392353923539, 1.232959829598296),\n",
    "        'Run_6': (1.180021800218002, 1.4898273982739827),\n",
    "        'Run_7': (1.091540915409154, 1.4003315033150332),\n",
    "        'Run_8': (1.0722382223822238, 1.378928789287893),\n",
    "        'Run_9': (1.0410879108791087, 1.3475684756847568),\n",
    "    },\n",
    "    'Sascha': {\n",
    "        'Run_0': (0.901194159732266, 1.2062761636214896),\n",
    "        'Run_1': (0.8894361103293542, 1.1950205736920794),\n",
    "        'Run_2': (0.8156946813859971, 1.1266712540266663),\n",
    "        'Run_3': (0.9982769846663299, 1.3037225824265635),\n",
    "        'Run_4': (0.9674725796855451, 1.2681422564378708),\n",
    "        'Run_5': (0.9341876695842286, 1.2431236399605807),\n",
    "        'Run_6': (1.210834505642529, 1.5191684157141783),\n",
    "        'Run_7': (1.1024395216920113, 1.4106339865777082),\n",
    "        'Run_8': (1.0826025589257644, 1.388693180595792),\n",
    "        'Run_9': (1.0624547927260337, 1.3678220195383683),\n",
    "    },\n",
    "    'Yulei': [\n",
    "        (0.8641240477713032, 1.1685347528269672),\n",
    "        (0.8534984694263906, 1.1566380803920224),\n",
    "        (0.8163559424937542, 1.1282676529144529),\n",
    "        (1.0138248845573359, 1.3189941669186172),\n",
    "        (0.9976235681984136, 1.2983202394845823),\n",
    "        (0.8384660075098151, 1.145517502230531),\n",
    "        (1.0601399318867162, 1.3669774991943608),\n",
    "        (1.0648479946635852, 1.3725732313530639),\n",
    "        (1.1072575393906805, 1.4142756561289402),\n",
    "        (0.9287805137600891, 1.2318307738852956),\n",
    "    ],\n",
    "}"
   ]
  },
  {
   "cell_type": "code",
   "execution_count": null,
   "metadata": {},
   "outputs": [],
   "source": [
    "cresults['Yulei'] = {f'Run_{j}': vals for j, vals in enumerate(cresults['Yulei'])}"
   ]
  },
  {
   "cell_type": "code",
   "execution_count": null,
   "metadata": {},
   "outputs": [],
   "source": [
    "plt.figure(figsize=(12, 10))\n",
    "plt.axvline(1, color='black', label='mu_true=1')\n",
    "for j, (name, results) in enumerate(cresults.items()):\n",
    "    plt.hlines(\n",
    "        [int(run.removeprefix('Run_')) + j/10 for run in results],\n",
    "        [p16 for p16, _ in results.values()],\n",
    "        [p84 for _, p84 in results.values()],\n",
    "        color=f'C{j}',\n",
    "        label=name,\n",
    "    )\n",
    "plt.xlabel('mu')\n",
    "plt.ylabel('Run_[number]')\n",
    "plt.legend()\n",
    "plt.title('Coverage comparison')"
   ]
  },
  {
   "cell_type": "markdown",
   "metadata": {},
   "source": [
    "## Predict mu for test data\n",
    "\n",
    "This does not include postselection cuts"
   ]
  },
  {
   "cell_type": "code",
   "execution_count": null,
   "metadata": {},
   "outputs": [],
   "source": [
    "# read data: train, valid, test\n",
    "train_set = ingestion.model.training_set.copy()\n",
    "valid_set = ingestion.model.stat_analysis.holdout_set.copy()\n",
    "ingestion.data.load_test_set()\n",
    "test_set = ingestion.data.get_test_set().copy()\n"
   ]
  },
  {
   "cell_type": "code",
   "execution_count": null,
   "metadata": {},
   "outputs": [],
   "source": [
    "pseudo_exp_data = ingestion.data.generate_pseudo_exp_data(seed=3141592653)"
   ]
  },
  {
   "cell_type": "code",
   "execution_count": null,
   "metadata": {},
   "outputs": [],
   "source": [
    "assert (pseudo_exp_data['weights'] == 1).all(), 'pseudo experiment data weights are not all one'"
   ]
  },
  {
   "cell_type": "code",
   "execution_count": null,
   "metadata": {},
   "outputs": [],
   "source": [
    "counts_df['num unweighted events'] = {name: df.shape[0] for name, df in data.get_test_set().items()}"
   ]
  },
  {
   "cell_type": "code",
   "execution_count": null,
   "metadata": {},
   "outputs": [],
   "source": [
    "counts_df.T.style.format(precision=3, thousands=',').format(precision=6, subset=('average weight',))"
   ]
  },
  {
   "cell_type": "code",
   "execution_count": null,
   "metadata": {},
   "outputs": [],
   "source": [
    "sums_by_type = {\n",
    "    name: (\n",
    "        # all_weighted_data['weights'][all_weighted_data['detailed_labels'] == name].sum(),\n",
    "        train_set['weights'][train_set['detailed_labels'] == name].sum(),\n",
    "        valid_set['weights'][valid_set['detailed_labels'] == name].sum(),\n",
    "    )\n",
    "    for name in LHC_NUMBERS\n",
    "}"
   ]
  },
  {
   "cell_type": "code",
   "execution_count": null,
   "metadata": {},
   "outputs": [],
   "source": [
    "sums_by_type['bkgd'] = (\n",
    "    all_weighted_data['weights'][all_weighted_data['labels'] == 0].sum(),\n",
    "    train_set['weights'][train_set['labels'] == 0].sum(),\n",
    "    valid_set['weights'][valid_set['labels'] == 0].sum(),\n",
    ")"
   ]
  },
  {
   "cell_type": "code",
   "execution_count": null,
   "metadata": {},
   "outputs": [],
   "source": [
    "for name, sums in sums_by_type.items():\n",
    "    print(f'{name}:\\nall: {sums[0]:.3f}, train: {sums[1]:.3f}, valid: {sums[2]:.3f}')\n",
    "    print(f'min: {min(sums[1:]):.3f}\\nmax: {max(sums[1:]):.3f}')\n",
    "    # print(min(sums[1:]) < sums[0] < max(sums[1:]))\n",
    "    if sums[0] < min(sums[1:]):\n",
    "        print(f'Warning: {name} sum of weights in all data less than in train and valid data')\n",
    "    elif sums[0] > max(sums[1:]):\n",
    "        print(f'Warning: {name} sum of weights in all data greater than in train and valid data')\n",
    "    else:\n",
    "        print(f'{name} sum of weights in all data is between train and valid data')"
   ]
  },
  {
   "cell_type": "code",
   "execution_count": null,
   "metadata": {},
   "outputs": [],
   "source": [
    "# replace LHC_NUMBERS[name] with counts_df['sum of weights'][name].round().astype(int)\n",
    "\n",
    "# for key in test_set:\n",
    "#     print(key, test_set[key].shape)\n",
    "#     assert test_set[key].shape[0] >= LHC_NUMBERS[key], f'{key} test set is too small'\n",
    "#     test_set[key] = test_set[key].copy()[:LHC_NUMBERS[key]]\n",
    "print(data.get_test_set()['htautau'].shape)\n",
    "test_set_samples = {}\n",
    "for name, df in test_set.items():\n",
    "    print(f'{name}: unweighted events={df.shape[0]}, old expectation={LHC_NUMBERS[name]}, ratio={df.shape[0] / LHC_NUMBERS[name]}, new expectation={LHC_NUMBERS_NEW[name]}')\n",
    "    assert df.shape[0] > LHC_NUMBERS_NEW[name], f'{name} test set is too small'\n",
    "    test_set_samples[name] = df[:int(LHC_NUMBERS_NEW[name] + .5)]\n",
    "test_set = test_set_samples\n",
    "print(data.get_test_set()['htautau'].shape)"
   ]
  },
  {
   "cell_type": "code",
   "execution_count": null,
   "metadata": {},
   "outputs": [],
   "source": [
    "valid_syst = systematics(valid_set.copy())"
   ]
  },
  {
   "cell_type": "code",
   "execution_count": null,
   "metadata": {},
   "outputs": [],
   "source": [
    "valid_syst['weights'].sum(), pseudo_exp_data['weights'].sum(), sum((df.shape[0] for df in test_set.values()))"
   ]
  },
  {
   "cell_type": "code",
   "execution_count": null,
   "metadata": {},
   "outputs": [],
   "source": [
    "valid_set = valid_syst"
   ]
  },
  {
   "cell_type": "code",
   "execution_count": null,
   "metadata": {},
   "outputs": [],
   "source": [
    "for name in test_set:\n",
    "    print(name, '\\n', test_set[name].shape)\n",
    "    test_set[name] = postprocess(test_set[name])\n",
    "    print(test_set[name].shape)"
   ]
  },
  {
   "cell_type": "code",
   "execution_count": null,
   "metadata": {},
   "outputs": [],
   "source": [
    "n_expected = valid_set['weights'].sum()\n",
    "n_observed = np.sum([data.shape[0] for data in test_set.values()])\n",
    "n_pseudo = pseudo_exp_data['data'].shape[0]\n",
    "\n",
    "n_expected, n_observed, n_pseudo"
   ]
  },
  {
   "cell_type": "code",
   "execution_count": null,
   "metadata": {},
   "outputs": [],
   "source": [
    "train_set['scores'] = ingestion.model.model.predict(train_set['data'])\n",
    "valid_set['scores'] = ingestion.model.model.predict(valid_set['data'])"
   ]
  },
  {
   "cell_type": "code",
   "execution_count": null,
   "metadata": {},
   "outputs": [],
   "source": [
    "\n",
    "pseudo_exp_data['scores'] = ingestion.model.model.predict(pseudo_exp_data['data'], verbose=0)"
   ]
  },
  {
   "cell_type": "code",
   "execution_count": null,
   "metadata": {},
   "outputs": [],
   "source": [
    "test_scores = {\n",
    "    name: ingestion.model.model.predict(test_set[name].drop('weights', axis=1))\n",
    "    for name in test_set.keys()\n",
    "}"
   ]
  },
  {
   "cell_type": "code",
   "execution_count": null,
   "metadata": {},
   "outputs": [],
   "source": [
    "valid_set.keys()"
   ]
  },
  {
   "cell_type": "code",
   "execution_count": null,
   "metadata": {},
   "outputs": [],
   "source": [
    "def hist_to_result(num_bins, observed, expected=valid_set):\n",
    "    hist_bins = np.linspace(0, 1, num_bins + 1)\n",
    "    sig_hist, _ = np.histogram(expected['scores'][expected['labels'] == 1], hist_bins, weights=expected['weights'][expected['labels'] == 1])\n",
    "    bkg_hist, _ = np.histogram(expected['scores'][expected['labels'] == 0], hist_bins, weights=expected['weights'][expected['labels'] == 0])\n",
    "    obs_hist, _ = np.histogram(observed['scores'], hist_bins, weights=observed['weights'])"
   ]
  },
  {
   "cell_type": "code",
   "execution_count": null,
   "metadata": {},
   "outputs": [],
   "source": [
    "histograms = { # train/valid, sig/bkgd\n",
    "    tv + sb: np.histogram(\n",
    "        dataset['scores'][dataset['labels'] == (1-j)], # testing using the label as the score\n",
    "        bins=hist_bins,\n",
    "        weights=dataset['weights'][dataset['labels'] == (1-j)],\n",
    "        # range=(0, 1),\n",
    "    )\n",
    "    for tv, dataset in {'train': train_set, 'valid': valid_set}.items()\n",
    "    for j, sb in enumerate(['_sig', '_bkgd'])\n",
    "}\n",
    "pseudo_exp_hist = np.histogram(\n",
    "    pseudo_exp_data['scores'], # testing using the label as the score\n",
    "    bins=hist_bins,\n",
    "    # weights=pseudo_exp_data['weights'], # weights are all 1\n",
    "    # range=(0, 1),\n",
    ")\n",
    "test_hist = {\n",
    "    name: np.histogram(\n",
    "        scores,\n",
    "        bins=hist_bins,\n",
    "        weights=test_set[name]['weights'],\n",
    "        # range=(0, 1),\n",
    "    )\n",
    "    for name, scores in test_scores.items()\n",
    "}"
   ]
  },
  {
   "cell_type": "code",
   "execution_count": null,
   "metadata": {},
   "outputs": [],
   "source": [
    "(histograms['valid_bkgd'][0] + histograms['valid_sig'][0]).min()"
   ]
  },
  {
   "cell_type": "code",
   "execution_count": null,
   "metadata": {},
   "outputs": [],
   "source": [
    "histograms_var ={\n",
    "    'valid_sig': np.histogram(\n",
    "        valid_set['scores'][valid_set['labels'] == 1],\n",
    "        bins=hist_bins,\n",
    "        weights=valid_set['weights'][valid_set['labels'] == 1]**2,\n",
    "    )[0],\n",
    "    'valid_bkgd':np.histogram(\n",
    "        valid_set['scores'][valid_set['labels'] == 0],\n",
    "        bins=hist_bins,\n",
    "        weights=valid_set['weights'][valid_set['labels'] == 0]**2,\n",
    "    )[0],\n",
    "}\n",
    "\n"
   ]
  },
  {
   "cell_type": "code",
   "execution_count": null,
   "metadata": {},
   "outputs": [],
   "source": [
    "(histograms['valid_bkgd'][0] + histograms['valid_sig'][0] - 1 * np.sqrt(histograms_var['valid_bkgd'] + histograms_var['valid_sig'])).min()"
   ]
  },
  {
   "cell_type": "code",
   "execution_count": null,
   "metadata": {},
   "outputs": [],
   "source": [
    "(histograms['valid_bkgd'][0] - 1 * np.sqrt(histograms_var['valid_bkgd'])).min()"
   ]
  },
  {
   "cell_type": "code",
   "execution_count": null,
   "metadata": {},
   "outputs": [],
   "source": [
    "pseudo_exp_hist[0].min(), np.sum([hist for hist, _ in test_hist.values()], axis=0).min()"
   ]
  },
  {
   "cell_type": "code",
   "execution_count": null,
   "metadata": {},
   "outputs": [],
   "source": [
    "(pseudo_exp_hist[0] == 0).sum(), pseudo_exp_hist[0].argmin(), pseudo_exp_hist[0][:5], pseudo_exp_hist[0][-5:]"
   ]
  },
  {
   "cell_type": "code",
   "execution_count": null,
   "metadata": {},
   "outputs": [],
   "source": [
    "plot_density = False\n",
    "plot_scaled = False\n",
    "\n",
    "plt.figure(figsize=(12, 10))\n",
    "for name, (hist, bins) in histograms.items():\n",
    "    plt.hist(\n",
    "        bins[:-1],\n",
    "        bins,\n",
    "        weights=hist * ((n_observed / n_expected) if plot_scaled else 1),\n",
    "        label=name + (' (scaled)' if plot_scaled else ''),\n",
    "        density=plot_density,\n",
    "        histtype='step', # if 'train' in name else 'bar',\n",
    "        alpha=.5 if 'valid' in name else 0.2,\n",
    "    )\n",
    "plt.hist(\n",
    "    hist_bins[:-1],\n",
    "    hist_bins,\n",
    "    weights=pseudo_exp_hist[0],\n",
    "    label='pseudo-experiment',\n",
    "    density=plot_density,\n",
    "    histtype='step',\n",
    "    alpha=.5,\n",
    ")\n",
    "plt.stairs(\n",
    "    histograms['valid_bkgd'][0] + histograms['valid_sig'][0],\n",
    "    hist_bins,\n",
    "    label='valid total',\n",
    ")\n",
    "# for name, (hist, bins) in test_hist.items():\n",
    "#     plt.hist(\n",
    "#         bins[:-1],\n",
    "#         bins,\n",
    "#         weights=hist,\n",
    "#         label=(name + ' (test set)'),\n",
    "#         density=plot_density,\n",
    "#         histtype='bar',\n",
    "#         stacked=True,\n",
    "#         alpha=.5,\n",
    "#     )\n",
    "# tmp_hists = []\n",
    "# tmp_weights = []\n",
    "plt.hist(\n",
    "    # [bins[:-1] for (hist, bins) in test_hist.values()],\n",
    "    [hist_bins[:-1]] * len(test_hist),\n",
    "    # test_hist['htautau'][1], # all bins are the same; pick one\n",
    "    hist_bins,\n",
    "    weights=[hist for (hist, bins) in test_hist.values()],\n",
    "    label=[name for name in test_hist],\n",
    "    density=plot_density,\n",
    "    histtype='barstacked',\n",
    ")\n",
    "# plt.ylim(0, 11e3)\n",
    "# plt.ylim(1e3, 3e5)\n",
    "# plt.yscale('log')\n",
    "plt.legend()\n",
    "plt.title('scores')"
   ]
  },
  {
   "cell_type": "code",
   "execution_count": null,
   "metadata": {},
   "outputs": [],
   "source": [
    "\n",
    "nlls = [\n",
    "    NLL(\n",
    "        mu,\n",
    "        histograms['train_sig'][0] + histograms['train_bkgd'][0],\n",
    "        histograms['valid_sig'][0],\n",
    "        histograms['valid_bkgd'][0],\n",
    "    ) for mu in mus\n",
    "]"
   ]
  },
  {
   "cell_type": "code",
   "execution_count": null,
   "metadata": {},
   "outputs": [],
   "source": [
    "plt.plot(mus, nlls - min(nlls))\n",
    "plt.axhline(.5, color='r', linestyle='--')\n",
    "plt.axvline(1, color='g', label='mu_true')\n",
    "plt.axvline(mus[np.argmin(nlls)], color='r', label='mu_hat')\n",
    "plt.xlabel('mu')\n",
    "plt.ylabel('NLL')\n",
    "plt.ylim(0, 2.5)\n",
    "plt.grid()\n",
    "plt.legend()\n",
    "plt.title('training set')\n",
    "\n",
    "f'mu_hat = {mus[np.argmin(nlls)]}'"
   ]
  },
  {
   "cell_type": "code",
   "execution_count": null,
   "metadata": {},
   "outputs": [],
   "source": [
    "test_nlls = [\n",
    "    NLL(\n",
    "        mu,\n",
    "        # test_hist['htautau'][0] + test_hist['ztautau'][0],\n",
    "        np.sum([hist for (hist, bins) in test_hist.values()], axis=0),\n",
    "        histograms['valid_sig'][0],\n",
    "        histograms['valid_bkgd'][0],\n",
    "        # scale=(n_observed / n_expected),\n",
    "    ) for mu in mus\n",
    "]"
   ]
  },
  {
   "cell_type": "code",
   "execution_count": null,
   "metadata": {},
   "outputs": [],
   "source": [
    "plt.plot(mus, test_nlls - min(test_nlls))\n",
    "plt.axhline(.5, color='r', linestyle='--')\n",
    "plt.axvline(1, color='black', label='mu_true')\n",
    "plt.xlabel('mu')\n",
    "plt.ylabel('NLL')\n",
    "# plt.xlim(.75, 1.35)\n",
    "# plt.ylim(0, 2.5)\n",
    "plt.title('test set')"
   ]
  },
  {
   "cell_type": "code",
   "execution_count": null,
   "metadata": {},
   "outputs": [],
   "source": [
    "pseudo_nlls = [\n",
    "    NLL(\n",
    "        mu,\n",
    "        pseudo_exp_hist[0],\n",
    "        histograms['valid_sig'][0],\n",
    "        histograms['valid_bkgd'][0],\n",
    "        # scale=(n_observed / n_expected),\n",
    "    ) for mu in mus\n",
    "]"
   ]
  },
  {
   "cell_type": "code",
   "execution_count": null,
   "metadata": {},
   "outputs": [],
   "source": [
    "plt.plot(mus, pseudo_nlls - min(pseudo_nlls))\n",
    "plt.axhline(.5, color='r', linestyle='--')\n",
    "plt.axvline(1, color='black', label='mu_true')\n",
    "plt.xlabel('mu')\n",
    "plt.ylabel('NLL - min(NLL)')\n",
    "# plt.ylim(0, 2.5)\n",
    "plt.title('pseudo experiment')"
   ]
  },
  {
   "cell_type": "code",
   "execution_count": null,
   "metadata": {},
   "outputs": [],
   "source": [
    "for name, v in pseudo_exp_data.items():\n",
    "    print(name, v.shape[0], name in pseudo_exp_data['data'].columns)"
   ]
  },
  {
   "cell_type": "code",
   "execution_count": null,
   "metadata": {},
   "outputs": [],
   "source": [
    "pseudo_exp_counts, pseudo_exp_data['detailed_labels'].value_counts()"
   ]
  },
  {
   "cell_type": "code",
   "execution_count": null,
   "metadata": {},
   "outputs": [],
   "source": [
    "seed_init = 3141592653\n",
    "num_pseudo_experiments = 100\n",
    "pseudo_results = []\n",
    "mu_true = 1\n",
    "pseudo_exp_frac = .1\n",
    "\n",
    "# for seed in range(seed_init, seed_init + num_pseudo_experiments):\n",
    "for j in tqdm(range(num_pseudo_experiments), f'Running {num_pseudo_experiments} pseudo-experiments'):\n",
    "    # print(f'{j / num_pseudo_experiments:.2%} complete', end='\\r', flush=True)\n",
    "    seed = seed_init + j\n",
    "    pseudo_exp_data, pseudo_exp_counts = ingestion.data.generate_pseudo_exp_data(mu_true, seed=seed, return_counts=True, lhc_frac=pseudo_exp_frac)\n",
    "    # pseudo_exp_data = {name: v[:int(v.shape[0] / 10 + .5)] for name, v in pseudo_exp_data.items()} # only keep the first 10% of the data\n",
    "    # pseudo_exp_counts = pseudo_exp_data['detailed_labels'].value_counts().to_dict()\n",
    "    pseudo_exp_data['scores'] = ingestion.model.model.predict(pseudo_exp_data['data'], verbose=0)\n",
    "    pseudo_exp_hist = np.histogram(\n",
    "        pseudo_exp_data['scores'], # testing using the labels in place of the scores\n",
    "        bins=hist_bins,\n",
    "    )\n",
    "    # pseudo_nlls = NLLarray(mus, pseudo_exp_hist[0], histograms['valid_sig'][0], histograms['valid_bkgd'][0])\n",
    "    pseudo_nlls = [\n",
    "        NLL(\n",
    "            mu,\n",
    "            pseudo_exp_hist[0],\n",
    "            histograms['valid_sig'][0] * pseudo_exp_frac,\n",
    "            histograms['valid_bkgd'][0] * pseudo_exp_frac,\n",
    "        ) for mu in mus\n",
    "    ]\n",
    "    pseudo_results.append((seed, get_results(mus, pseudo_nlls), pseudo_exp_counts))"
   ]
  },
  {
   "cell_type": "code",
   "execution_count": null,
   "metadata": {},
   "outputs": [],
   "source": [
    "intervals = np.array([result[1][1] for result in pseudo_results])"
   ]
  },
  {
   "cell_type": "code",
   "execution_count": null,
   "metadata": {},
   "outputs": [],
   "source": [
    "def sigma_fractions(intervals, mu_true=1, max_sigma=5):\n",
    "    def n_sigma(n, means, intervals):\n",
    "        return n * (intervals - means[:, None]) + means[:, None]\n",
    "    means = intervals.mean(1)\n",
    "    num_samples = intervals.shape[0]\n",
    "    frac_within = [\n",
    "        ((n_sigma(j, means, intervals)[:, 0] < mu_true) & (mu_true < n_sigma(j, means, intervals)[:, 1])).sum() / num_samples\n",
    "        for j in range(1, max_sigma + 1)\n",
    "    ]\n",
    "    return frac_within"
   ]
  },
  {
   "cell_type": "code",
   "execution_count": null,
   "metadata": {},
   "outputs": [],
   "source": [
    "for j, frac in enumerate(sigma_fractions(intervals, mu_true)):\n",
    "    print(f'fraction within {j+1} sigma: {frac:.2f}')"
   ]
  },
  {
   "cell_type": "code",
   "execution_count": null,
   "metadata": {},
   "outputs": [],
   "source": [
    "# for *_, counts in pseudo_results:\n",
    "#     print(counts['htautau'] / mu_true)\n",
    "\n",
    "valid_set['weights'][valid_set['labels'] == 1].sum(), test_set['htautau'].shape[0], np.mean([counts['htautau'] for *_, counts in pseudo_results])"
   ]
  },
  {
   "cell_type": "code",
   "execution_count": null,
   "metadata": {},
   "outputs": [],
   "source": [
    "tmp_stats = {}"
   ]
  },
  {
   "cell_type": "code",
   "execution_count": null,
   "metadata": {},
   "outputs": [],
   "source": [
    "tmp_stats['ddof'] = 1\n",
    "\n",
    "tmp_stats['mu_hat_mean'] = intervals.mean()\n",
    "tmp_stats['mu_hat_std'] = intervals.mean(1).std(ddof=tmp_stats['ddof'])\n",
    "tmp_stats['mu_hat_stderr'] = tmp_stats['mu_hat_std'] / np.sqrt(intervals.shape[0])\n",
    "tmp_stats['width_mean'] = (intervals[:, 1] - intervals[:, 0]).mean()\n",
    "tmp_stats['width_std'] = (intervals[:, 1] - intervals[:, 0]).std(ddof=tmp_stats['ddof'])"
   ]
  },
  {
   "cell_type": "code",
   "execution_count": null,
   "metadata": {},
   "outputs": [],
   "source": [
    "tmp_stats"
   ]
  },
  {
   "cell_type": "code",
   "execution_count": null,
   "metadata": {},
   "outputs": [],
   "source": [
    "tmp_stats['mu_hat_std'] * 2, tmp_stats['width_mean']"
   ]
  },
  {
   "cell_type": "code",
   "execution_count": null,
   "metadata": {},
   "outputs": [],
   "source": [
    "(tmp_stats['mu_hat_mean'] - mu_true) / tmp_stats['mu_hat_stderr']"
   ]
  },
  {
   "cell_type": "code",
   "execution_count": null,
   "metadata": {},
   "outputs": [],
   "source": [
    "plt.figure(figsize=(12, 10))\n",
    "# plot mu_hat\n",
    "plt.plot(\n",
    "    [result[1][0] for result in pseudo_results],\n",
    "    [seed for seed, *_ in pseudo_results],\n",
    "    '.',\n",
    "    label='mu_hat',\n",
    "    # alpha=0.5,\n",
    ")\n",
    "# plot mu_hat error bars\n",
    "plt.hlines(\n",
    "    [seed for seed, *_ in pseudo_results],\n",
    "    [result[1][1][0] for result in pseudo_results],\n",
    "    [result[1][1][1] for result in pseudo_results],\n",
    "    # linestyles='solid',\n",
    "    # label='p16-p84',\n",
    "    # alpha=0.5,\n",
    ")\n",
    "# plot mu_true\n",
    "plt.axvline(mu_true, color='black', label=f'{mu_true=}')\n",
    "# plot mu_hat mean\n",
    "plt.axvline(intervals.mean(1).mean(), color='r', label=f'mu_hat_mean={intervals.mean(1).mean():.3f}')\n",
    "# plot mu_hat stderr\n",
    "plt.axvspan(\n",
    "    intervals.mean() - intervals.mean(1).std() / np.sqrt(intervals.shape[0]),\n",
    "    intervals.mean() + intervals.mean(1).std() / np.sqrt(intervals.shape[0]),\n",
    "    color='r',\n",
    "    alpha=0.25,\n",
    "    label=f'mu_hat stderr={intervals.mean(1).std() / np.sqrt(intervals.shape[0]):.3f}',\n",
    ")\n",
    "plt.xlabel('mu')\n",
    "plt.ylabel(f'pseudo experiment seed')\n",
    "# plt.twiny()\n",
    "# plot mu_ideal = sig_observed / sig_expected\n",
    "plt.plot(\n",
    "    [counts['htautau'] / (pseudo_exp_frac * valid_set['weights'][valid_set['labels'] == 1].sum()) for *_, counts in pseudo_results],\n",
    "    [seed for seed, *_ in pseudo_results],\n",
    "    '.',\n",
    "    color='C1',\n",
    "    label='mu_ideal',\n",
    "    # alpha=0.5,\n",
    ")\n",
    "# plot mu_ideal error bars\n",
    "plt.hlines(\n",
    "    [seed for seed, *_ in pseudo_results],\n",
    "    [(counts['htautau'] - np.sqrt(counts['htautau'])) / (pseudo_exp_frac * valid_set['weights'][valid_set['labels'] == 1].sum()) for *_, counts in pseudo_results],\n",
    "    [(counts['htautau'] + np.sqrt(counts['htautau'])) / (pseudo_exp_frac * valid_set['weights'][valid_set['labels'] == 1].sum()) for *_, counts in pseudo_results],\n",
    "    color='C1',\n",
    "    # linestyles='dashed',\n",
    "    # label='p16-p84 poisson',\n",
    "    # alpha=0.5,\n",
    ")\n",
    "# plt.xlim(0, 3)\n",
    "plt.title(f'{num_bins} bins; luminosity fraction={pseudo_exp_frac:.2%}')\n",
    "plt.legend()"
   ]
  },
  {
   "cell_type": "code",
   "execution_count": null,
   "metadata": {},
   "outputs": [],
   "source": [
    "len(hist_bins) - 1, (mus[0], mus[-1], len(mus))"
   ]
  },
  {
   "cell_type": "code",
   "execution_count": null,
   "metadata": {},
   "outputs": [],
   "source": [
    "plt.hist(\n",
    "    (intervals.mean(1) - mu_true) / ((intervals[:, 1] - intervals[:, 0]) / 2), # pulls\n",
    "    bins=20,\n",
    ")\n",
    "plt.xlabel('pull')"
   ]
  },
  {
   "cell_type": "code",
   "execution_count": null,
   "metadata": {},
   "outputs": [],
   "source": [
    "for name in valid_set['data'].columns:\n",
    "    if valid_set['data'][name].dtype != np.float32:\n",
    "        print('Train:', name, valid_set['data'][name].dtype)\n",
    "    if pseudo_exp_data['data'][name].dtype != np.float32:\n",
    "        print('Test: ', name, pseudo_exp_data['data'][name].dtype)"
   ]
  },
  {
   "cell_type": "code",
   "execution_count": null,
   "metadata": {},
   "outputs": [],
   "source": [
    "def pull_hist(intervals, mu_true=1, bins=100):\n",
    "    pulls = (intervals.mean(1) - mu_true) / ((intervals[:, 1] - intervals[:, 0]) / 2)\n",
    "    return np.histogram(pulls, bins=bins)"
   ]
  },
  {
   "cell_type": "code",
   "execution_count": null,
   "metadata": {},
   "outputs": [],
   "source": []
  },
  {
   "cell_type": "code",
   "execution_count": null,
   "metadata": {},
   "outputs": [],
   "source": [
    "plt.plot((intervals[:, 1] - intervals[:, 0]) / 2, '.')\n",
    "plt.xlabel('pseudo experiment')\n",
    "plt.ylabel('one sigma width')\n",
    "# plt.twinx()\n",
    "# plt.plot(intervals.mean(1), '.', color='r')\n",
    "# plt.ylabel('mu_hat')"
   ]
  },
  {
   "cell_type": "markdown",
   "metadata": {},
   "source": [
    "***\n",
    "# Score\n",
    "***\n",
    "1. Compute Scores\n",
    "2. Visualize Scores\n"
   ]
  },
  {
   "cell_type": "code",
   "execution_count": null,
   "metadata": {},
   "outputs": [],
   "source": []
  },
  {
   "cell_type": "code",
   "execution_count": null,
   "metadata": {},
   "outputs": [],
   "source": [
    "from score import Scoring"
   ]
  },
  {
   "cell_type": "code",
   "execution_count": null,
   "metadata": {},
   "outputs": [],
   "source": [
    "# Initialize Score\n",
    "score = Scoring()"
   ]
  },
  {
   "cell_type": "code",
   "execution_count": null,
   "metadata": {},
   "outputs": [],
   "source": [
    "score.load_ingestion_results(output_dir)\n",
    "score.ingestion_results.sort(key=lambda d: np.mean(d['mu_hats']))"
   ]
  },
  {
   "cell_type": "code",
   "execution_count": null,
   "metadata": {},
   "outputs": [],
   "source": [
    "tmp_systematics_used = ['', 'jes', 'tes']\n",
    "\n",
    "plt.subplots(3, sharex=True)\n",
    "for i, suffix in enumerate(tmp_systematics_used, start=1):\n",
    "    score.load_ingestion_results(output_dir + '/' + suffix)\n",
    "    for dictionary in score.ingestion_results:\n",
    "        for s, l in dictionary.items():\n",
    "            dictionary[s] = np.array(l)\n",
    "    score.ingestion_results.sort(key=lambda d: np.mean(d['mu_hats']))\n",
    "    plt.subplot(3, 1, i)\n",
    "    for j, result in enumerate(score.ingestion_results):\n",
    "        plt.errorbar(\n",
    "            result['mu_hats'],\n",
    "            np.arange(len(result['mu_hats'])),\n",
    "            xerr=result['delta_mu_hats'] / 2,\n",
    "            fmt='.',\n",
    "            label=f'mu_true: {j}',\n",
    "        )\n",
    "    plt.xticks(np.arange(5))\n",
    "    plt.grid(axis='x')\n",
    "plt.xlabel('mu')\n",
    "    # plt.title()\n",
    "plt.legend()"
   ]
  },
  {
   "cell_type": "code",
   "execution_count": null,
   "metadata": {},
   "outputs": [],
   "source": [
    "tmp_systematics_used = ['', 'jes', 'tes']\n",
    "tmp_sigma = .682689\n",
    "\n",
    "plt.subplots(2, sharex=True)\n",
    "for i, suffix in enumerate(tmp_systematics_used):\n",
    "    score.load_ingestion_results(output_dir + '/' + suffix)\n",
    "    for dictionary in score.ingestion_results:\n",
    "        for s, l in dictionary.items():\n",
    "            dictionary[s] = np.array(l)\n",
    "    score.ingestion_results.sort(key=lambda d: np.mean(d['mu_hats']))\n",
    "    plt.subplot(211)\n",
    "    plt.errorbar(\n",
    "        [np.mean(d['mu_hats']) for d in score.ingestion_results],\n",
    "        np.repeat(i, len(score.ingestion_results)),\n",
    "        xerr=[np.mean(d['delta_mu_hats']) / 2 for d in score.ingestion_results], # np.std(d['mu_hats']) / np.sqrt(len(d['mu_hats']))\n",
    "        fmt='.',\n",
    "        label=suffix or 'stat_only',\n",
    "    )\n",
    "    plt.subplot(212)\n",
    "    plt.errorbar(\n",
    "        np.arange(len(score.ingestion_results)),\n",
    "        [np.mean((d['p16'] <= j) & (j <= d['p84'])) for j, d in enumerate(score.ingestion_results)],\n",
    "        yerr=[np.sqrt(tmp_sigma * (1 - tmp_sigma) / len(d['mu_hats'])) for d in score.ingestion_results.values()],\n",
    "        marker='.',\n",
    "        label=suffix or 'stat_only',\n",
    "    )\n",
    "plt.axhline(tmp_sigma, color='black')\n",
    "plt.xlabel('mu')\n",
    "plt.ylabel('coverage')\n",
    "# plt.legend()\n",
    "plt.grid()\n",
    "plt.subplot(211)\n",
    "plt.grid()\n",
    "plt.yticks(np.arange(len(tmp_systematics_used)), [s or 'stat_only' for s in tmp_systematics_used])"
   ]
  },
  {
   "cell_type": "code",
   "execution_count": null,
   "metadata": {},
   "outputs": [],
   "source": [
    "event_categories = pd.CategoricalDtype(['stat_only', 'jes_counts', 'tes_counts'], True)\n",
    "\n",
    "event_counts_list = []\n",
    "for d in event_categories.categories:\n",
    "    tmp_df = pd.concat(\n",
    "        [pd.read_csv(fname) for fname in Path(output_dir, d).glob('*.csv')],\n",
    "        ignore_index=True,\n",
    "    )\n",
    "    tmp_df['syst'] = pd.Series([d], dtype=event_categories).repeat(len(tmp_df)).reset_index(drop=True)\n",
    "    event_counts_list.append(tmp_df)\n",
    "event_counts_df = pd.concat(event_counts_list, ignore_index=True)"
   ]
  },
  {
   "cell_type": "code",
   "execution_count": null,
   "metadata": {},
   "outputs": [],
   "source": [
    "plt.errorbar(\n",
    "    np.arange(len(event_categories.categories)),\n",
    "    [event_counts_df['counts'][event_counts_df['syst'] == cat].mean() for cat in event_categories.categories],\n",
    "    yerr=[event_counts_df['counts'][event_counts_df['syst'] == cat].std() for cat in event_categories.categories],\n",
    "    fmt='.',\n",
    "    # tick_label=event_categories.categories,\n",
    "    label='std',\n",
    ")\n",
    "plt.errorbar(\n",
    "    np.arange(len(event_categories.categories)),\n",
    "    [event_counts_df['counts'][event_counts_df['syst'] == cat].mean() for cat in event_categories.categories],\n",
    "    yerr=[np.sqrt(event_counts_df['counts'][event_counts_df['syst'] == cat].mean()) for cat in event_categories.categories],\n",
    "    fmt='.',\n",
    "    # tick_label=event_categories.categories,\n",
    "    label='sqrt(N)',\n",
    ")\n",
    "plt.xticks(np.arange(len(event_categories.categories)), event_categories.categories)\n",
    "plt.ylabel('number of events in pseudo-experiments')\n",
    "plt.legend()"
   ]
  },
  {
   "cell_type": "code",
   "execution_count": null,
   "metadata": {},
   "outputs": [],
   "source": [
    "def tmp_add_lines():\n",
    "    tmp_count_mean = event_counts_df['counts'][event_counts_df['syst'] == 'stat_only'].mean()\n",
    "    tmp_count_std = event_counts_df['counts'][event_counts_df['syst'] == 'stat_only'].std()\n",
    "    plt.axhline(tmp_count_mean, color='black')\n",
    "    plt.axhspan(tmp_count_mean - tmp_count_std, tmp_count_mean + tmp_count_std, color='grey', alpha=.25)\n",
    "    plt.axvline(1, color='black', linestyle='--')\n",
    "\n",
    "plt.subplots(1, 2, sharey=True, figsize=(16, 10))\n",
    "plt.subplot(121)\n",
    "plt.plot(\n",
    "    'tes',\n",
    "    'counts',\n",
    "    '.',\n",
    "    data=event_counts_df[event_counts_df['syst'] == 'tes_counts'],\n",
    "    label='tes',\n",
    ")\n",
    "tmp_add_lines()\n",
    "plt.xlabel('tes')\n",
    "plt.ylabel('event counts')\n",
    "plt.subplot(122)\n",
    "plt.plot(\n",
    "    'jes',\n",
    "    'counts',\n",
    "    '.',\n",
    "    # color='C1',\n",
    "    data=event_counts_df[event_counts_df['syst'] == 'jes_counts'],\n",
    "    label='jes',\n",
    ")\n",
    "tmp_add_lines()\n",
    "plt.xlabel('jes')"
   ]
  },
  {
   "cell_type": "code",
   "execution_count": null,
   "metadata": {},
   "outputs": [],
   "source": [
    "# Compute Score\n",
    "score.compute_scores(test_settings)"
   ]
  },
  {
   "cell_type": "code",
   "execution_count": null,
   "metadata": {},
   "outputs": [],
   "source": [
    "# Visualize scatter plot of ground truth mu and predicted mu\n",
    "visualize_scatter(\n",
    "    # ingestion_result_dict=ingestion.results_dict,\n",
    "    ingestion_result_dict={j: d for j, d in enumerate(score.ingestion_results)},\n",
    "    ground_truth_mus=test_settings[\"ground_truth_mus\"],\n",
    ")"
   ]
  },
  {
   "cell_type": "code",
   "execution_count": null,
   "metadata": {},
   "outputs": [],
   "source": [
    "# Visualize coverage\n",
    "visualize_coverage(\n",
    "    # ingestion_result_dict=ingestion.results_dict,\n",
    "    ingestion_result_dict={j: d for j, d in enumerate(score.ingestion_results)},\n",
    "    ground_truth_mus=test_settings[\"ground_truth_mus\"],\n",
    ")"
   ]
  },
  {
   "cell_type": "markdown",
   "metadata": {},
   "source": [
    "***\n",
    "# Submission\n",
    "***"
   ]
  },
  {
   "cell_type": "markdown",
   "metadata": {},
   "source": [
    "### **Prepare the submission**"
   ]
  },
  {
   "cell_type": "code",
   "execution_count": 12,
   "metadata": {},
   "outputs": [],
   "source": [
    "def zipdir(archivename, basedir):\n",
    "    '''Zip directory, from J.F. Sebastian http://stackoverflow.com/'''\n",
    "    assert os.path.isdir(basedir)\n",
    "    with closing(ZipFile(archivename, \"w\", ZIP_DEFLATED)) as z:\n",
    "        for root, dirs, files in os.walk(basedir):\n",
    "            # NOTE: ignore empty directories\n",
    "            for fn in files:\n",
    "                if fn[-4:] != '.zip' and fn != '.DS_Store':\n",
    "                    absfn = os.path.join(root, fn)\n",
    "                    zfn = absfn[len(basedir):]  # XXX: relative path\n",
    "                    z.write(absfn, zfn)"
   ]
  },
  {
   "cell_type": "code",
   "execution_count": 13,
   "metadata": {},
   "outputs": [
    {
     "name": "stdout",
     "output_type": "stream",
     "text": [
      "Submit : Submission_24-11-01-11-16.zip to the competition\n",
      "You can find the zip file in `HEP-Challenge/\n"
     ]
    }
   ],
   "source": [
    "the_date = datetime.datetime.now().strftime(\"%y-%m-%d-%H-%M\")\n",
    "code_submission = 'Submission_' + the_date + '.zip'\n",
    "zipdir(code_submission, submission_dir)\n",
    "print(\"Submit : \" + code_submission + \" to the competition\")\n",
    "print(\"You can find the zip file in `HEP-Challenge/\")"
   ]
  },
  {
   "cell_type": "code",
   "execution_count": null,
   "metadata": {},
   "outputs": [],
   "source": []
  }
 ],
 "metadata": {
  "kernelspec": {
   "display_name": "FairUniverse4",
   "language": "python",
   "name": "python3"
  },
  "language_info": {
   "codemirror_mode": {
    "name": "ipython",
    "version": 3
   },
   "file_extension": ".py",
   "mimetype": "text/x-python",
   "name": "python",
   "nbconvert_exporter": "python",
   "pygments_lexer": "ipython3",
   "version": "3.11.9"
  }
 },
 "nbformat": 4,
 "nbformat_minor": 4
}
