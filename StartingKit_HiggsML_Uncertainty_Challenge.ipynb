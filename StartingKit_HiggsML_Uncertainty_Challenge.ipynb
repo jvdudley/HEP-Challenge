{
 "cells": [
  {
   "cell_type": "markdown",
   "metadata": {},
   "source": [
    "# Starting Kit - FAIR UNIVERSE: HIGGSML UNCERTAINTY CHALLENGE\n",
    "\n",
    "For Overview and Decsiptions of the competition, please visit the competition page"
   ]
  },
  {
   "cell_type": "markdown",
   "metadata": {},
   "source": [
    "## Setup\n",
    "`COLAB` determines whether this notebook is running on Google Colab."
   ]
  },
  {
   "cell_type": "code",
   "execution_count": 1,
   "metadata": {},
   "outputs": [],
   "source": [
    "COLAB = 'google.colab' in str(get_ipython())"
   ]
  },
  {
   "cell_type": "code",
   "execution_count": 2,
   "metadata": {},
   "outputs": [],
   "source": [
    "if COLAB:\n",
    "    # clone github repo\n",
    "    !git clone https://github.com/FAIR-Universe/HEP-Challenge.git\n",
    "    !pip install iminuit\n",
    "\n",
    "    # move to the HEP starting kit folder\n",
    "    %cd HEP-Challenge/"
   ]
  },
  {
   "cell_type": "code",
   "execution_count": 3,
   "metadata": {},
   "outputs": [],
   "source": [
    "TEST_SETTINGS = {\n",
    "\"systematics\": {  # Systematics to use\n",
    "    \"tes\": False, # tau energy scale\n",
    "    \"jes\": False, # jet energy scale\n",
    "    \"soft_met\": False, # soft term in MET\n",
    "    \"ttbar_scale\": False, # ttbar scale factor\n",
    "    \"diboson_scale\": False, # diboson scale factor\n",
    "    \"bkg_scale\": False, # Background scale factor\n",
    "    },\n",
    "\"num_pseudo_experiments\" : 2 , # Number of pseudo-experiments to run per set\n",
    "\"num_of_sets\" : 5, # Number of sets of pseudo-experiments to run\n",
    "} \n",
    "\n",
    "USE_RANDOM_MUS = True"
   ]
  },
  {
   "cell_type": "markdown",
   "metadata": {},
   "source": [
    "## Existing Submissions\n",
    "By this point you should have a clone of the repo which contains `HiggsML_Dummy_Submission.zip` which you can submit to the Competition\n",
    "\n",
    "For more sample submissions please check `/HEP-Challenge/example_submissions/`"
   ]
  },
  {
   "cell_type": "markdown",
   "metadata": {},
   "source": [
    "### Imports"
   ]
  },
  {
   "cell_type": "code",
   "execution_count": 4,
   "metadata": {},
   "outputs": [],
   "source": [
    "from sys import path\n",
    "import numpy as np\n",
    "import pandas as pd\n",
    "import json\n",
    "import matplotlib.pyplot as plt\n",
    "from itertools import product\n",
    "from numpy.random import RandomState\n",
    "import warnings\n",
    "import os\n",
    "import sys\n",
    "warnings.filterwarnings(\"ignore\")"
   ]
  },
  {
   "cell_type": "markdown",
   "metadata": {},
   "source": [
    "### Directories"
   ]
  },
  {
   "cell_type": "code",
   "execution_count": 5,
   "metadata": {},
   "outputs": [
    {
     "name": "stdout",
     "output_type": "stream",
     "text": [
      "Root directory is /clusterfs/ml4hep/jvdudley/projects/FairUniverse/examples/HEP-Challenge\n"
     ]
    }
   ],
   "source": [
    "\n",
    "root_dir = os.getcwd()\n",
    "print(\"Root directory is\", root_dir)\n",
    "\n",
    "input_dir = os.path.join(root_dir, \"input_data\")\n",
    "output_dir = os.path.join(root_dir, \"sample_result_submission\")\n",
    "submission_dir = os.path.join(root_dir, \"sample_code_submission\")\n",
    "program_dir = os.path.join(root_dir, \"ingestion_program\")\n",
    "score_dir = os.path.join(root_dir, \"scoring_program\")\n",
    "    \n",
    "test_settings = TEST_SETTINGS.copy()\n",
    "\n",
    "if USE_RANDOM_MUS:\n",
    "    test_settings[ \"ground_truth_mus\"] = (np.random.uniform(0.1, 3, test_settings[\"num_of_sets\"])).tolist()\n",
    "    \n",
    "    random_settings_file = os.path.join(output_dir, \"random_mu.json\")\n",
    "    with open(random_settings_file, \"w\") as f:\n",
    "        json.dump(test_settings, f)\n",
    "else:\n",
    "    test_settings_file = os.path.join(input_dir, \"test\", \"settings\", \"data.json\")\n",
    "    with open(test_settings_file) as f:\n",
    "        test_settings = json.load(f)\n"
   ]
  },
  {
   "cell_type": "markdown",
   "metadata": {},
   "source": [
    "\n",
    "### Add directories to path"
   ]
  },
  {
   "cell_type": "code",
   "execution_count": 6,
   "metadata": {},
   "outputs": [],
   "source": [
    "path.append(program_dir)\n",
    "path.append(submission_dir)\n",
    "path.append(score_dir)"
   ]
  },
  {
   "cell_type": "markdown",
   "metadata": {},
   "source": [
    "***\n",
    "# Internal imports\n",
    "***"
   ]
  },
  {
   "cell_type": "code",
   "execution_count": 7,
   "metadata": {},
   "outputs": [],
   "source": [
    "from visualization import *\n",
    "from systematics import systematics"
   ]
  },
  {
   "cell_type": "markdown",
   "metadata": {},
   "source": [
    "***\n",
    "# Import Submission Model\n",
    "***\n",
    "We import a class named `Model` from the submission file (`model.py`). This `Model` class has the following methods:\n",
    "- `init`: receives train set and systematics class as input\n",
    "- `fit`: can be used for training\n",
    "- `predict`: receives one test set and outputs a dictionary with the following keys\n",
    "    - `mu_hat` : predicted mu $\\hat{\\mu}$\n",
    "    - `delta_mu_hat`: $\\Delta{\\hat{\\mu}}$ bound for $\\mu$\n",
    "    - `p16`: 16th percentile\n",
    "    - `p84`: 84th percentile\n",
    "\n",
    "In this example code, the `Model` class implements an XGBoost model which is trained to predict both the TES and the class label. You can find the code in `HEP-Challenge/sample_code_submission/model.py`. You can modify it the way you want, keeping the required class structure and functions there. More instructions are given inside the `model.py` file. If running in Collab, click the folder icon in the left sidebar to open the file browser.\n",
    "\n",
    "### ⚠️ Note:\n",
    "In real setting i.e. the challenge itself, the submitted model is initialized once with train set and systematics class and the `predict` is called multiple times, each time with a different test sets. "
   ]
  },
  {
   "cell_type": "code",
   "execution_count": 8,
   "metadata": {},
   "outputs": [],
   "source": [
    "from model import Model\n",
    "from datasets import Data"
   ]
  },
  {
   "cell_type": "markdown",
   "metadata": {},
   "source": [
    "***\n",
    "## Data\n",
    "***\n",
    "\n",
    "### ⚠️ Note:\n",
    "The data used here is a small sample data is for demonstration only to get a view of what the data looks like. "
   ]
  },
  {
   "cell_type": "markdown",
   "metadata": {},
   "source": [
    "`USE_PUBLIC_DATASET` determines whether to use a public dataset provided for the participants or use a small sample datafor quick execution of this notebook"
   ]
  },
  {
   "cell_type": "code",
   "execution_count": 9,
   "metadata": {},
   "outputs": [],
   "source": [
    "USE_PUBLIC_DATASET = True"
   ]
  },
  {
   "cell_type": "markdown",
   "metadata": {},
   "source": [
    "`USE_PUBLIC_DATASET` determines whether to use a public dataset provided for the participants or use a small subset of the data for quick execution of this notebook"
   ]
  },
  {
   "cell_type": "code",
   "execution_count": 10,
   "metadata": {},
   "outputs": [],
   "source": [
    "if USE_PUBLIC_DATASET:\n",
    "    from datasets import Neurips2024_public_dataset as public_dataset\n",
    "    data = public_dataset()\n",
    "else:\n",
    "    data = Data(input_dir)"
   ]
  },
  {
   "cell_type": "markdown",
   "metadata": {},
   "source": [
    "The function loads the downloaded data in the public_data folder or downloads the data from codabench using `wget` in the absence of the downloaded data, "
   ]
  },
  {
   "cell_type": "code",
   "execution_count": 11,
   "metadata": {},
   "outputs": [
    {
     "name": "stdout",
     "output_type": "stream",
     "text": [
      "[*] Loading Train data\n",
      "<class 'pandas.core.frame.DataFrame'>\n",
      "RangeIndex: 71566438 entries, 0 to 71566437\n",
      "Columns: 28 entries, PRI_lep_pt to DER_lep_eta_centrality\n",
      "dtypes: float32(28)\n",
      "memory usage: 7.5 GB\n",
      "None\n",
      "[+] Train data loaded successfully\n"
     ]
    }
   ],
   "source": [
    "# load train set\n",
    "data.load_train_set()"
   ]
  },
  {
   "cell_type": "code",
   "execution_count": 12,
   "metadata": {},
   "outputs": [
    {
     "name": "stdout",
     "output_type": "stream",
     "text": [
      "[*] Loading Test data\n"
     ]
    },
    {
     "name": "stdout",
     "output_type": "stream",
     "text": [
      "[+] Test data loaded successfully\n"
     ]
    }
   ],
   "source": [
    "# load test sets\n",
    "data.load_test_set()"
   ]
  },
  {
   "cell_type": "markdown",
   "metadata": {},
   "source": [
    "***\n",
    "# Visualize\n",
    "***\n",
    "- Visualize Train set"
   ]
  },
  {
   "cell_type": "code",
   "execution_count": null,
   "metadata": {},
   "outputs": [],
   "source": [
    "train_visualize = Dataset_visualise(\n",
    "    data_set=data.get_train_set(),\n",
    "    columns=[\n",
    "        \"PRI_jet_leading_pt\",\n",
    "        \"PRI_met\",\n",
    "        \"DER_mass_vis\",\n",
    "        \"DER_mass_jet_jet\",\n",
    "        \"DER_sum_pt\",\n",
    "    ],\n",
    "    name=\"Train Set\",\n",
    ")"
   ]
  },
  {
   "cell_type": "code",
   "execution_count": null,
   "metadata": {},
   "outputs": [],
   "source": [
    "# Show data summary\n",
    "train_visualize.examine_dataset()"
   ]
  },
  {
   "cell_type": "code",
   "execution_count": null,
   "metadata": {},
   "outputs": [],
   "source": [
    "# Show data summary\n",
    "train_visualize.histogram_dataset()"
   ]
  },
  {
   "cell_type": "code",
   "execution_count": null,
   "metadata": {},
   "outputs": [],
   "source": [
    "train_visualize.stacked_histogram(\"DER_deltar_had_lep\")"
   ]
  },
  {
   "cell_type": "code",
   "execution_count": null,
   "metadata": {},
   "outputs": [],
   "source": [
    "# Show data summary\n",
    "train_visualize.pair_plots(sample_size=100)"
   ]
  },
  {
   "cell_type": "code",
   "execution_count": null,
   "metadata": {},
   "outputs": [],
   "source": [
    "syst_train_data = data.get_syst_train_set()"
   ]
  },
  {
   "cell_type": "code",
   "execution_count": null,
   "metadata": {},
   "outputs": [],
   "source": [
    "# Pair plots of train set with systematics\n",
    "train_visualize.pair_plots_syst(syst_train_data[\"data\"], sample_size=100)"
   ]
  },
  {
   "cell_type": "code",
   "execution_count": null,
   "metadata": {},
   "outputs": [],
   "source": [
    "bootstraped_data = data.generate_psuedo_exp_data()"
   ]
  },
  {
   "cell_type": "code",
   "execution_count": null,
   "metadata": {},
   "outputs": [],
   "source": [
    "# Show data summary\n",
    "train_visualize.examine_dataset()"
   ]
  },
  {
   "cell_type": "code",
   "execution_count": null,
   "metadata": {},
   "outputs": [],
   "source": [
    "print(\"sum of weights = \", (bootstraped_data[\"weights\"]).sum())"
   ]
  },
  {
   "cell_type": "markdown",
   "metadata": {},
   "source": [
    "***\n",
    "# Program\n",
    "***\n"
   ]
  },
  {
   "cell_type": "code",
   "execution_count": 13,
   "metadata": {},
   "outputs": [],
   "source": [
    "\n",
    "from ingestion import Ingestion\n",
    "\n",
    "ingestion = Ingestion(data)\n"
   ]
  },
  {
   "cell_type": "code",
   "execution_count": 14,
   "metadata": {},
   "outputs": [
    {
     "name": "stdout",
     "output_type": "stream",
     "text": [
      "[*] Initializing Submmited Model\n",
      "[*] Loading Train data\n",
      "<class 'pandas.core.frame.DataFrame'>\n",
      "RangeIndex: 71566438 entries, 0 to 71566437\n",
      "Columns: 28 entries, PRI_lep_pt to DER_lep_eta_centrality\n",
      "dtypes: float32(28)\n",
      "memory usage: 7.5 GB\n",
      "None\n",
      "[+] Train data loaded successfully\n",
      "Full data:  (71566438, 28)\n",
      "Full Labels:  (71566438,)\n",
      "Full Weights:  (71566438,)\n",
      "sum_signal_weights:  3639.452945491281\n",
      "sum_bkg_weights:  3746751.113618623\n",
      " \n",
      " \n",
      "Full size of the data is 71566438\n",
      "Train size is 43408271\n",
      "Test size is 35783219\n",
      "Training Data:  (43408271, 28)\n",
      "Training Labels:  (43408271,)\n",
      "Training Weights:  (43408271,)\n",
      "sum_signal_weights:  3639.4529454912804\n",
      "sum_bkg_weights:  3746751.113618624\n",
      "\n",
      "Valid Data:  (35783219, 28)\n",
      "Valid Labels:  (35783219,)\n",
      "Valid Weights:  (35783219,)\n",
      "sum_signal_weights:  3639.452945491285\n",
      "sum_bkg_weights:  3746751.113618623\n",
      " \n",
      " \n",
      "Training Data:  (43408271, 28)\n"
     ]
    },
    {
     "name": "stderr",
     "output_type": "stream",
     "text": [
      "2024-07-15 10:09:05.286605: E external/local_xla/xla/stream_executor/cuda/cuda_dnn.cc:9261] Unable to register cuDNN factory: Attempting to register factory for plugin cuDNN when one has already been registered\n",
      "2024-07-15 10:09:05.286638: E external/local_xla/xla/stream_executor/cuda/cuda_fft.cc:607] Unable to register cuFFT factory: Attempting to register factory for plugin cuFFT when one has already been registered\n",
      "2024-07-15 10:09:05.287532: E external/local_xla/xla/stream_executor/cuda/cuda_blas.cc:1515] Unable to register cuBLAS factory: Attempting to register factory for plugin cuBLAS when one has already been registered\n",
      "2024-07-15 10:09:05.293087: I tensorflow/core/platform/cpu_feature_guard.cc:182] This TensorFlow binary is optimized to use available CPU instructions in performance-critical operations.\n",
      "To enable the following instructions: SSE4.1 SSE4.2 AVX AVX2 AVX512F FMA, in other operations, rebuild TensorFlow with the appropriate compiler flags.\n",
      "2024-07-15 10:09:11.917559: I tensorflow/core/common_runtime/gpu/gpu_device.cc:1929] Created device /job:localhost/replica:0/task:0/device:GPU:0 with 13870 MB memory:  -> device: 7, name: Tesla V100-SXM2-16GB, pci bus id: 0000:b3:00.0, compute capability: 7.0\n"
     ]
    },
    {
     "name": "stdout",
     "output_type": "stream",
     "text": [
      "8 Physical GPUs, 1 Logical GPUs\n",
      "Model is TF NN\n"
     ]
    }
   ],
   "source": [
    "\n",
    "# initialize submission\n",
    "ingestion.init_submission(Model)"
   ]
  },
  {
   "cell_type": "code",
   "execution_count": null,
   "metadata": {},
   "outputs": [],
   "source": [
    "\n",
    "# fit submission\n",
    "ingestion.fit_submission()"
   ]
  },
  {
   "cell_type": "code",
   "execution_count": null,
   "metadata": {},
   "outputs": [],
   "source": [
    "\n",
    "# load test set\n",
    "data.load_test_set()"
   ]
  },
  {
   "cell_type": "code",
   "execution_count": null,
   "metadata": {},
   "outputs": [],
   "source": [
    "\n",
    "# predict submission\n",
    "ingestion.predict_submission(test_settings)"
   ]
  },
  {
   "cell_type": "code",
   "execution_count": null,
   "metadata": {},
   "outputs": [],
   "source": [
    "ingestion.compute_result()"
   ]
  },
  {
   "cell_type": "code",
   "execution_count": null,
   "metadata": {},
   "outputs": [],
   "source": [
    "\n",
    "# save result\n",
    "ingestion.save_result(output_dir)"
   ]
  },
  {
   "cell_type": "markdown",
   "metadata": {},
   "source": [
    "***\n",
    "# Likelihood plots\n",
    "***"
   ]
  },
  {
   "cell_type": "code",
   "execution_count": 15,
   "metadata": {},
   "outputs": [],
   "source": [
    "from systematics import postprocess, systematics\n",
    "from pathlib import Path\n",
    "from systematics import LHC_NUMBERS as LHC_NUMBERS_NEW"
   ]
  },
  {
   "cell_type": "code",
   "execution_count": 16,
   "metadata": {},
   "outputs": [],
   "source": [
    "def NLL(mu, observed, expected_sig, expected_bkgd, scale=1, epsilon=1e-30):\n",
    "    # need to double check the scaling\n",
    "    expected = scale * (mu * expected_sig + expected_bkgd)\n",
    "    return np.sum(expected - observed * np.log(expected + epsilon))"
   ]
  },
  {
   "cell_type": "code",
   "execution_count": 17,
   "metadata": {},
   "outputs": [],
   "source": [
    "def NLLarray(mus, observed, expected_sig, expected_bkgd, epsilon=1e-30):\n",
    "    expected = (mus[:, None] * expected_sig + expected_bkgd)\n",
    "    return (expected - observed * np.log(expected + epsilon)).sum(axis=1)"
   ]
  },
  {
   "cell_type": "code",
   "execution_count": 18,
   "metadata": {},
   "outputs": [],
   "source": [
    "def get_results(mus, nlls):\n",
    "    mu_hat = mus[np.argmin(nlls)]\n",
    "    one_sigma = mus[(nlls - np.min(nlls)) < 0.5]\n",
    "    return mu_hat, (one_sigma[0], one_sigma[-1])"
   ]
  },
  {
   "cell_type": "code",
   "execution_count": 37,
   "metadata": {},
   "outputs": [],
   "source": [
    "num_bins = 2000\n",
    "hist_bins = np.linspace(0, 1, num_bins+1)"
   ]
  },
  {
   "cell_type": "code",
   "execution_count": 125,
   "metadata": {},
   "outputs": [],
   "source": [
    "\n",
    "mus = np.linspace(.5, 2.25, 10**5) # negtive mu breaks when using labels in place of scores"
   ]
  },
  {
   "cell_type": "code",
   "execution_count": 20,
   "metadata": {},
   "outputs": [],
   "source": [
    "LHC_NUMBERS = {\n",
    "    \"ztautau\": 3544019,\n",
    "    \"diboson\": 40590,\n",
    "    \"ttbar\": 158761,\n",
    "    \"htautau\": 3639,\n",
    "}"
   ]
  },
  {
   "cell_type": "markdown",
   "metadata": {},
   "source": [
    "## Checking event counts"
   ]
  },
  {
   "cell_type": "code",
   "execution_count": 53,
   "metadata": {},
   "outputs": [
    {
     "name": "stdout",
     "output_type": "stream",
     "text": [
      "[*] Loading Train data\n",
      "<class 'pandas.core.frame.DataFrame'>\n",
      "RangeIndex: 71566438 entries, 0 to 71566437\n",
      "Columns: 28 entries, PRI_lep_pt to DER_lep_eta_centrality\n",
      "dtypes: float32(28)\n",
      "memory usage: 7.5 GB\n",
      "None\n",
      "[+] Train data loaded successfully\n"
     ]
    }
   ],
   "source": [
    "data.load_train_set()"
   ]
  },
  {
   "cell_type": "code",
   "execution_count": 54,
   "metadata": {},
   "outputs": [],
   "source": [
    "all_weighted_data = data.get_train_set().copy()"
   ]
  },
  {
   "cell_type": "code",
   "execution_count": 55,
   "metadata": {},
   "outputs": [
    {
     "name": "stdout",
     "output_type": "stream",
     "text": [
      "data <class 'pandas.core.frame.DataFrame'>\n",
      "labels <class 'numpy.ndarray'>\n",
      "settings <class 'dict'>\n",
      "weights <class 'numpy.ndarray'>\n",
      "detailed_labels <class 'list'>\n"
     ]
    }
   ],
   "source": [
    "for k, v in all_weighted_data.items():\n",
    "    print(k, type(v))"
   ]
  },
  {
   "cell_type": "code",
   "execution_count": 56,
   "metadata": {},
   "outputs": [],
   "source": [
    "all_weighted_data['detailed_labels'] = np.array(all_weighted_data['detailed_labels'])"
   ]
  },
  {
   "cell_type": "code",
   "execution_count": 163,
   "metadata": {},
   "outputs": [
    {
     "name": "stdout",
     "output_type": "stream",
     "text": [
      "ztautau (25863940,) 0.1381873158898656 1.2212453270876722e-15\n",
      "0.138187    25863940\n",
      "Name: count, dtype: int64\n",
      "diboson (1481170,) 0.009183793736224933 0.000796520686424391\n",
      "0.009093    1207648\n",
      "0.010798     187983\n",
      "0.006916      85539\n",
      "Name: count, dtype: int64\n",
      "ttbar (1891699,) 0.08409366760453979 0.00039276755271295746\n",
      "0.084186    1602629\n",
      "0.083485     210857\n",
      "0.084191      73195\n",
      "0.080197       3702\n",
      "0.074173       1311\n",
      "0.137161          5\n",
      "Name: count, dtype: int64\n",
      "htautau (42329629,) 8.597885290918285e-05 5.3319281986074824e-06\n",
      "0.000086    33185450\n",
      "0.000086     3667119\n",
      "0.000086     1620564\n",
      "0.000086     1400210\n",
      "0.000086     1154665\n",
      "0.000087      743735\n",
      "0.000086      394671\n",
      "0.000000      161973\n",
      "0.000069        1242\n",
      "Name: count, dtype: int64\n"
     ]
    },
    {
     "data": {
      "image/png": "[encoded data removed]",
      "text/plain": [
       "<Figure size 1600x1000 with 4 Axes>"
      ]
     },
     "metadata": {},
     "output_type": "display_data"
    }
   ],
   "source": [
    "# {name: all_weighted_data['weights'][all_weighted_data['detailed_labels'] == name] for name in LHC_NUMBERS}\n",
    "# plt.figure(figsize=(16, 10))\n",
    "plt.subplots(2, 2, figsize=(16, 10))\n",
    "for j, name in enumerate(LHC_NUMBERS, start=1):\n",
    "    plt.subplot(2, 2, j)\n",
    "    tmp_weights = all_weighted_data['weights'][all_weighted_data['detailed_labels'] == name]\n",
    "    print(name, tmp_weights.shape, tmp_weights.mean(), tmp_weights.std())\n",
    "    print(pd.Series(tmp_weights).value_counts())\n",
    "    plt.hist(tmp_weights, bins=100, density=False, alpha=0.5, label=name)\n",
    "    # plt.title(name)\n",
    "# plt.xscale('log')\n",
    "    plt.yscale('log')\n",
    "    plt.xlabel('weights')\n",
    "    plt.ylabel('count')\n",
    "    plt.legend()\n",
    "# plt.title('weighted data')\n"
   ]
  },
  {
   "cell_type": "code",
   "execution_count": 167,
   "metadata": {},
   "outputs": [
    {
     "data": {
      "text/plain": [
       "(161973, 42329629)"
      ]
     },
     "execution_count": 167,
     "metadata": {},
     "output_type": "execute_result"
    }
   ],
   "source": [
    "(all_weighted_data['weights'][all_weighted_data['detailed_labels'] == 'htautau'] == 0).sum(), (all_weighted_data['detailed_labels'] == 'htautau').sum()"
   ]
  },
  {
   "cell_type": "code",
   "execution_count": 122,
   "metadata": {},
   "outputs": [],
   "source": [
    "counts_df = pd.DataFrame.from_dict(\n",
    "    {\n",
    "        name: {\n",
    "            'LHC_NUMBERS (old)': LHC_NUMBERS[name],\n",
    "            'sum of weights': all_weighted_data['weights'][all_weighted_data['detailed_labels'] == name].sum(),\n",
    "            'num weighted events': (all_weighted_data['detailed_labels'] == name).sum(),\n",
    "            'average weight': all_weighted_data['weights'][all_weighted_data['detailed_labels'] == name].mean(),\n",
    "        }\n",
    "        for name in LHC_NUMBERS\n",
    "    },\n",
    "    orient='index',\n",
    ")"
   ]
  },
  {
   "cell_type": "code",
   "execution_count": 123,
   "metadata": {},
   "outputs": [
    {
     "data": {
      "text/html": [
       "<style type=\"text/css\">\n",
       "</style>\n",
       "<table id=\"T_34f9b\">\n",
       "  <thead>\n",
       "    <tr>\n",
       "      <th class=\"blank level0\" >&nbsp;</th>\n",
       "      <th id=\"T_34f9b_level0_col0\" class=\"col_heading level0 col0\" >ztautau</th>\n",
       "      <th id=\"T_34f9b_level0_col1\" class=\"col_heading level0 col1\" >diboson</th>\n",
       "      <th id=\"T_34f9b_level0_col2\" class=\"col_heading level0 col2\" >ttbar</th>\n",
       "      <th id=\"T_34f9b_level0_col3\" class=\"col_heading level0 col3\" >htautau</th>\n",
       "    </tr>\n",
       "  </thead>\n",
       "  <tbody>\n",
       "    <tr>\n",
       "      <th id=\"T_34f9b_level0_row0\" class=\"row_heading level0 row0\" >LHC_NUMBERS (old)</th>\n",
       "      <td id=\"T_34f9b_row0_col0\" class=\"data row0 col0\" >3544019.000000</td>\n",
       "      <td id=\"T_34f9b_row0_col1\" class=\"data row0 col1\" >40590.000000</td>\n",
       "      <td id=\"T_34f9b_row0_col2\" class=\"data row0 col2\" >158761.000000</td>\n",
       "      <td id=\"T_34f9b_row0_col3\" class=\"data row0 col3\" >3639.000000</td>\n",
       "    </tr>\n",
       "    <tr>\n",
       "      <th id=\"T_34f9b_level0_row1\" class=\"row_heading level0 row1\" >sum of weights</th>\n",
       "      <td id=\"T_34f9b_row1_col0\" class=\"data row1 col0\" >3574068.446937</td>\n",
       "      <td id=\"T_34f9b_row1_col1\" class=\"data row1 col1\" >13602.759768</td>\n",
       "      <td id=\"T_34f9b_row1_col2\" class=\"data row1 col2\" >159079.906914</td>\n",
       "      <td id=\"T_34f9b_row1_col3\" class=\"data row1 col3\" >3639.452945</td>\n",
       "    </tr>\n",
       "    <tr>\n",
       "      <th id=\"T_34f9b_level0_row2\" class=\"row_heading level0 row2\" >num weighted events</th>\n",
       "      <td id=\"T_34f9b_row2_col0\" class=\"data row2 col0\" >25863940.000000</td>\n",
       "      <td id=\"T_34f9b_row2_col1\" class=\"data row2 col1\" >1481170.000000</td>\n",
       "      <td id=\"T_34f9b_row2_col2\" class=\"data row2 col2\" >1891699.000000</td>\n",
       "      <td id=\"T_34f9b_row2_col3\" class=\"data row2 col3\" >42329629.000000</td>\n",
       "    </tr>\n",
       "    <tr>\n",
       "      <th id=\"T_34f9b_level0_row3\" class=\"row_heading level0 row3\" >average weight</th>\n",
       "      <td id=\"T_34f9b_row3_col0\" class=\"data row3 col0\" >0.138187</td>\n",
       "      <td id=\"T_34f9b_row3_col1\" class=\"data row3 col1\" >0.009184</td>\n",
       "      <td id=\"T_34f9b_row3_col2\" class=\"data row3 col2\" >0.084094</td>\n",
       "      <td id=\"T_34f9b_row3_col3\" class=\"data row3 col3\" >0.000086</td>\n",
       "    </tr>\n",
       "  </tbody>\n",
       "</table>\n"
      ],
      "text/plain": [
       "<pandas.io.formats.style.Styler at 0x7f9a8f1a3d90>"
      ]
     },
     "execution_count": 123,
     "metadata": {},
     "output_type": "execute_result"
    }
   ],
   "source": [
    "counts_df.T.style.format(precision=6)"
   ]
  },
  {
   "cell_type": "markdown",
   "metadata": {},
   "source": [
    "## Comparison\n",
    "\n",
    "Use scores and weights from Sascha"
   ]
  },
  {
   "cell_type": "code",
   "execution_count": 25,
   "metadata": {},
   "outputs": [],
   "source": [
    "sascha_dir = Path('/global/ml4hep/spss/jvdudley/physicsData/FairUniverse/comparison_Sascha/Fair_Universe_Comparison_Data/')"
   ]
  },
  {
   "cell_type": "code",
   "execution_count": 26,
   "metadata": {},
   "outputs": [
    {
     "name": "stdout",
     "output_type": "stream",
     "text": [
      "template_sig_weights\n",
      "eval_weights\n",
      "template_bkg_weights\n",
      "template_sig_values\n",
      "template_bkg_values\n",
      "eval_values\n"
     ]
    }
   ],
   "source": [
    "for file in sascha_dir.glob('*.npy'):\n",
    "    print(file.stem)"
   ]
  },
  {
   "cell_type": "code",
   "execution_count": 27,
   "metadata": {},
   "outputs": [],
   "source": [
    "sascha_copy = {file.stem: np.load(file) for file in sascha_dir.glob('*.npy')}\n",
    "\n",
    "sascha_data = {}\n",
    "for name in sascha_copy:\n",
    "    tmp_prefix = name.removesuffix('_values').removesuffix('_weights')\n",
    "    if tmp_prefix not in sascha_data:\n",
    "        sascha_data[tmp_prefix] = {}\n",
    "    sascha_data[tmp_prefix][name.removeprefix(tmp_prefix + '_')] = sascha_copy[name]\n",
    "del sascha_copy"
   ]
  },
  {
   "cell_type": "code",
   "execution_count": 28,
   "metadata": {},
   "outputs": [],
   "source": [
    "sascha_hist = {name: np.histogram(data['values'], bins=hist_bins, weights=data['weights'])[0] for name, data in sascha_data.items()}"
   ]
  },
  {
   "cell_type": "code",
   "execution_count": 29,
   "metadata": {},
   "outputs": [
    {
     "data": {
      "text/plain": [
       "<matplotlib.legend.Legend at 0x7f7d817dab90>"
      ]
     },
     "execution_count": 29,
     "metadata": {},
     "output_type": "execute_result"
    },
    {
     "data": {
      "image/png": "[encoded data removed]",
      "text/plain": [
       "<Figure size 1200x1000 with 1 Axes>"
      ]
     },
     "metadata": {},
     "output_type": "display_data"
    }
   ],
   "source": [
    "plt.figure(figsize=(12, 10))\n",
    "for name, hist in sascha_hist.items():\n",
    "    plt.hist(\n",
    "        hist_bins[:-1],\n",
    "        hist_bins,\n",
    "        weights=hist,\n",
    "        alpha=0.5,\n",
    "        label=name,\n",
    "        histtype='step',\n",
    "    )\n",
    "plt.legend()"
   ]
  },
  {
   "cell_type": "code",
   "execution_count": 30,
   "metadata": {},
   "outputs": [],
   "source": [
    "sascha_nlls = [\n",
    "    NLL(\n",
    "        mu,\n",
    "        sascha_hist['eval'],\n",
    "        sascha_hist['template_sig'],\n",
    "        sascha_hist['template_bkg'],\n",
    "    ) for mu in mus\n",
    "]"
   ]
  },
  {
   "cell_type": "code",
   "execution_count": 31,
   "metadata": {},
   "outputs": [],
   "source": [
    "sascha_one_sigma = np.array(mus)[(sascha_nlls - min(sascha_nlls)) < 0.5]"
   ]
  },
  {
   "cell_type": "code",
   "execution_count": 32,
   "metadata": {},
   "outputs": [
    {
     "data": {
      "text/plain": [
       "Text(0.5, 1.0, 'Comparison')"
      ]
     },
     "execution_count": 32,
     "metadata": {},
     "output_type": "execute_result"
    },
    {
     "data": {
      "image/png": "[encoded data removed]",
      "text/plain": [
       "<Figure size 640x480 with 1 Axes>"
      ]
     },
     "metadata": {},
     "output_type": "display_data"
    }
   ],
   "source": [
    "plt.plot(mus, sascha_nlls - min(sascha_nlls))\n",
    "plt.axhline(.5, color='black', linestyle='--')\n",
    "plt.axvline(mus[np.argmin(sascha_nlls)], color='C1', label=f'mu_hat: {mus[np.argmin(sascha_nlls)]:.2f}')\n",
    "# plt.axvline(sascha_one_sigma[0], color='r', label=f'p16: {sascha_one_sigma[0]:.2f}')\n",
    "# plt.axvline(sascha_one_sigma[-1], color='r', label=f'p84: {sascha_one_sigma[-1]:.2f}')\n",
    "plt.axvspan(sascha_one_sigma[0], sascha_one_sigma[-1], color='grey', alpha=0.5, label=f'p16-p84: {sascha_one_sigma[0]:.2f}-{sascha_one_sigma[-1]:.2f}')\n",
    "# plt.axvline(1.45, color='C2', label='mu_hat (Sascha)')\n",
    "# plt.axvline(1.3952, color='C3', label='mu_hat (Yulei)')\n",
    "plt.axvline(1, color='black', label='mu_true')\n",
    "plt.ylim(0, 2)\n",
    "plt.xlabel('mu')\n",
    "plt.ylabel('NLL - min(NLL)')\n",
    "plt.legend()\n",
    "plt.title('Comparison')"
   ]
  },
  {
   "cell_type": "markdown",
   "metadata": {},
   "source": [
    "## Predict mu for test data\n",
    "\n",
    "This does not include postselection cuts"
   ]
  },
  {
   "cell_type": "code",
   "execution_count": 21,
   "metadata": {},
   "outputs": [
    {
     "name": "stdout",
     "output_type": "stream",
     "text": [
      "[*] Loading Test data\n",
      "[+] Test data loaded successfully\n"
     ]
    }
   ],
   "source": [
    "# read data: train, valid, test\n",
    "train_set = ingestion.model.training_set.copy()\n",
    "valid_set = ingestion.model.stat_analysis.holdout_set.copy()\n",
    "ingestion.data.load_test_set()\n",
    "test_set = ingestion.data.get_test_set().copy()\n",
    "pseudo_exp_data = ingestion.data.generate_psuedo_exp_data(seed=314159)"
   ]
  },
  {
   "cell_type": "code",
   "execution_count": 22,
   "metadata": {},
   "outputs": [],
   "source": [
    "assert (pseudo_exp_data['weights'] == 1).all(), 'pseudo experiment data weights are not all one'"
   ]
  },
  {
   "cell_type": "code",
   "execution_count": 124,
   "metadata": {},
   "outputs": [],
   "source": [
    "counts_df['num unweighted events'] = {name: df.shape[0] for name, df in data.get_test_set().items()}"
   ]
  },
  {
   "cell_type": "code",
   "execution_count": 165,
   "metadata": {},
   "outputs": [
    {
     "data": {
      "text/html": [
       "<style type=\"text/css\">\n",
       "</style>\n",
       "<table id=\"T_49624\">\n",
       "  <thead>\n",
       "    <tr>\n",
       "      <th class=\"blank level0\" >&nbsp;</th>\n",
       "      <th id=\"T_49624_level0_col0\" class=\"col_heading level0 col0\" >ztautau</th>\n",
       "      <th id=\"T_49624_level0_col1\" class=\"col_heading level0 col1\" >diboson</th>\n",
       "      <th id=\"T_49624_level0_col2\" class=\"col_heading level0 col2\" >ttbar</th>\n",
       "      <th id=\"T_49624_level0_col3\" class=\"col_heading level0 col3\" >htautau</th>\n",
       "    </tr>\n",
       "  </thead>\n",
       "  <tbody>\n",
       "    <tr>\n",
       "      <th id=\"T_49624_level0_row0\" class=\"row_heading level0 row0\" >LHC_NUMBERS (old)</th>\n",
       "      <td id=\"T_49624_row0_col0\" class=\"data row0 col0\" >3,544,019.000</td>\n",
       "      <td id=\"T_49624_row0_col1\" class=\"data row0 col1\" >40,590.000</td>\n",
       "      <td id=\"T_49624_row0_col2\" class=\"data row0 col2\" >158,761.000</td>\n",
       "      <td id=\"T_49624_row0_col3\" class=\"data row0 col3\" >3,639.000</td>\n",
       "    </tr>\n",
       "    <tr>\n",
       "      <th id=\"T_49624_level0_row1\" class=\"row_heading level0 row1\" >sum of weights</th>\n",
       "      <td id=\"T_49624_row1_col0\" class=\"data row1 col0\" >3,574,068.447</td>\n",
       "      <td id=\"T_49624_row1_col1\" class=\"data row1 col1\" >13,602.760</td>\n",
       "      <td id=\"T_49624_row1_col2\" class=\"data row1 col2\" >159,079.907</td>\n",
       "      <td id=\"T_49624_row1_col3\" class=\"data row1 col3\" >3,639.453</td>\n",
       "    </tr>\n",
       "    <tr>\n",
       "      <th id=\"T_49624_level0_row2\" class=\"row_heading level0 row2\" >num weighted events</th>\n",
       "      <td id=\"T_49624_row2_col0\" class=\"data row2 col0\" >25,863,940.000</td>\n",
       "      <td id=\"T_49624_row2_col1\" class=\"data row2 col1\" >1,481,170.000</td>\n",
       "      <td id=\"T_49624_row2_col2\" class=\"data row2 col2\" >1,891,699.000</td>\n",
       "      <td id=\"T_49624_row2_col3\" class=\"data row2 col3\" >42,329,629.000</td>\n",
       "    </tr>\n",
       "    <tr>\n",
       "      <th id=\"T_49624_level0_row3\" class=\"row_heading level0 row3\" >average weight</th>\n",
       "      <td id=\"T_49624_row3_col0\" class=\"data row3 col0\" >0.138187</td>\n",
       "      <td id=\"T_49624_row3_col1\" class=\"data row3 col1\" >0.009184</td>\n",
       "      <td id=\"T_49624_row3_col2\" class=\"data row3 col2\" >0.084094</td>\n",
       "      <td id=\"T_49624_row3_col3\" class=\"data row3 col3\" >0.000086</td>\n",
       "    </tr>\n",
       "    <tr>\n",
       "      <th id=\"T_49624_level0_row4\" class=\"row_heading level0 row4\" >num unweighted events</th>\n",
       "      <td id=\"T_49624_row4_col0\" class=\"data row4 col0\" >7,211,236.000</td>\n",
       "      <td id=\"T_49624_row4_col1\" class=\"data row4 col1\" >81,180.000</td>\n",
       "      <td id=\"T_49624_row4_col2\" class=\"data row4 col2\" >317,522.000</td>\n",
       "      <td id=\"T_49624_row4_col3\" class=\"data row4 col3\" >7,278.000</td>\n",
       "    </tr>\n",
       "  </tbody>\n",
       "</table>\n"
      ],
      "text/plain": [
       "<pandas.io.formats.style.Styler at 0x7f90c31c2890>"
      ]
     },
     "execution_count": 165,
     "metadata": {},
     "output_type": "execute_result"
    }
   ],
   "source": [
    "counts_df.T.style.format(precision=3, thousands=',').format(precision=6, subset=('average weight',))"
   ]
  },
  {
   "cell_type": "code",
   "execution_count": 23,
   "metadata": {},
   "outputs": [],
   "source": [
    "sums_by_type = {\n",
    "    name: (\n",
    "        # all_weighted_data['weights'][all_weighted_data['detailed_labels'] == name].sum(),\n",
    "        train_set['weights'][train_set['detailed_labels'] == name].sum(),\n",
    "        valid_set['weights'][valid_set['detailed_labels'] == name].sum(),\n",
    "    )\n",
    "    for name in LHC_NUMBERS\n",
    "}"
   ]
  },
  {
   "cell_type": "code",
   "execution_count": 36,
   "metadata": {},
   "outputs": [],
   "source": [
    "sums_by_type['bkgd'] = (\n",
    "    all_weighted_data['weights'][all_weighted_data['labels'] == 0].sum(),\n",
    "    train_set['weights'][train_set['labels'] == 0].sum(),\n",
    "    valid_set['weights'][valid_set['labels'] == 0].sum(),\n",
    ")"
   ]
  },
  {
   "cell_type": "code",
   "execution_count": 37,
   "metadata": {},
   "outputs": [
    {
     "name": "stdout",
     "output_type": "stream",
     "text": [
      "ztautau:\n",
      "all: 3574068.447, train: 3574029.321, valid: 3574144.844\n",
      "min: 3574029.321\n",
      "max: 3574144.844\n",
      "ztautau sum of weights in all data is between train and valid data\n",
      "diboson:\n",
      "all: 13602.760, train: 13588.522, valid: 13624.829\n",
      "min: 13588.522\n",
      "max: 13624.829\n",
      "diboson sum of weights in all data is between train and valid data\n",
      "ttbar:\n",
      "all: 159079.907, train: 159133.270, valid: 158981.440\n",
      "min: 158981.440\n",
      "max: 159133.270\n",
      "ttbar sum of weights in all data is between train and valid data\n",
      "htautau:\n",
      "all: 3639.453, train: 3639.453, valid: 3639.453\n",
      "min: 3639.453\n",
      "max: 3639.453\n",
      "htautau sum of weights in all data is between train and valid data\n",
      "bkgd:\n",
      "all: 3746751.114, train: 3746751.114, valid: 3746751.114\n",
      "min: 3746751.114\n",
      "max: 3746751.114\n",
      "bkgd sum of weights in all data is between train and valid data\n"
     ]
    }
   ],
   "source": [
    "for name, sums in sums_by_type.items():\n",
    "    print(f'{name}:\\nall: {sums[0]:.3f}, train: {sums[1]:.3f}, valid: {sums[2]:.3f}')\n",
    "    print(f'min: {min(sums[1:]):.3f}\\nmax: {max(sums[1:]):.3f}')\n",
    "    # print(min(sums[1:]) < sums[0] < max(sums[1:]))\n",
    "    if sums[0] < min(sums[1:]):\n",
    "        print(f'Warning: {name} sum of weights in all data less than in train and valid data')\n",
    "    elif sums[0] > max(sums[1:]):\n",
    "        print(f'Warning: {name} sum of weights in all data greater than in train and valid data')\n",
    "    else:\n",
    "        print(f'{name} sum of weights in all data is between train and valid data')"
   ]
  },
  {
   "cell_type": "code",
   "execution_count": 24,
   "metadata": {},
   "outputs": [
    {
     "name": "stdout",
     "output_type": "stream",
     "text": [
      "(7278, 28)\n",
      "ztautau: unweighted events=7211236, old expectation=3544019, ratio=2.0347622289835354, new expectation=3574068.447\n",
      "diboson: unweighted events=81180, old expectation=40590, ratio=2.0, new expectation=13602.76\n",
      "ttbar: unweighted events=317522, old expectation=158761, ratio=2.0, new expectation=159079.907\n",
      "htautau: unweighted events=7278, old expectation=3639, ratio=2.0, new expectation=3639.453\n",
      "(7278, 28)\n"
     ]
    }
   ],
   "source": [
    "# replace LHC_NUMBERS[name] with counts_df['sum of weights'][name].round().astype(int)\n",
    "\n",
    "# for key in test_set:\n",
    "#     print(key, test_set[key].shape)\n",
    "#     assert test_set[key].shape[0] >= LHC_NUMBERS[key], f'{key} test set is too small'\n",
    "#     test_set[key] = test_set[key].copy()[:LHC_NUMBERS[key]]\n",
    "print(data.get_test_set()['htautau'].shape)\n",
    "test_set_samples = {}\n",
    "for name, df in test_set.items():\n",
    "    print(f'{name}: unweighted events={df.shape[0]}, old expectation={LHC_NUMBERS[name]}, ratio={df.shape[0] / LHC_NUMBERS[name]}, new expectation={LHC_NUMBERS_NEW[name]}')\n",
    "    assert df.shape[0] > LHC_NUMBERS_NEW[name], f'{name} test set is too small'\n",
    "    test_set_samples[name] = df[:int(LHC_NUMBERS_NEW[name] + .5)]\n",
    "test_set = test_set_samples\n",
    "print(data.get_test_set()['htautau'].shape)"
   ]
  },
  {
   "cell_type": "code",
   "execution_count": 25,
   "metadata": {},
   "outputs": [],
   "source": [
    "valid_syst = systematics(valid_set.copy())"
   ]
  },
  {
   "cell_type": "code",
   "execution_count": 26,
   "metadata": {},
   "outputs": [
    {
     "data": {
      "text/plain": [
       "(3377326.544520631, 3380580.0, 3750390)"
      ]
     },
     "execution_count": 26,
     "metadata": {},
     "output_type": "execute_result"
    }
   ],
   "source": [
    "valid_syst['weights'].sum(), pseudo_exp_data['weights'].sum(), sum((df.shape[0] for df in test_set.values()))"
   ]
  },
  {
   "cell_type": "code",
   "execution_count": 27,
   "metadata": {},
   "outputs": [],
   "source": [
    "valid_set = valid_syst"
   ]
  },
  {
   "cell_type": "code",
   "execution_count": 28,
   "metadata": {},
   "outputs": [
    {
     "name": "stdout",
     "output_type": "stream",
     "text": [
      "ztautau \n",
      " (3574068, 28)\n",
      "(3213011, 28)\n",
      "diboson \n",
      " (13603, 28)\n",
      "(12302, 28)\n",
      "ttbar \n",
      " (159080, 28)\n",
      "(148532, 28)\n",
      "htautau \n",
      " (3639, 28)\n",
      "(3448, 28)\n"
     ]
    }
   ],
   "source": [
    "for name in test_set:\n",
    "    print(name, '\\n', test_set[name].shape)\n",
    "    test_set[name] = postprocess(test_set[name])\n",
    "    print(test_set[name].shape)"
   ]
  },
  {
   "cell_type": "code",
   "execution_count": 29,
   "metadata": {},
   "outputs": [
    {
     "data": {
      "text/plain": [
       "(3377326.544520631, 3377293, 3380580)"
      ]
     },
     "execution_count": 29,
     "metadata": {},
     "output_type": "execute_result"
    }
   ],
   "source": [
    "n_expected = valid_set['weights'].sum()\n",
    "n_observed = np.sum([data.shape[0] for data in test_set.values()])\n",
    "n_pseudo = pseudo_exp_data['data'].shape[0]\n",
    "\n",
    "n_expected, n_observed, n_pseudo"
   ]
  },
  {
   "cell_type": "code",
   "execution_count": 30,
   "metadata": {},
   "outputs": [
    {
     "name": "stdout",
     "output_type": "stream",
     "text": [
      "42/42 [==============================] - 3s 44ms/step\n",
      "32/32 [==============================] - 2s 45ms/step\n"
     ]
    }
   ],
   "source": [
    "train_set['scores'] = ingestion.model.model.predict(train_set['data'])\n",
    "valid_set['scores'] = ingestion.model.model.predict(valid_set['data'])"
   ]
  },
  {
   "cell_type": "code",
   "execution_count": 31,
   "metadata": {},
   "outputs": [
    {
     "name": "stdout",
     "output_type": "stream",
     "text": [
      "4/4 [==============================] - 0s 37ms/step\n",
      "4/4 [==============================] - 0s 35ms/step\n",
      "1/1 [==============================] - 0s 25ms/step\n",
      "1/1 [==============================] - 0s 36ms/step\n",
      "1/1 [==============================] - 0s 24ms/step\n"
     ]
    }
   ],
   "source": [
    "\n",
    "pseudo_exp_data['scores'] = ingestion.model.model.predict(pseudo_exp_data['data'])\n",
    "test_scores = {\n",
    "    name: ingestion.model.model.predict(test_set[name])\n",
    "    for name in test_set.keys()\n",
    "}"
   ]
  },
  {
   "cell_type": "code",
   "execution_count": 83,
   "metadata": {},
   "outputs": [],
   "source": [
    "histograms = { # train/valid, sig/bkgd\n",
    "    tv + sb: np.histogram(\n",
    "        dataset['scores'][dataset['labels'] == (1-j)], # testing using the label as the score\n",
    "        bins=hist_bins,\n",
    "        weights=dataset['weights'][dataset['labels'] == (1-j)],\n",
    "        # range=(0, 1),\n",
    "    )\n",
    "    for tv, dataset in {'train': train_set, 'valid': valid_set}.items()\n",
    "    for j, sb in enumerate(['_sig', '_bkgd'])\n",
    "}\n",
    "pseudo_exp_hist = np.histogram(\n",
    "    pseudo_exp_data['scores'], # testing using the label as the score\n",
    "    bins=hist_bins,\n",
    "    # weights=pseudo_exp_data['weights'], # weights are all 1\n",
    "    # range=(0, 1),\n",
    ")\n",
    "test_hist = {\n",
    "    name: np.histogram(\n",
    "        scores,\n",
    "        bins=hist_bins,\n",
    "        # range=(0, 1),\n",
    "    )\n",
    "    for name, scores in test_scores.items()\n",
    "}"
   ]
  },
  {
   "cell_type": "code",
   "execution_count": 84,
   "metadata": {},
   "outputs": [
    {
     "data": {
      "text/plain": [
       "1.788564385547564"
      ]
     },
     "execution_count": 84,
     "metadata": {},
     "output_type": "execute_result"
    }
   ],
   "source": [
    "(histograms['valid_bkgd'][0] + histograms['valid_sig'][0]).min()"
   ]
  },
  {
   "cell_type": "code",
   "execution_count": 87,
   "metadata": {},
   "outputs": [],
   "source": [
    "# check valid histogram uncertainties\n",
    "# build histograms using weights**2, then take sqrt\n",
    "valid_hist_var = np.histogram(\n",
    "    valid_set['scores'],\n",
    "    bins=hist_bins,\n",
    "    weights=valid_set['weights']**2,\n",
    ")[0]"
   ]
  },
  {
   "cell_type": "code",
   "execution_count": 150,
   "metadata": {},
   "outputs": [],
   "source": [
    "histograms['valid_bkgd_var'] = np.histogram(\n",
    "    valid_set['scores'][valid_set['labels'] == 0],\n",
    "    bins=hist_bins,\n",
    "    weights=valid_set['weights'][valid_set['labels'] == 0]**2,\n",
    ")[0]\n",
    "histograms['valid_sig_var'] = np.histogram(\n",
    "    valid_set['scores'][valid_set['labels'] == 1],\n",
    "    bins=hist_bins,\n",
    "    weights=valid_set['weights'][valid_set['labels'] == 1]**2,\n",
    ")[0]"
   ]
  },
  {
   "cell_type": "code",
   "execution_count": 146,
   "metadata": {},
   "outputs": [
    {
     "data": {
      "text/plain": [
       "1.2780210615938556"
      ]
     },
     "execution_count": 146,
     "metadata": {},
     "output_type": "execute_result"
    }
   ],
   "source": [
    "(histograms['valid_bkgd'][0] + histograms['valid_sig'][0] - 1 * np.sqrt(valid_hist_var)).min()"
   ]
  },
  {
   "cell_type": "code",
   "execution_count": 160,
   "metadata": {},
   "outputs": [
    {
     "data": {
      "text/plain": [
       "1.2780210615938556"
      ]
     },
     "execution_count": 160,
     "metadata": {},
     "output_type": "execute_result"
    }
   ],
   "source": [
    "(histograms['valid_bkgd'][0] + histograms['valid_sig'][0] - 1 * np.sqrt(histograms['valid_bkgd_var'] + histograms['valid_sig_var'])).min()"
   ]
  },
  {
   "cell_type": "code",
   "execution_count": 159,
   "metadata": {},
   "outputs": [
    {
     "data": {
      "text/plain": [
       "1.2771565850001418"
      ]
     },
     "execution_count": 159,
     "metadata": {},
     "output_type": "execute_result"
    }
   ],
   "source": [
    "(histograms['valid_bkgd'][0] - 1 * np.sqrt(histograms['valid_bkgd_var'])).min()"
   ]
  },
  {
   "cell_type": "code",
   "execution_count": 96,
   "metadata": {},
   "outputs": [
    {
     "data": {
      "text/plain": [
       "(0, 1)"
      ]
     },
     "execution_count": 96,
     "metadata": {},
     "output_type": "execute_result"
    }
   ],
   "source": [
    "pseudo_exp_hist[0].min(), np.sum([hist for hist, _ in test_hist.values()], axis=0).min()"
   ]
  },
  {
   "cell_type": "code",
   "execution_count": null,
   "metadata": {},
   "outputs": [
    {
     "data": {
      "text/plain": [
       "(1, 2, array([6, 3, 0, 4, 3]), array([83, 60, 39, 37, 61]))"
      ]
     },
     "execution_count": 37,
     "metadata": {},
     "output_type": "execute_result"
    }
   ],
   "source": [
    "(pseudo_exp_hist[0] == 0).sum(), pseudo_exp_hist[0].argmin(), pseudo_exp_hist[0][:5], pseudo_exp_hist[0][-5:]"
   ]
  },
  {
   "cell_type": "code",
   "execution_count": 97,
   "metadata": {},
   "outputs": [
    {
     "data": {
      "text/plain": [
       "Text(0.5, 1.0, 'scores')"
      ]
     },
     "execution_count": 97,
     "metadata": {},
     "output_type": "execute_result"
    },
    {
     "data": {
      "image/png": "[encoded data removed]",
      "text/plain": [
       "<Figure size 1200x1000 with 1 Axes>"
      ]
     },
     "metadata": {},
     "output_type": "display_data"
    }
   ],
   "source": [
    "plot_density = False\n",
    "plot_scaled = False\n",
    "\n",
    "plt.figure(figsize=(12, 10))\n",
    "for name, (hist, bins) in histograms.items():\n",
    "    plt.hist(\n",
    "        bins[:-1],\n",
    "        bins,\n",
    "        weights=hist * ((n_observed / n_expected) if plot_scaled else 1),\n",
    "        label=name + (' (scaled)' if plot_scaled else ''),\n",
    "        density=plot_density,\n",
    "        histtype='step', # if 'train' in name else 'bar',\n",
    "        alpha=.5 if 'valid' in name else 0.5,\n",
    "    )\n",
    "plt.hist(\n",
    "    hist_bins[:-1],\n",
    "    hist_bins,\n",
    "    weights=pseudo_exp_hist[0],\n",
    "    label='pseudo-experiment',\n",
    "    density=plot_density,\n",
    "    histtype='step',\n",
    "    alpha=.8,\n",
    "\n",
    ")\n",
    "# for name, (hist, bins) in test_hist.items():\n",
    "#     plt.hist(\n",
    "#         bins[:-1],\n",
    "#         bins,\n",
    "#         weights=hist,\n",
    "#         label=(name + ' (test set)'),\n",
    "#         density=plot_density,\n",
    "#         histtype='bar',\n",
    "#         stacked=True,\n",
    "#         alpha=.5,\n",
    "#     )\n",
    "# tmp_hists = []\n",
    "# tmp_weights = []\n",
    "plt.hist(\n",
    "    # [bins[:-1] for (hist, bins) in test_hist.values()],\n",
    "    [hist_bins[:-1]] * len(test_hist),\n",
    "    # test_hist['htautau'][1], # all bins are the same; pick one\n",
    "    hist_bins,\n",
    "    weights=[hist for (hist, bins) in test_hist.values()],\n",
    "    label=[name for name in test_hist],\n",
    "    density=plot_density,\n",
    "    histtype='barstacked',\n",
    ")\n",
    "plt.ylim(0, 11e3)\n",
    "plt.legend()\n",
    "plt.title('scores')"
   ]
  },
  {
   "cell_type": "code",
   "execution_count": 126,
   "metadata": {},
   "outputs": [],
   "source": [
    "\n",
    "nlls = [\n",
    "    NLL(\n",
    "        mu,\n",
    "        histograms['train_sig'][0] + histograms['train_bkgd'][0],\n",
    "        histograms['valid_sig'][0],\n",
    "        histograms['valid_bkgd'][0],\n",
    "    ) for mu in mus\n",
    "]"
   ]
  },
  {
   "cell_type": "code",
   "execution_count": 127,
   "metadata": {},
   "outputs": [
    {
     "data": {
      "text/plain": [
       "'mu_hat = 2.25'"
      ]
     },
     "execution_count": 127,
     "metadata": {},
     "output_type": "execute_result"
    },
    {
     "data": {
      "image/png": "[encoded data removed]",
      "text/plain": [
       "<Figure size 640x480 with 1 Axes>"
      ]
     },
     "metadata": {},
     "output_type": "display_data"
    }
   ],
   "source": [
    "plt.plot(mus, nlls - min(nlls))\n",
    "plt.axhline(.5, color='r', linestyle='--')\n",
    "plt.axvline(1, color='g', label='mu_true')\n",
    "plt.axvline(mus[np.argmin(nlls)], color='r', label='mu_hat')\n",
    "plt.xlabel('mu')\n",
    "plt.ylabel('NLL')\n",
    "plt.ylim(0, 2.5)\n",
    "plt.grid()\n",
    "plt.legend()\n",
    "plt.title('training set')\n",
    "\n",
    "f'mu_hat = {mus[np.argmin(nlls)]}'"
   ]
  },
  {
   "cell_type": "code",
   "execution_count": 128,
   "metadata": {},
   "outputs": [],
   "source": [
    "test_nlls = [\n",
    "    NLL(\n",
    "        mu,\n",
    "        # test_hist['htautau'][0] + test_hist['ztautau'][0],\n",
    "        np.sum([hist for (hist, bins) in test_hist.values()], axis=0),\n",
    "        histograms['valid_sig'][0],\n",
    "        histograms['valid_bkgd'][0],\n",
    "        # scale=(n_observed / n_expected),\n",
    "    ) for mu in mus\n",
    "]"
   ]
  },
  {
   "cell_type": "code",
   "execution_count": 129,
   "metadata": {},
   "outputs": [
    {
     "data": {
      "text/plain": [
       "Text(0.5, 1.0, 'test set')"
      ]
     },
     "execution_count": 129,
     "metadata": {},
     "output_type": "execute_result"
    },
    {
     "data": {
      "image/png": "[encoded data removed]",
      "text/plain": [
       "<Figure size 640x480 with 1 Axes>"
      ]
     },
     "metadata": {},
     "output_type": "display_data"
    }
   ],
   "source": [
    "plt.plot(mus, test_nlls - min(test_nlls))\n",
    "plt.axhline(.5, color='r', linestyle='--')\n",
    "plt.axvline(1, color='black', label='mu_true')\n",
    "plt.xlabel('mu')\n",
    "plt.ylabel('NLL')\n",
    "plt.xlim(.75, 1.35)\n",
    "plt.ylim(0, 2.5)\n",
    "plt.title('test set')"
   ]
  },
  {
   "cell_type": "code",
   "execution_count": 130,
   "metadata": {},
   "outputs": [],
   "source": [
    "pseudo_nlls = [\n",
    "    NLL(\n",
    "        mu,\n",
    "        pseudo_exp_hist[0],\n",
    "        histograms['valid_sig'][0],\n",
    "        histograms['valid_bkgd'][0],\n",
    "        # scale=(n_observed / n_expected),\n",
    "    ) for mu in mus\n",
    "]"
   ]
  },
  {
   "cell_type": "code",
   "execution_count": 131,
   "metadata": {},
   "outputs": [
    {
     "data": {
      "text/plain": [
       "Text(0.5, 1.0, 'pseudo experiment')"
      ]
     },
     "execution_count": 131,
     "metadata": {},
     "output_type": "execute_result"
    },
    {
     "data": {
      "image/png": "[encoded data removed]",
      "text/plain": [
       "<Figure size 640x480 with 1 Axes>"
      ]
     },
     "metadata": {},
     "output_type": "display_data"
    }
   ],
   "source": [
    "plt.plot(mus, pseudo_nlls - min(pseudo_nlls))\n",
    "plt.axhline(.5, color='r', linestyle='--')\n",
    "plt.axvline(1, color='black', label='mu_true')\n",
    "plt.xlabel('mu')\n",
    "plt.ylabel('NLL - min(NLL)')\n",
    "plt.ylim(0, 2.5)\n",
    "plt.title('pseudo experiment')"
   ]
  },
  {
   "cell_type": "code",
   "execution_count": 104,
   "metadata": {},
   "outputs": [
    {
     "name": "stdout",
     "output_type": "stream",
     "text": [
      "weights 3376856 False\n",
      "labels 3376856 False\n",
      "detailed_labels 3376856 False\n",
      "data 3376856 False\n",
      "scores 3376856 False\n"
     ]
    }
   ],
   "source": [
    "for name, v in pseudo_exp_data.items():\n",
    "    print(name, v.shape[0], name in pseudo_exp_data['data'].columns)"
   ]
  },
  {
   "cell_type": "code",
   "execution_count": 110,
   "metadata": {},
   "outputs": [
    {
     "data": {
      "text/plain": [
       "({'ztautau': 3213341, 'ttbar': 148298, 'diboson': 12298, 'htautau': 3417},\n",
       " detailed_labels\n",
       " ztautau    3213341\n",
       " ttbar       148298\n",
       " diboson      12298\n",
       " htautau       3417\n",
       " Name: count, dtype: int64)"
      ]
     },
     "execution_count": 110,
     "metadata": {},
     "output_type": "execute_result"
    }
   ],
   "source": [
    "pseudo_exp_counts, pseudo_exp_data['detailed_labels'].value_counts()"
   ]
  },
  {
   "cell_type": "code",
   "execution_count": 132,
   "metadata": {},
   "outputs": [
    {
     "name": "stdout",
     "output_type": "stream",
     "text": [
      "4/4 [==============================] - 0s 38ms/step\n",
      "4/4 [==============================] - 0s 38ms/step\n",
      "4/4 [==============================] - 0s 37ms/step\n",
      "4/4 [==============================] - 0s 37ms/step\n",
      "4/4 [==============================] - 0s 37ms/step\n",
      "4/4 [==============================] - 0s 37ms/step\n",
      "4/4 [==============================] - 0s 37ms/step\n",
      "4/4 [==============================] - 0s 38ms/step\n",
      "4/4 [==============================] - 0s 38ms/step\n",
      "4/4 [==============================] - 0s 37ms/step\n",
      "4/4 [==============================] - 0s 37ms/step\n",
      "4/4 [==============================] - 0s 37ms/step\n",
      "4/4 [==============================] - 0s 38ms/step\n",
      "4/4 [==============================] - 0s 37ms/step\n",
      "4/4 [==============================] - 0s 38ms/step\n",
      "4/4 [==============================] - 0s 37ms/step\n",
      "4/4 [==============================] - 0s 37ms/step\n",
      "4/4 [==============================] - 0s 37ms/step\n",
      "4/4 [==============================] - 0s 38ms/step\n",
      "4/4 [==============================] - 0s 38ms/step\n",
      "4/4 [==============================] - 0s 38ms/step\n",
      "4/4 [==============================] - 0s 37ms/step\n",
      "4/4 [==============================] - 0s 38ms/step\n",
      "4/4 [==============================] - 0s 37ms/step\n",
      "4/4 [==============================] - 0s 38ms/step\n",
      "4/4 [==============================] - 0s 37ms/step\n",
      "4/4 [==============================] - 0s 37ms/step\n",
      "4/4 [==============================] - 0s 37ms/step\n",
      "4/4 [==============================] - 0s 38ms/step\n",
      "4/4 [==============================] - 0s 38ms/step\n",
      "4/4 [==============================] - 0s 38ms/step\n",
      "4/4 [==============================] - 0s 37ms/step\n",
      "4/4 [==============================] - 0s 37ms/step\n",
      "4/4 [==============================] - 0s 37ms/step\n",
      "4/4 [==============================] - 0s 38ms/step\n",
      "4/4 [==============================] - 0s 38ms/step\n",
      "4/4 [==============================] - 0s 37ms/step\n",
      "4/4 [==============================] - 0s 37ms/step\n",
      "4/4 [==============================] - 0s 38ms/step\n",
      "4/4 [==============================] - 0s 37ms/step\n",
      "4/4 [==============================] - 0s 37ms/step\n",
      "4/4 [==============================] - 0s 37ms/step\n",
      "4/4 [==============================] - 0s 37ms/step\n",
      "4/4 [==============================] - 0s 37ms/step\n",
      "4/4 [==============================] - 0s 38ms/step\n",
      "4/4 [==============================] - 0s 37ms/step\n",
      "4/4 [==============================] - 0s 37ms/step\n",
      "4/4 [==============================] - 0s 37ms/step\n",
      "4/4 [==============================] - 0s 37ms/step\n",
      "4/4 [==============================] - 0s 37ms/step\n",
      "4/4 [==============================] - 0s 37ms/step\n",
      "4/4 [==============================] - 0s 37ms/step\n",
      "4/4 [==============================] - 0s 37ms/step\n",
      "4/4 [==============================] - 0s 37ms/step\n",
      "4/4 [==============================] - 0s 37ms/step\n",
      "4/4 [==============================] - 0s 37ms/step\n",
      "4/4 [==============================] - 0s 38ms/step\n",
      "4/4 [==============================] - 0s 38ms/step\n",
      "4/4 [==============================] - 0s 37ms/step\n",
      "4/4 [==============================] - 0s 37ms/step\n",
      "4/4 [==============================] - 0s 37ms/step\n",
      "4/4 [==============================] - 0s 38ms/step\n",
      "4/4 [==============================] - 0s 37ms/step\n",
      "4/4 [==============================] - 0s 38ms/step\n",
      "4/4 [==============================] - 0s 38ms/step\n",
      "4/4 [==============================] - 0s 38ms/step\n",
      "4/4 [==============================] - 0s 37ms/step\n",
      "4/4 [==============================] - 0s 38ms/step\n",
      "4/4 [==============================] - 0s 37ms/step\n",
      "4/4 [==============================] - 0s 38ms/step\n",
      "4/4 [==============================] - 0s 37ms/step\n",
      "4/4 [==============================] - 0s 37ms/step\n",
      "4/4 [==============================] - 0s 38ms/step\n",
      "4/4 [==============================] - 0s 37ms/step\n",
      "4/4 [==============================] - 0s 38ms/step\n",
      "4/4 [==============================] - 0s 37ms/step\n",
      "4/4 [==============================] - 0s 37ms/step\n",
      "4/4 [==============================] - 0s 37ms/step\n",
      "4/4 [==============================] - 0s 37ms/step\n",
      "4/4 [==============================] - 0s 38ms/step\n",
      "4/4 [==============================] - 0s 38ms/step\n",
      "4/4 [==============================] - 0s 37ms/step\n",
      "4/4 [==============================] - 0s 38ms/step\n",
      "4/4 [==============================] - 0s 38ms/step\n",
      "4/4 [==============================] - 0s 38ms/step\n",
      "4/4 [==============================] - 0s 38ms/step\n",
      "4/4 [==============================] - 0s 37ms/step\n",
      "4/4 [==============================] - 0s 38ms/step\n",
      "4/4 [==============================] - 0s 38ms/step\n",
      "4/4 [==============================] - 0s 38ms/step\n",
      "4/4 [==============================] - 0s 38ms/step\n",
      "4/4 [==============================] - 0s 38ms/step\n",
      "4/4 [==============================] - 0s 38ms/step\n",
      "4/4 [==============================] - 0s 38ms/step\n",
      "4/4 [==============================] - 0s 37ms/step\n",
      "4/4 [==============================] - 0s 38ms/step\n",
      "4/4 [==============================] - 0s 37ms/step\n",
      "4/4 [==============================] - 0s 38ms/step\n",
      "4/4 [==============================] - 0s 38ms/step\n",
      "4/4 [==============================] - 0s 38ms/step\n"
     ]
    }
   ],
   "source": [
    "seed_init = 3141592653\n",
    "num_pseudo_experiments = 100\n",
    "pseudo_results = []\n",
    "mu_true = 1.75\n",
    "pseudo_exp_frac = 1\n",
    "\n",
    "# for seed in range(seed_init, seed_init + num_pseudo_experiments):\n",
    "for j in range(num_pseudo_experiments):\n",
    "    print(f'{j / num_pseudo_experiments:.2%} complete', end='\\r', flush=True)\n",
    "    seed = seed_init + j\n",
    "    pseudo_exp_data, pseudo_exp_counts = ingestion.data.generate_psuedo_exp_data(mu_true, seed=seed, return_counts=True, lhc_frac=pseudo_exp_frac)\n",
    "    # pseudo_exp_data = {name: v[:int(v.shape[0] / 10 + .5)] for name, v in pseudo_exp_data.items()} # only keep the first 10% of the data\n",
    "    # pseudo_exp_counts = pseudo_exp_data['detailed_labels'].value_counts().to_dict()\n",
    "    pseudo_exp_data['scores'] = ingestion.model.model.predict(pseudo_exp_data['data'])\n",
    "    pseudo_exp_hist = np.histogram(\n",
    "        pseudo_exp_data['scores'], # testing using the labels in place of the scores\n",
    "        bins=hist_bins,\n",
    "    )\n",
    "    # pseudo_nlls = NLLarray(mus, pseudo_exp_hist[0], histograms['valid_sig'][0], histograms['valid_bkgd'][0])\n",
    "    pseudo_nlls = [\n",
    "        NLL(\n",
    "            mu,\n",
    "            pseudo_exp_hist[0],\n",
    "            histograms['valid_sig'][0] * pseudo_exp_frac,\n",
    "            histograms['valid_bkgd'][0] * pseudo_exp_frac,\n",
    "        ) for mu in mus\n",
    "    ]\n",
    "    pseudo_results.append((seed, get_results(mus, pseudo_nlls), pseudo_exp_counts))"
   ]
  },
  {
   "cell_type": "code",
   "execution_count": 134,
   "metadata": {},
   "outputs": [],
   "source": [
    "intervals = np.array([result[1][1] for result in pseudo_results])"
   ]
  },
  {
   "cell_type": "code",
   "execution_count": 49,
   "metadata": {},
   "outputs": [],
   "source": [
    "def sigma_fractions(intervals, mu_true=1, max_sigma=5):\n",
    "    def n_sigma(n, means, intervals):\n",
    "        return n * (intervals - means[:, None]) + means[:, None]\n",
    "    means = intervals.mean(1)\n",
    "    num_samples = intervals.shape[0]\n",
    "    frac_within = [\n",
    "        ((n_sigma(j, means, intervals)[:, 0] < mu_true) & (mu_true < n_sigma(j, means, intervals)[:, 1])).sum() / num_samples\n",
    "        for j in range(1, max_sigma + 1)\n",
    "    ]\n",
    "    return frac_within"
   ]
  },
  {
   "cell_type": "code",
   "execution_count": 135,
   "metadata": {},
   "outputs": [
    {
     "name": "stdout",
     "output_type": "stream",
     "text": [
      "fraction within 1 sigma: 0.53\n",
      "fraction within 2 sigma: 0.91\n",
      "fraction within 3 sigma: 0.98\n",
      "fraction within 4 sigma: 1.00\n",
      "fraction within 5 sigma: 1.00\n"
     ]
    }
   ],
   "source": [
    "for j, frac in enumerate(sigma_fractions(intervals, mu_true)):\n",
    "    print(f'fraction within {j+1} sigma: {frac:.2f}')"
   ]
  },
  {
   "cell_type": "code",
   "execution_count": 136,
   "metadata": {},
   "outputs": [
    {
     "data": {
      "text/plain": [
       "(3462.270618083011, 3448, 6051.44)"
      ]
     },
     "execution_count": 136,
     "metadata": {},
     "output_type": "execute_result"
    }
   ],
   "source": [
    "# for *_, counts in pseudo_results:\n",
    "#     print(counts['htautau'] / mu_true)\n",
    "\n",
    "valid_set['weights'][valid_set['labels'] == 1].sum(), test_set['htautau'].shape[0], np.mean([counts['htautau'] for *_, counts in pseudo_results])"
   ]
  },
  {
   "cell_type": "code",
   "execution_count": 137,
   "metadata": {},
   "outputs": [],
   "source": [
    "tmp_stats = {}"
   ]
  },
  {
   "cell_type": "code",
   "execution_count": 138,
   "metadata": {},
   "outputs": [],
   "source": [
    "tmp_stats['ddof'] = 1\n",
    "\n",
    "tmp_stats['mu_hat_mean'] = intervals.mean()\n",
    "tmp_stats['mu_hat_std'] = intervals.mean(1).std(ddof=tmp_stats['ddof'])\n",
    "tmp_stats['mu_hat_stderr'] = tmp_stats['mu_hat_std'] / np.sqrt(intervals.shape[0])\n",
    "tmp_stats['width_mean'] = (intervals[:, 1] - intervals[:, 0]).mean()\n",
    "tmp_stats['width_std'] = (intervals[:, 1] - intervals[:, 0]).std(ddof=tmp_stats['ddof'])"
   ]
  },
  {
   "cell_type": "code",
   "execution_count": 139,
   "metadata": {},
   "outputs": [
    {
     "data": {
      "text/plain": [
       "{'ddof': 1,\n",
       " 'mu_hat_mean': 1.8570544830448303,\n",
       " 'mu_hat_std': 0.10607069514492824,\n",
       " 'mu_hat_stderr': 0.010607069514492824,\n",
       " 'width_mean': 0.2421714467144672,\n",
       " 'width_std': 0.0014288526815612029}"
      ]
     },
     "execution_count": 139,
     "metadata": {},
     "output_type": "execute_result"
    }
   ],
   "source": [
    "tmp_stats"
   ]
  },
  {
   "cell_type": "code",
   "execution_count": 140,
   "metadata": {},
   "outputs": [
    {
     "data": {
      "text/plain": [
       "(0.21214139028985649, 0.2421714467144672)"
      ]
     },
     "execution_count": 140,
     "metadata": {},
     "output_type": "execute_result"
    }
   ],
   "source": [
    "tmp_stats['mu_hat_std'] * 2, tmp_stats['width_mean']"
   ]
  },
  {
   "cell_type": "code",
   "execution_count": 141,
   "metadata": {},
   "outputs": [
    {
     "data": {
      "text/plain": [
       "10.092748322103285"
      ]
     },
     "execution_count": 141,
     "metadata": {},
     "output_type": "execute_result"
    }
   ],
   "source": [
    "(tmp_stats['mu_hat_mean'] - mu_true) / tmp_stats['mu_hat_stderr']"
   ]
  },
  {
   "cell_type": "code",
   "execution_count": 142,
   "metadata": {},
   "outputs": [
    {
     "data": {
      "text/plain": [
       "<matplotlib.legend.Legend at 0x7fc433b25f10>"
      ]
     },
     "execution_count": 142,
     "metadata": {},
     "output_type": "execute_result"
    },
    {
     "data": {
      "image/png": "[encoded data removed]",
      "text/plain": [
       "<Figure size 1200x1000 with 1 Axes>"
      ]
     },
     "metadata": {},
     "output_type": "display_data"
    }
   ],
   "source": [
    "plt.figure(figsize=(12, 10))\n",
    "# plot mu_hat\n",
    "plt.plot(\n",
    "    [result[1][0] for result in pseudo_results],\n",
    "    [seed for seed, *_ in pseudo_results],\n",
    "    '.',\n",
    "    label='mu_hat',\n",
    "    # alpha=0.5,\n",
    ")\n",
    "# plot mu_hat error bars\n",
    "plt.hlines(\n",
    "    [seed for seed, *_ in pseudo_results],\n",
    "    [result[1][1][0] for result in pseudo_results],\n",
    "    [result[1][1][1] for result in pseudo_results],\n",
    "    # linestyles='solid',\n",
    "    # label='p16-p84',\n",
    "    # alpha=0.5,\n",
    ")\n",
    "# plot mu_true\n",
    "plt.axvline(mu_true, color='black', label=f'{mu_true=}')\n",
    "# plot mu_hat mean\n",
    "plt.axvline(intervals.mean(1).mean(), color='r', label=f'mu_hat_mean={intervals.mean(1).mean():.3f}')\n",
    "# plot mu_hat stderr\n",
    "plt.axvspan(\n",
    "    intervals.mean() - intervals.mean(1).std() / np.sqrt(intervals.shape[0]),\n",
    "    intervals.mean() + intervals.mean(1).std() / np.sqrt(intervals.shape[0]),\n",
    "    color='r',\n",
    "    alpha=0.25,\n",
    "    label=f'mu_hat stderr={intervals.mean(1).std() / np.sqrt(intervals.shape[0]):.3f}',\n",
    ")\n",
    "plt.xlabel('mu')\n",
    "plt.ylabel(f'pseudo experiment seed')\n",
    "# plt.twiny()\n",
    "# plot mu_ideal = sig_observed / sig_expected\n",
    "plt.plot(\n",
    "    [counts['htautau'] / (pseudo_exp_frac * valid_set['weights'][valid_set['labels'] == 1].sum()) for *_, counts in pseudo_results],\n",
    "    [seed for seed, *_ in pseudo_results],\n",
    "    '.',\n",
    "    color='C1',\n",
    "    label='mu_ideal',\n",
    "    # alpha=0.5,\n",
    ")\n",
    "# plot mu_ideal error bars\n",
    "plt.hlines(\n",
    "    [seed for seed, *_ in pseudo_results],\n",
    "    [(counts['htautau'] - np.sqrt(counts['htautau'])) / (pseudo_exp_frac * valid_set['weights'][valid_set['labels'] == 1].sum()) for *_, counts in pseudo_results],\n",
    "    [(counts['htautau'] + np.sqrt(counts['htautau'])) / (pseudo_exp_frac * valid_set['weights'][valid_set['labels'] == 1].sum()) for *_, counts in pseudo_results],\n",
    "    color='C1',\n",
    "    # linestyles='dashed',\n",
    "    # label='p16-p84 poisson',\n",
    "    # alpha=0.5,\n",
    ")\n",
    "# plt.xlim(0, 3)\n",
    "plt.legend()"
   ]
  },
  {
   "cell_type": "code",
   "execution_count": 143,
   "metadata": {},
   "outputs": [
    {
     "data": {
      "text/plain": [
       "Text(0.5, 0, 'pull')"
      ]
     },
     "execution_count": 143,
     "metadata": {},
     "output_type": "execute_result"
    },
    {
     "data": {
      "image/png": "[encoded data removed]",
      "text/plain": [
       "<Figure size 640x480 with 1 Axes>"
      ]
     },
     "metadata": {},
     "output_type": "display_data"
    }
   ],
   "source": [
    "plt.hist(\n",
    "    (intervals.mean(1) - mu_true) / ((intervals[:, 1] - intervals[:, 0]) / 2), # pulls\n",
    "    bins=20,\n",
    ")\n",
    "plt.xlabel('pull')"
   ]
  },
  {
   "cell_type": "code",
   "execution_count": 69,
   "metadata": {},
   "outputs": [
    {
     "name": "stdout",
     "output_type": "stream",
     "text": [
      "Train: DER_deltar_had_lep float64\n",
      "Test:  DER_deltar_had_lep float64\n",
      "Train: DER_met_phi_centrality float64\n",
      "Test:  DER_met_phi_centrality float64\n"
     ]
    }
   ],
   "source": [
    "for name in valid_set['data'].columns:\n",
    "    if valid_set['data'][name].dtype != np.float32:\n",
    "        print('Train:', name, valid_set['data'][name].dtype)\n",
    "    if pseudo_exp_data['data'][name].dtype != np.float32:\n",
    "        print('Test: ', name, pseudo_exp_data['data'][name].dtype)"
   ]
  },
  {
   "cell_type": "code",
   "execution_count": 144,
   "metadata": {},
   "outputs": [],
   "source": [
    "def pull_hist(intervals, mu_true=1, bins=100):\n",
    "    pulls = (intervals.mean(1) - mu_true) / ((intervals[:, 1] - intervals[:, 0]) / 2)\n",
    "    return np.histogram(pulls, bins=bins)"
   ]
  },
  {
   "cell_type": "code",
   "execution_count": null,
   "metadata": {},
   "outputs": [],
   "source": []
  },
  {
   "cell_type": "code",
   "execution_count": 145,
   "metadata": {},
   "outputs": [
    {
     "data": {
      "text/plain": [
       "Text(0, 0.5, 'one sigma width')"
      ]
     },
     "execution_count": 145,
     "metadata": {},
     "output_type": "execute_result"
    },
    {
     "data": {
      "image/png": "[encoded data removed]",
      "text/plain": [
       "<Figure size 640x480 with 1 Axes>"
      ]
     },
     "metadata": {},
     "output_type": "display_data"
    }
   ],
   "source": [
    "plt.plot((intervals[:, 1] - intervals[:, 0]) / 2, '.')\n",
    "plt.xlabel('pseudo experiment')\n",
    "plt.ylabel('one sigma width')\n",
    "# plt.twinx()\n",
    "# plt.plot(intervals.mean(1), '.', color='r')\n",
    "# plt.ylabel('mu_hat')"
   ]
  },
  {
   "cell_type": "markdown",
   "metadata": {},
   "source": [
    "***\n",
    "# Score\n",
    "***\n",
    "1. Compute Scores\n",
    "2. Visualize Scores\n"
   ]
  },
  {
   "cell_type": "code",
   "execution_count": null,
   "metadata": {},
   "outputs": [],
   "source": [
    "def visualize_scatter(ingestion_result_dict, ground_truth_mus):\n",
    "    plt.figure(figsize=(6, 4))\n",
    "    for key in ingestion_result_dict.keys():\n",
    "        ingestion_result = ingestion_result_dict[key]\n",
    "        mu_hat = np.mean(ingestion_result[\"mu_hats\"])\n",
    "        mu = ground_truth_mus[key]\n",
    "        plt.scatter(mu, mu_hat, c='b', marker='o')\n",
    "    \n",
    "    plt.xlabel('Ground Truth $\\mu$')\n",
    "    plt.ylabel('Predicted $\\mu$ (averaged for 100 test sets)')\n",
    "    plt.title('Ground Truth vs. Predicted $\\mu$ Values')\n",
    "    plt.grid(axis='y', linestyle='--', alpha=0.7)\n",
    "    plt.show()\n",
    "\n",
    "def visualize_coverage(ingestion_result_dict, ground_truth_mus):\n",
    "\n",
    "    for key in ingestion_result_dict.keys():\n",
    "        plt.figure( figsize=(5, 5))\n",
    "\n",
    "        ingestion_result = ingestion_result_dict[key]\n",
    "        mu = ground_truth_mus[key]\n",
    "        mu_hats = np.mean(ingestion_result[\"mu_hats\"])\n",
    "        p16s = ingestion_result[\"p16\"]\n",
    "        p84s = ingestion_result[\"p84\"]\n",
    "        \n",
    "        # plot horizontal lines from p16 to p84\n",
    "        for i, (p16, p84) in enumerate(zip(p16s, p84s)):\n",
    "            plt.hlines(y=i, xmin=p16, xmax=p84, colors='b', label='p16-p84')\n",
    "\n",
    "        plt.vlines(x=mu_hats, ymin=0, ymax=len(p16s), colors='r', linestyles='dashed', label='Predicted $\\mu$')\n",
    "        plt.vlines(x=mu, ymin=0, ymax=len(p16s), colors='g', linestyles='dashed', label='Ground Truth $\\mu$')\n",
    "        plt.xlabel('mu')\n",
    "        plt.ylabel('psuedo-experiments')\n",
    "        plt.title(f'mu distribution - Set_{key}')\n",
    "        plt.legend()\n",
    "        \n",
    "    plt.show()\n"
   ]
  },
  {
   "cell_type": "code",
   "execution_count": null,
   "metadata": {},
   "outputs": [],
   "source": [
    "from score import Scoring"
   ]
  },
  {
   "cell_type": "code",
   "execution_count": null,
   "metadata": {},
   "outputs": [],
   "source": [
    "# Initialize Score\n",
    "score = Scoring()"
   ]
  },
  {
   "cell_type": "code",
   "execution_count": null,
   "metadata": {},
   "outputs": [],
   "source": [
    "score.load_ingestion_results(output_dir)"
   ]
  },
  {
   "cell_type": "code",
   "execution_count": null,
   "metadata": {},
   "outputs": [],
   "source": [
    "# Compute Score\n",
    "score.compute_scores(test_settings)"
   ]
  },
  {
   "cell_type": "code",
   "execution_count": null,
   "metadata": {},
   "outputs": [],
   "source": [
    "# Visualize scatter plot of ground truth mu and predicted mu\n",
    "visualize_scatter(ingestion_result_dict=ingestion.results_dict, \n",
    "                  ground_truth_mus=test_settings[\"ground_truth_mus\"])"
   ]
  },
  {
   "cell_type": "code",
   "execution_count": null,
   "metadata": {},
   "outputs": [],
   "source": [
    "# Visualize coverage\n",
    "visualize_coverage(ingestion_result_dict=ingestion.results_dict, \n",
    "                  ground_truth_mus=test_settings[\"ground_truth_mus\"])"
   ]
  },
  {
   "cell_type": "markdown",
   "metadata": {},
   "source": [
    "***\n",
    "# Submission\n",
    "***"
   ]
  },
  {
   "cell_type": "markdown",
   "metadata": {},
   "source": [
    "### **Prepare the submission**"
   ]
  },
  {
   "cell_type": "code",
   "execution_count": null,
   "metadata": {},
   "outputs": [],
   "source": [
    "import datetime\n",
    "from data_io import zipdir\n",
    "the_date = datetime.datetime.now().strftime(\"%y-%m-%d-%H-%M\")\n",
    "code_submission = 'HiggsML-code_submission_' + the_date + '.zip'\n",
    "zipdir(code_submission, submission_dir)\n",
    "print(\"Submit : \" + code_submission + \" to the competition\")\n",
    "print(\"You can find the zip file in `HEP-Challenge/\")"
   ]
  },
  {
   "cell_type": "code",
   "execution_count": null,
   "metadata": {},
   "outputs": [],
   "source": []
  }
 ],
 "metadata": {
  "kernelspec": {
   "display_name": "Python 3 (ipykernel)",
   "language": "python",
   "name": "python3"
  },
  "language_info": {
   "codemirror_mode": {
    "name": "ipython",
    "version": 3
   },
   "file_extension": ".py",
   "mimetype": "text/x-python",
   "name": "python",
   "nbconvert_exporter": "python",
   "pygments_lexer": "ipython3",
   "version": "3.11.9"
  },
  "vscode": {
   "interpreter": {
    "hash": "c9e001b0608738f9411416229c98988c04b997dc526fb61c5e4e084e768e3249"
   }
  }
 },
 "nbformat": 4,
 "nbformat_minor": 4
}
