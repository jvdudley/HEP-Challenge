{
 "cells": [
  {
   "cell_type": "markdown",
   "metadata": {},
   "source": [
    "# Starting Kit - FAIR UNIVERSE: HIGGSML UNCERTAINTY CHALLENGE\n",
    "\n",
    "For Overview and Decsiptions of the competition, please visit the competition page"
   ]
  },
  {
   "cell_type": "markdown",
   "metadata": {},
   "source": [
    "## Setup\n",
    "`COLAB` determines whether this notebook is running on Google Colab."
   ]
  },
  {
   "cell_type": "code",
   "execution_count": 1,
   "metadata": {},
   "outputs": [],
   "source": [
    "COLAB = 'google.colab' in str(get_ipython())"
   ]
  },
  {
   "cell_type": "code",
   "execution_count": 2,
   "metadata": {},
   "outputs": [],
   "source": [
    "if COLAB:\n",
    "    # clone github repo\n",
    "    !git clone https://github.com/FAIR-Universe/HEP-Challenge.git\n",
    "    !pip install iminuit\n",
    "\n",
    "    # move to the HEP starting kit folder\n",
    "    %cd HEP-Challenge/"
   ]
  },
  {
   "cell_type": "code",
   "execution_count": 3,
   "metadata": {},
   "outputs": [],
   "source": [
    "TEST_SETTINGS = {\n",
    "\"systematics\": {  # Systematics to use\n",
    "    \"tes\": False, # tau energy scale\n",
    "    \"jes\": False, # jet energy scale\n",
    "    \"soft_met\": False, # soft term in MET\n",
    "    \"ttbar_scale\": False, # ttbar scale factor\n",
    "    \"diboson_scale\": False, # diboson scale factor\n",
    "    \"bkg_scale\": False, # Background scale factor\n",
    "    },\n",
    "\"num_pseudo_experiments\" : 2 , # Number of pseudo-experiments to run per set\n",
    "\"num_of_sets\" : 5, # Number of sets of pseudo-experiments to run\n",
    "} \n",
    "\n",
    "USE_RANDOM_MUS = True"
   ]
  },
  {
   "cell_type": "markdown",
   "metadata": {},
   "source": [
    "## Existing Submissions\n",
    "By this point you should have a clone of the repo which contains `HiggsML_Dummy_Submission.zip` which you can submit to the Competition\n",
    "\n",
    "For more sample submissions please check `/HEP-Challenge/example_submissions/`"
   ]
  },
  {
   "cell_type": "markdown",
   "metadata": {},
   "source": [
    "### Imports"
   ]
  },
  {
   "cell_type": "code",
   "execution_count": 4,
   "metadata": {},
   "outputs": [],
   "source": [
    "from sys import path\n",
    "import numpy as np\n",
    "import pandas as pd\n",
    "import json\n",
    "import matplotlib.pyplot as plt\n",
    "from itertools import product\n",
    "from numpy.random import RandomState\n",
    "import warnings\n",
    "import os\n",
    "import sys\n",
    "warnings.filterwarnings(\"ignore\")"
   ]
  },
  {
   "cell_type": "markdown",
   "metadata": {},
   "source": [
    "### Directories"
   ]
  },
  {
   "cell_type": "code",
   "execution_count": 5,
   "metadata": {},
   "outputs": [
    {
     "name": "stdout",
     "output_type": "stream",
     "text": [
      "Root directory is /clusterfs/ml4hep/jvdudley/projects/FairUniverse/examples/HEP-Challenge\n"
     ]
    }
   ],
   "source": [
    "\n",
    "root_dir = os.getcwd()\n",
    "print(\"Root directory is\", root_dir)\n",
    "\n",
    "input_dir = os.path.join(root_dir, \"input_data\")\n",
    "output_dir = os.path.join(root_dir, \"sample_result_submission\")\n",
    "submission_dir = os.path.join(root_dir, \"sample_code_submission\")\n",
    "program_dir = os.path.join(root_dir, \"ingestion_program\")\n",
    "score_dir = os.path.join(root_dir, \"scoring_program\")\n",
    "    \n",
    "test_settings = TEST_SETTINGS.copy()\n",
    "\n",
    "if USE_RANDOM_MUS:\n",
    "    test_settings[ \"ground_truth_mus\"] = (np.random.uniform(0.1, 3, test_settings[\"num_of_sets\"])).tolist()\n",
    "    \n",
    "    random_settings_file = os.path.join(output_dir, \"random_mu.json\")\n",
    "    with open(random_settings_file, \"w\") as f:\n",
    "        json.dump(test_settings, f)\n",
    "else:\n",
    "    test_settings_file = os.path.join(input_dir, \"test\", \"settings\", \"data.json\")\n",
    "    with open(test_settings_file) as f:\n",
    "        test_settings = json.load(f)\n"
   ]
  },
  {
   "cell_type": "markdown",
   "metadata": {},
   "source": [
    "\n",
    "### Add directories to path"
   ]
  },
  {
   "cell_type": "code",
   "execution_count": 6,
   "metadata": {},
   "outputs": [],
   "source": [
    "path.append(program_dir)\n",
    "path.append(submission_dir)\n",
    "path.append(score_dir)"
   ]
  },
  {
   "cell_type": "markdown",
   "metadata": {},
   "source": [
    "***\n",
    "# Internal imports\n",
    "***"
   ]
  },
  {
   "cell_type": "code",
   "execution_count": 7,
   "metadata": {},
   "outputs": [],
   "source": [
    "from visualization import *\n",
    "from systematics import systematics"
   ]
  },
  {
   "cell_type": "markdown",
   "metadata": {},
   "source": [
    "***\n",
    "# Import Submission Model\n",
    "***\n",
    "We import a class named `Model` from the submission file (`model.py`). This `Model` class has the following methods:\n",
    "- `init`: receives train set and systematics class as input\n",
    "- `fit`: can be used for training\n",
    "- `predict`: receives one test set and outputs a dictionary with the following keys\n",
    "    - `mu_hat` : predicted mu $\\hat{\\mu}$\n",
    "    - `delta_mu_hat`: $\\Delta{\\hat{\\mu}}$ bound for $\\mu$\n",
    "    - `p16`: 16th percentile\n",
    "    - `p84`: 84th percentile\n",
    "\n",
    "In this example code, the `Model` class implements an XGBoost model which is trained to predict both the TES and the class label. You can find the code in `HEP-Challenge/sample_code_submission/model.py`. You can modify it the way you want, keeping the required class structure and functions there. More instructions are given inside the `model.py` file. If running in Collab, click the folder icon in the left sidebar to open the file browser.\n",
    "\n",
    "### ⚠️ Note:\n",
    "In real setting i.e. the challenge itself, the submitted model is initialized once with train set and systematics class and the `predict` is called multiple times, each time with a different test sets. "
   ]
  },
  {
   "cell_type": "code",
   "execution_count": 8,
   "metadata": {},
   "outputs": [],
   "source": [
    "from model import Model\n",
    "from datasets import Data"
   ]
  },
  {
   "cell_type": "markdown",
   "metadata": {},
   "source": [
    "***\n",
    "## Data\n",
    "***\n",
    "\n",
    "### ⚠️ Note:\n",
    "The data used here is a small sample data is for demonstration only to get a view of what the data looks like. "
   ]
  },
  {
   "cell_type": "markdown",
   "metadata": {},
   "source": [
    "`USE_PUBLIC_DATASET` determines whether to use a public dataset provided for the participants or use a small sample datafor quick execution of this notebook"
   ]
  },
  {
   "cell_type": "code",
   "execution_count": 9,
   "metadata": {},
   "outputs": [],
   "source": [
    "USE_PUBLIC_DATASET = True"
   ]
  },
  {
   "cell_type": "markdown",
   "metadata": {},
   "source": [
    "`USE_PUBLIC_DATASET` determines whether to use a public dataset provided for the participants or use a small subset of the data for quick execution of this notebook"
   ]
  },
  {
   "cell_type": "code",
   "execution_count": 10,
   "metadata": {},
   "outputs": [],
   "source": [
    "if USE_PUBLIC_DATASET:\n",
    "    from datasets import Neurips2024_public_dataset as public_dataset\n",
    "    data = public_dataset()\n",
    "else:\n",
    "    data = Data(input_dir)"
   ]
  },
  {
   "cell_type": "markdown",
   "metadata": {},
   "source": [
    "The function loads the downloaded data in the public_data folder or downloads the data from codabench using `wget` in the absence of the downloaded data, "
   ]
  },
  {
   "cell_type": "code",
   "execution_count": 11,
   "metadata": {},
   "outputs": [
    {
     "name": "stdout",
     "output_type": "stream",
     "text": [
      "[*] Loading Train data\n"
     ]
    },
    {
     "name": "stdout",
     "output_type": "stream",
     "text": [
      "<class 'pandas.core.frame.DataFrame'>\n",
      "RangeIndex: 71566438 entries, 0 to 71566437\n",
      "Columns: 28 entries, PRI_lep_pt to DER_lep_eta_centrality\n",
      "dtypes: float32(28)\n",
      "memory usage: 7.5 GB\n",
      "None\n",
      "[+] Train data loaded successfully\n"
     ]
    }
   ],
   "source": [
    "# load train set\n",
    "data.load_train_set()"
   ]
  },
  {
   "cell_type": "code",
   "execution_count": 12,
   "metadata": {},
   "outputs": [
    {
     "name": "stdout",
     "output_type": "stream",
     "text": [
      "[*] Loading Test data\n"
     ]
    },
    {
     "name": "stdout",
     "output_type": "stream",
     "text": [
      "[+] Test data loaded successfully\n"
     ]
    }
   ],
   "source": [
    "# load test sets\n",
    "data.load_test_set()"
   ]
  },
  {
   "cell_type": "markdown",
   "metadata": {},
   "source": [
    "***\n",
    "# Visualize\n",
    "***\n",
    "- Visualize Train set"
   ]
  },
  {
   "cell_type": "code",
   "execution_count": null,
   "metadata": {},
   "outputs": [],
   "source": [
    "train_visualize = Dataset_visualise(\n",
    "    data_set=data.get_train_set(),\n",
    "    columns=[\n",
    "        \"PRI_jet_leading_pt\",\n",
    "        \"PRI_met\",\n",
    "        \"DER_mass_vis\",\n",
    "        \"DER_mass_jet_jet\",\n",
    "        \"DER_sum_pt\",\n",
    "    ],\n",
    "    name=\"Train Set\",\n",
    ")"
   ]
  },
  {
   "cell_type": "code",
   "execution_count": null,
   "metadata": {},
   "outputs": [],
   "source": [
    "# Show data summary\n",
    "train_visualize.examine_dataset()"
   ]
  },
  {
   "cell_type": "code",
   "execution_count": null,
   "metadata": {},
   "outputs": [],
   "source": [
    "# Show data summary\n",
    "train_visualize.histogram_dataset()"
   ]
  },
  {
   "cell_type": "code",
   "execution_count": null,
   "metadata": {},
   "outputs": [],
   "source": [
    "train_visualize.stacked_histogram(\"DER_deltar_had_lep\")"
   ]
  },
  {
   "cell_type": "code",
   "execution_count": null,
   "metadata": {},
   "outputs": [],
   "source": [
    "# Show data summary\n",
    "train_visualize.pair_plots(sample_size=100)"
   ]
  },
  {
   "cell_type": "code",
   "execution_count": null,
   "metadata": {},
   "outputs": [],
   "source": [
    "syst_train_data = data.get_syst_train_set()"
   ]
  },
  {
   "cell_type": "code",
   "execution_count": null,
   "metadata": {},
   "outputs": [],
   "source": [
    "# Pair plots of train set with systematics\n",
    "train_visualize.pair_plots_syst(syst_train_data[\"data\"], sample_size=100)"
   ]
  },
  {
   "cell_type": "code",
   "execution_count": null,
   "metadata": {},
   "outputs": [],
   "source": [
    "bootstraped_data = data.generate_psuedo_exp_data()"
   ]
  },
  {
   "cell_type": "code",
   "execution_count": null,
   "metadata": {},
   "outputs": [],
   "source": [
    "# Show data summary\n",
    "train_visualize.examine_dataset()"
   ]
  },
  {
   "cell_type": "code",
   "execution_count": null,
   "metadata": {},
   "outputs": [],
   "source": [
    "print(\"sum of weights = \", (bootstraped_data[\"weights\"]).sum())"
   ]
  },
  {
   "cell_type": "markdown",
   "metadata": {},
   "source": [
    "***\n",
    "# Program\n",
    "***\n"
   ]
  },
  {
   "cell_type": "code",
   "execution_count": 13,
   "metadata": {},
   "outputs": [],
   "source": [
    "\n",
    "from ingestion import Ingestion\n",
    "\n",
    "ingestion = Ingestion(data)\n"
   ]
  },
  {
   "cell_type": "code",
   "execution_count": 14,
   "metadata": {},
   "outputs": [
    {
     "name": "stdout",
     "output_type": "stream",
     "text": [
      "[*] Initializing Submmited Model\n",
      "[*] Loading Train data\n",
      "<class 'pandas.core.frame.DataFrame'>\n",
      "RangeIndex: 71566438 entries, 0 to 71566437\n",
      "Columns: 28 entries, PRI_lep_pt to DER_lep_eta_centrality\n",
      "dtypes: float32(28)\n",
      "memory usage: 7.5 GB\n",
      "None\n",
      "[+] Train data loaded successfully\n",
      "Full data:  (71566438, 28)\n",
      "Full Labels:  (71566438,)\n",
      "Full Weights:  (71566438,)\n",
      "sum_signal_weights:  3639.452945491281\n",
      "sum_bkg_weights:  3746751.113618623\n",
      " \n",
      " \n",
      "Full size of the data is 71566438\n",
      "Train size is 43408271\n",
      "Test size is 35783219\n",
      "Training Data:  (43408271, 28)\n",
      "Training Labels:  (43408271,)\n",
      "Training Weights:  (43408271,)\n",
      "sum_signal_weights:  3639.4529454912804\n",
      "sum_bkg_weights:  3746751.113618624\n",
      "\n",
      "Valid Data:  (35783219, 28)\n",
      "Valid Labels:  (35783219,)\n",
      "Valid Weights:  (35783219,)\n",
      "sum_signal_weights:  3639.452945491285\n",
      "sum_bkg_weights:  3746751.113618623\n",
      " \n",
      " \n",
      "Training Data:  (43408271, 28)\n"
     ]
    },
    {
     "name": "stderr",
     "output_type": "stream",
     "text": [
      "2024-07-02 11:29:32.936219: E external/local_xla/xla/stream_executor/cuda/cuda_dnn.cc:9261] Unable to register cuDNN factory: Attempting to register factory for plugin cuDNN when one has already been registered\n",
      "2024-07-02 11:29:32.936253: E external/local_xla/xla/stream_executor/cuda/cuda_fft.cc:607] Unable to register cuFFT factory: Attempting to register factory for plugin cuFFT when one has already been registered\n",
      "2024-07-02 11:29:32.937091: E external/local_xla/xla/stream_executor/cuda/cuda_blas.cc:1515] Unable to register cuBLAS factory: Attempting to register factory for plugin cuBLAS when one has already been registered\n",
      "2024-07-02 11:29:32.942251: I tensorflow/core/platform/cpu_feature_guard.cc:182] This TensorFlow binary is optimized to use available CPU instructions in performance-critical operations.\n",
      "To enable the following instructions: SSE4.1 SSE4.2 AVX AVX2 AVX512F FMA, in other operations, rebuild TensorFlow with the appropriate compiler flags.\n",
      "2024-07-02 11:29:39.667110: I tensorflow/core/common_runtime/gpu/gpu_device.cc:1929] Created device /job:localhost/replica:0/task:0/device:GPU:0 with 14606 MB memory:  -> device: 7, name: Tesla V100-SXM2-16GB, pci bus id: 0000:b3:00.0, compute capability: 7.0\n"
     ]
    },
    {
     "name": "stdout",
     "output_type": "stream",
     "text": [
      "8 Physical GPUs, 1 Logical GPUs\n",
      "Model is TF NN\n"
     ]
    }
   ],
   "source": [
    "\n",
    "# initialize submission\n",
    "ingestion.init_submission(Model)"
   ]
  },
  {
   "cell_type": "code",
   "execution_count": 15,
   "metadata": {},
   "outputs": [
    {
     "name": "stdout",
     "output_type": "stream",
     "text": [
      "[*] Calling fit method of submitted model\n",
      "29/29 [==============================] - 3s 45ms/step\n",
      "30/30 [==============================] - 2s 45ms/step\n",
      "31/31 [==============================] - 2s 44ms/step\n"
     ]
    },
    {
     "name": "stderr",
     "output_type": "stream",
     "text": [
      "2024-06-27 14:58:13.347428: W external/local_tsl/tsl/framework/bfc_allocator.cc:485] Allocator (GPU_0_bfc) ran out of memory trying to allocate 3.38GiB (rounded to 3626436096)requested by op _EagerConst\n",
      "If the cause is memory fragmentation maybe the environment variable 'TF_GPU_ALLOCATOR=cuda_malloc_async' will improve the situation. \n",
      "Current allocation summary follows.\n",
      "Current allocation summary follows.\n",
      "2024-06-27 14:58:13.347468: I external/local_tsl/tsl/framework/bfc_allocator.cc:1039] BFCAllocator dump for GPU_0_bfc\n",
      "2024-06-27 14:58:13.347478: I external/local_tsl/tsl/framework/bfc_allocator.cc:1046] Bin (256): \tTotal Chunks: 23, Chunks in use: 23. 5.8KiB allocated for chunks. 5.8KiB in use in bin. 116B client-requested in use in bin.\n",
      "2024-06-27 14:58:13.347486: I external/local_tsl/tsl/framework/bfc_allocator.cc:1046] Bin (512): \tTotal Chunks: 16, Chunks in use: 16. 8.2KiB allocated for chunks. 8.2KiB in use in bin. 6.2KiB client-requested in use in bin.\n",
      "2024-06-27 14:58:13.347491: I external/local_tsl/tsl/framework/bfc_allocator.cc:1046] Bin (1024): \tTotal Chunks: 1, Chunks in use: 1. 1.2KiB allocated for chunks. 1.2KiB in use in bin. 1.0KiB client-requested in use in bin.\n",
      "2024-06-27 14:58:13.347496: I external/local_tsl/tsl/framework/bfc_allocator.cc:1046] Bin (2048): \tTotal Chunks: 0, Chunks in use: 0. 0B allocated for chunks. 0B in use in bin. 0B client-requested in use in bin.\n",
      "2024-06-27 14:58:13.347502: I external/local_tsl/tsl/framework/bfc_allocator.cc:1046] Bin (4096): \tTotal Chunks: 0, Chunks in use: 0. 0B allocated for chunks. 0B in use in bin. 0B client-requested in use in bin.\n",
      "2024-06-27 14:58:13.347507: I external/local_tsl/tsl/framework/bfc_allocator.cc:1046] Bin (8192): \tTotal Chunks: 4, Chunks in use: 3. 47.0KiB allocated for chunks. 33.0KiB in use in bin. 32.8KiB client-requested in use in bin.\n",
      "2024-06-27 14:58:13.347519: I external/local_tsl/tsl/framework/bfc_allocator.cc:1046] Bin (16384): \tTotal Chunks: 2, Chunks in use: 1. 35.0KiB allocated for chunks. 17.2KiB in use in bin. 10.9KiB client-requested in use in bin.\n",
      "2024-06-27 14:58:13.347525: I external/local_tsl/tsl/framework/bfc_allocator.cc:1046] Bin (32768): \tTotal Chunks: 9, Chunks in use: 8. 370.2KiB allocated for chunks. 331.0KiB in use in bin. 312.5KiB client-requested in use in bin.\n",
      "2024-06-27 14:58:13.347530: I external/local_tsl/tsl/framework/bfc_allocator.cc:1046] Bin (65536): \tTotal Chunks: 0, Chunks in use: 0. 0B allocated for chunks. 0B in use in bin. 0B client-requested in use in bin.\n",
      "2024-06-27 14:58:13.347535: I external/local_tsl/tsl/framework/bfc_allocator.cc:1046] Bin (131072): \tTotal Chunks: 0, Chunks in use: 0. 0B allocated for chunks. 0B in use in bin. 0B client-requested in use in bin.\n",
      "2024-06-27 14:58:13.347539: I external/local_tsl/tsl/framework/bfc_allocator.cc:1046] Bin (262144): \tTotal Chunks: 0, Chunks in use: 0. 0B allocated for chunks. 0B in use in bin. 0B client-requested in use in bin.\n",
      "2024-06-27 14:58:13.347544: I external/local_tsl/tsl/framework/bfc_allocator.cc:1046] Bin (524288): \tTotal Chunks: 0, Chunks in use: 0. 0B allocated for chunks. 0B in use in bin. 0B client-requested in use in bin.\n",
      "2024-06-27 14:58:13.347549: I external/local_tsl/tsl/framework/bfc_allocator.cc:1046] Bin (1048576): \tTotal Chunks: 1, Chunks in use: 0. 1.54MiB allocated for chunks. 0B in use in bin. 0B client-requested in use in bin.\n",
      "2024-06-27 14:58:13.347554: I external/local_tsl/tsl/framework/bfc_allocator.cc:1046] Bin (2097152): \tTotal Chunks: 0, Chunks in use: 0. 0B allocated for chunks. 0B in use in bin. 0B client-requested in use in bin.\n",
      "2024-06-27 14:58:13.347558: I external/local_tsl/tsl/framework/bfc_allocator.cc:1046] Bin (4194304): \tTotal Chunks: 0, Chunks in use: 0. 0B allocated for chunks. 0B in use in bin. 0B client-requested in use in bin.\n",
      "2024-06-27 14:58:13.347563: I external/local_tsl/tsl/framework/bfc_allocator.cc:1046] Bin (8388608): \tTotal Chunks: 0, Chunks in use: 0. 0B allocated for chunks. 0B in use in bin. 0B client-requested in use in bin.\n",
      "2024-06-27 14:58:13.347568: I external/local_tsl/tsl/framework/bfc_allocator.cc:1046] Bin (16777216): \tTotal Chunks: 0, Chunks in use: 0. 0B allocated for chunks. 0B in use in bin. 0B client-requested in use in bin.\n",
      "2024-06-27 14:58:13.347574: I external/local_tsl/tsl/framework/bfc_allocator.cc:1046] Bin (33554432): \tTotal Chunks: 0, Chunks in use: 0. 0B allocated for chunks. 0B in use in bin. 0B client-requested in use in bin.\n",
      "2024-06-27 14:58:13.347578: I external/local_tsl/tsl/framework/bfc_allocator.cc:1046] Bin (67108864): \tTotal Chunks: 0, Chunks in use: 0. 0B allocated for chunks. 0B in use in bin. 0B client-requested in use in bin.\n",
      "2024-06-27 14:58:13.347583: I external/local_tsl/tsl/framework/bfc_allocator.cc:1046] Bin (134217728): \tTotal Chunks: 0, Chunks in use: 0. 0B allocated for chunks. 0B in use in bin. 0B client-requested in use in bin.\n",
      "2024-06-27 14:58:13.347588: I external/local_tsl/tsl/framework/bfc_allocator.cc:1046] Bin (268435456): \tTotal Chunks: 6, Chunks in use: 3. 14.26GiB allocated for chunks. 9.70GiB in use in bin. 9.70GiB client-requested in use in bin.\n",
      "2024-06-27 14:58:13.347594: I external/local_tsl/tsl/framework/bfc_allocator.cc:1062] Bin for 3.38GiB was 256.00MiB, Chunk State: \n",
      "2024-06-27 14:58:13.347610: I external/local_tsl/tsl/framework/bfc_allocator.cc:1068]   Size: 783.55MiB | Requested Size: 400.00MiB | in_use: 0 | bin_num: 20, prev:   Size: 3.23GiB | Requested Size: 3.23GiB | in_use: 1 | bin_num: -1\n",
      "2024-06-27 14:58:13.347616: I external/local_tsl/tsl/framework/bfc_allocator.cc:1068]   Size: 862.58MiB | Requested Size: 4.00MiB | in_use: 0 | bin_num: 20, prev:   Size: 3.16GiB | Requested Size: 3.16GiB | in_use: 1 | bin_num: -1\n",
      "2024-06-27 14:58:13.347638: I external/local_tsl/tsl/framework/bfc_allocator.cc:1068]   Size: 2.95GiB | Requested Size: 0B | in_use: 0 | bin_num: 20, prev:   Size: 3.31GiB | Requested Size: 3.31GiB | in_use: 1 | bin_num: -1\n",
      "2024-06-27 14:58:13.347643: I external/local_tsl/tsl/framework/bfc_allocator.cc:1075] Next region of size 6723862528\n",
      "2024-06-27 14:58:13.347649: I external/local_tsl/tsl/framework/bfc_allocator.cc:1095] InUse at 7fa456000000 of size 3552013568 next 93\n",
      "2024-06-27 14:58:13.347653: I external/local_tsl/tsl/framework/bfc_allocator.cc:1095] Free  at 7fa529b76d00 of size 3171848960 next 18446744073709551615\n",
      "2024-06-27 14:58:13.347657: I external/local_tsl/tsl/framework/bfc_allocator.cc:1075] Next region of size 4294967296\n",
      "2024-06-27 14:58:13.347662: I external/local_tsl/tsl/framework/bfc_allocator.cc:1095] InUse at 7fa9b8000000 of size 3390480896 next 56\n",
      "2024-06-27 14:58:13.347666: I external/local_tsl/tsl/framework/bfc_allocator.cc:1095] Free  at 7faa8216a200 of size 904486400 next 18446744073709551615\n",
      "2024-06-27 14:58:13.347670: I external/local_tsl/tsl/framework/bfc_allocator.cc:1075] Next region of size 4294967296\n",
      "2024-06-27 14:58:13.347674: I external/local_tsl/tsl/framework/bfc_allocator.cc:1095] InUse at 7fab4c000000 of size 3473357824 next 88\n",
      "2024-06-27 14:58:13.347679: I external/local_tsl/tsl/framework/bfc_allocator.cc:1095] Free  at 7fac1b073c00 of size 821609472 next 18446744073709551615\n",
      "2024-06-27 14:58:13.347683: I external/local_tsl/tsl/framework/bfc_allocator.cc:1075] Next region of size 2097152\n",
      "2024-06-27 14:58:13.347687: I external/local_tsl/tsl/framework/bfc_allocator.cc:1095] InUse at 7fbd58a00000 of size 256 next 1\n",
      "2024-06-27 14:58:13.347691: I external/local_tsl/tsl/framework/bfc_allocator.cc:1095] InUse at 7fbd58a00100 of size 1280 next 2\n",
      "2024-06-27 14:58:13.347695: I external/local_tsl/tsl/framework/bfc_allocator.cc:1095] InUse at 7fbd58a00600 of size 256 next 3\n",
      "2024-06-27 14:58:13.347699: I external/local_tsl/tsl/framework/bfc_allocator.cc:1095] InUse at 7fbd58a00700 of size 256 next 4\n",
      "2024-06-27 14:58:13.347703: I external/local_tsl/tsl/framework/bfc_allocator.cc:1095] InUse at 7fbd58a00800 of size 256 next 6\n",
      "2024-06-27 14:58:13.347707: I external/local_tsl/tsl/framework/bfc_allocator.cc:1095] InUse at 7fbd58a00900 of size 512 next 7\n",
      "2024-06-27 14:58:13.347711: I external/local_tsl/tsl/framework/bfc_allocator.cc:1095] InUse at 7fbd58a00b00 of size 256 next 5\n",
      "2024-06-27 14:58:13.347716: I external/local_tsl/tsl/framework/bfc_allocator.cc:1095] InUse at 7fbd58a00c00 of size 256 next 8\n",
      "2024-06-27 14:58:13.347720: I external/local_tsl/tsl/framework/bfc_allocator.cc:1095] InUse at 7fbd58a00d00 of size 512 next 13\n",
      "2024-06-27 14:58:13.347724: I external/local_tsl/tsl/framework/bfc_allocator.cc:1095] InUse at 7fbd58a00f00 of size 512 next 16\n",
      "2024-06-27 14:58:13.347728: I external/local_tsl/tsl/framework/bfc_allocator.cc:1095] InUse at 7fbd58a01100 of size 256 next 11\n",
      "2024-06-27 14:58:13.347732: I external/local_tsl/tsl/framework/bfc_allocator.cc:1095] InUse at 7fbd58a01200 of size 256 next 12\n",
      "2024-06-27 14:58:13.347736: I external/local_tsl/tsl/framework/bfc_allocator.cc:1095] InUse at 7fbd58a01300 of size 256 next 19\n",
      "2024-06-27 14:58:13.347740: I external/local_tsl/tsl/framework/bfc_allocator.cc:1095] InUse at 7fbd58a01400 of size 256 next 20\n",
      "2024-06-27 14:58:13.347744: I external/local_tsl/tsl/framework/bfc_allocator.cc:1095] InUse at 7fbd58a01500 of size 256 next 18\n",
      "2024-06-27 14:58:13.347748: I external/local_tsl/tsl/framework/bfc_allocator.cc:1095] InUse at 7fbd58a01600 of size 256 next 21\n",
      "2024-06-27 14:58:13.347752: I external/local_tsl/tsl/framework/bfc_allocator.cc:1095] InUse at 7fbd58a01700 of size 256 next 24\n",
      "2024-06-27 14:58:13.347757: I external/local_tsl/tsl/framework/bfc_allocator.cc:1095] InUse at 7fbd58a01800 of size 512 next 22\n",
      "2024-06-27 14:58:13.347761: I external/local_tsl/tsl/framework/bfc_allocator.cc:1095] InUse at 7fbd58a01a00 of size 512 next 23\n",
      "2024-06-27 14:58:13.347765: I external/local_tsl/tsl/framework/bfc_allocator.cc:1095] Free  at 7fbd58a01c00 of size 18176 next 9\n",
      "2024-06-27 14:58:13.347769: I external/local_tsl/tsl/framework/bfc_allocator.cc:1095] InUse at 7fbd58a06300 of size 11264 next 10\n",
      "2024-06-27 14:58:13.347773: I external/local_tsl/tsl/framework/bfc_allocator.cc:1095] InUse at 7fbd58a08f00 of size 512 next 25\n",
      "2024-06-27 14:58:13.347777: I external/local_tsl/tsl/framework/bfc_allocator.cc:1095] InUse at 7fbd58a09100 of size 512 next 26\n",
      "2024-06-27 14:58:13.347781: I external/local_tsl/tsl/framework/bfc_allocator.cc:1095] InUse at 7fbd58a09300 of size 256 next 33\n",
      "2024-06-27 14:58:13.347785: I external/local_tsl/tsl/framework/bfc_allocator.cc:1095] InUse at 7fbd58a09400 of size 256 next 34\n",
      "2024-06-27 14:58:13.347789: I external/local_tsl/tsl/framework/bfc_allocator.cc:1095] InUse at 7fbd58a09500 of size 256 next 31\n",
      "2024-06-27 14:58:13.347793: I external/local_tsl/tsl/framework/bfc_allocator.cc:1095] InUse at 7fbd58a09600 of size 256 next 35\n",
      "2024-06-27 14:58:13.347797: I external/local_tsl/tsl/framework/bfc_allocator.cc:1095] InUse at 7fbd58a09700 of size 768 next 36\n",
      "2024-06-27 14:58:13.347802: I external/local_tsl/tsl/framework/bfc_allocator.cc:1095] InUse at 7fbd58a09a00 of size 256 next 27\n",
      "2024-06-27 14:58:13.347806: I external/local_tsl/tsl/framework/bfc_allocator.cc:1095] InUse at 7fbd58a09b00 of size 256 next 37\n",
      "2024-06-27 14:58:13.347810: I external/local_tsl/tsl/framework/bfc_allocator.cc:1095] InUse at 7fbd58a09c00 of size 512 next 39\n",
      "2024-06-27 14:58:13.347814: I external/local_tsl/tsl/framework/bfc_allocator.cc:1095] InUse at 7fbd58a09e00 of size 512 next 41\n",
      "2024-06-27 14:58:13.347819: I external/local_tsl/tsl/framework/bfc_allocator.cc:1095] InUse at 7fbd58a0a000 of size 512 next 42\n",
      "2024-06-27 14:58:13.347823: I external/local_tsl/tsl/framework/bfc_allocator.cc:1095] InUse at 7fbd58a0a200 of size 512 next 45\n",
      "2024-06-27 14:58:13.347827: I external/local_tsl/tsl/framework/bfc_allocator.cc:1095] InUse at 7fbd58a0a400 of size 512 next 46\n",
      "2024-06-27 14:58:13.347831: I external/local_tsl/tsl/framework/bfc_allocator.cc:1095] InUse at 7fbd58a0a600 of size 512 next 47\n",
      "2024-06-27 14:58:13.347835: I external/local_tsl/tsl/framework/bfc_allocator.cc:1095] InUse at 7fbd58a0a800 of size 256 next 55\n",
      "2024-06-27 14:58:13.347839: I external/local_tsl/tsl/framework/bfc_allocator.cc:1095] InUse at 7fbd58a0a900 of size 256 next 48\n",
      "2024-06-27 14:58:13.347844: I external/local_tsl/tsl/framework/bfc_allocator.cc:1095] InUse at 7fbd58a0aa00 of size 512 next 50\n",
      "2024-06-27 14:58:13.347848: I external/local_tsl/tsl/framework/bfc_allocator.cc:1095] InUse at 7fbd58a0ac00 of size 256 next 51\n",
      "2024-06-27 14:58:13.347852: I external/local_tsl/tsl/framework/bfc_allocator.cc:1095] InUse at 7fbd58a0ad00 of size 512 next 53\n",
      "2024-06-27 14:58:13.347856: I external/local_tsl/tsl/framework/bfc_allocator.cc:1095] InUse at 7fbd58a0af00 of size 256 next 58\n",
      "2024-06-27 14:58:13.347860: I external/local_tsl/tsl/framework/bfc_allocator.cc:1095] Free  at 7fbd58a0b000 of size 14336 next 28\n",
      "2024-06-27 14:58:13.347864: I external/local_tsl/tsl/framework/bfc_allocator.cc:1095] InUse at 7fbd58a0e800 of size 57600 next 15\n",
      "2024-06-27 14:58:13.347868: I external/local_tsl/tsl/framework/bfc_allocator.cc:1095] InUse at 7fbd58a1c900 of size 40192 next 14\n",
      "2024-06-27 14:58:13.347873: I external/local_tsl/tsl/framework/bfc_allocator.cc:1095] InUse at 7fbd58a26600 of size 40192 next 17\n",
      "2024-06-27 14:58:13.347877: I external/local_tsl/tsl/framework/bfc_allocator.cc:1095] InUse at 7fbd58a30300 of size 11264 next 38\n",
      "2024-06-27 14:58:13.347881: I external/local_tsl/tsl/framework/bfc_allocator.cc:1095] InUse at 7fbd58a32f00 of size 11264 next 52\n",
      "2024-06-27 14:58:13.347885: I external/local_tsl/tsl/framework/bfc_allocator.cc:1095] InUse at 7fbd58a35b00 of size 17664 next 30\n",
      "2024-06-27 14:58:13.347889: I external/local_tsl/tsl/framework/bfc_allocator.cc:1095] InUse at 7fbd58a3a000 of size 40192 next 29\n",
      "2024-06-27 14:58:13.347893: I external/local_tsl/tsl/framework/bfc_allocator.cc:1095] Free  at 7fbd58a43d00 of size 40192 next 32\n",
      "2024-06-27 14:58:13.347897: I external/local_tsl/tsl/framework/bfc_allocator.cc:1095] InUse at 7fbd58a4da00 of size 40192 next 40\n",
      "2024-06-27 14:58:13.347901: I external/local_tsl/tsl/framework/bfc_allocator.cc:1095] InUse at 7fbd58a57700 of size 40192 next 43\n",
      "2024-06-27 14:58:13.347905: I external/local_tsl/tsl/framework/bfc_allocator.cc:1095] InUse at 7fbd58a61400 of size 40192 next 44\n",
      "2024-06-27 14:58:13.347909: I external/local_tsl/tsl/framework/bfc_allocator.cc:1095] InUse at 7fbd58a6b100 of size 40192 next 54\n",
      "2024-06-27 14:58:13.347914: I external/local_tsl/tsl/framework/bfc_allocator.cc:1095] Free  at 7fbd58a74e00 of size 1618432 next 18446744073709551615\n",
      "2024-06-27 14:58:13.347918: I external/local_tsl/tsl/framework/bfc_allocator.cc:1100]      Summary of in-use Chunks by size: \n",
      "2024-06-27 14:58:13.347923: I external/local_tsl/tsl/framework/bfc_allocator.cc:1103] 23 Chunks of size 256 totalling 5.8KiB\n",
      "2024-06-27 14:58:13.347927: I external/local_tsl/tsl/framework/bfc_allocator.cc:1103] 15 Chunks of size 512 totalling 7.5KiB\n",
      "2024-06-27 14:58:13.347932: I external/local_tsl/tsl/framework/bfc_allocator.cc:1103] 1 Chunks of size 768 totalling 768B\n",
      "2024-06-27 14:58:13.347936: I external/local_tsl/tsl/framework/bfc_allocator.cc:1103] 1 Chunks of size 1280 totalling 1.2KiB\n",
      "2024-06-27 14:58:13.347941: I external/local_tsl/tsl/framework/bfc_allocator.cc:1103] 3 Chunks of size 11264 totalling 33.0KiB\n",
      "2024-06-27 14:58:13.347946: I external/local_tsl/tsl/framework/bfc_allocator.cc:1103] 1 Chunks of size 17664 totalling 17.2KiB\n",
      "2024-06-27 14:58:13.347951: I external/local_tsl/tsl/framework/bfc_allocator.cc:1103] 7 Chunks of size 40192 totalling 274.8KiB\n",
      "2024-06-27 14:58:13.347955: I external/local_tsl/tsl/framework/bfc_allocator.cc:1103] 1 Chunks of size 57600 totalling 56.2KiB\n",
      "2024-06-27 14:58:13.347960: I external/local_tsl/tsl/framework/bfc_allocator.cc:1103] 1 Chunks of size 3390480896 totalling 3.16GiB\n",
      "2024-06-27 14:58:13.347964: I external/local_tsl/tsl/framework/bfc_allocator.cc:1103] 1 Chunks of size 3473357824 totalling 3.23GiB\n",
      "2024-06-27 14:58:13.347969: I external/local_tsl/tsl/framework/bfc_allocator.cc:1103] 1 Chunks of size 3552013568 totalling 3.31GiB\n",
      "2024-06-27 14:58:13.347973: I external/local_tsl/tsl/framework/bfc_allocator.cc:1107] Sum Total of in-use chunks: 9.70GiB\n",
      "2024-06-27 14:58:13.347979: I external/local_tsl/tsl/framework/bfc_allocator.cc:1109] Total bytes in pool: 15315894272 memory_limit_: 15315894272 available bytes: 0 curr_region_allocation_bytes_: 17179869184\n",
      "2024-06-27 14:58:13.347986: I external/local_tsl/tsl/framework/bfc_allocator.cc:1114] Stats: \n",
      "Limit:                     15315894272\n",
      "InUse:                     10416258304\n",
      "MaxInUse:                  11376753920\n",
      "NumAllocs:                         586\n",
      "MaxAllocSize:               3552013568\n",
      "Reserved:                            0\n",
      "PeakReserved:                        0\n",
      "LargestFreeBlock:                    0\n",
      "\n",
      "2024-06-27 14:58:13.347994: W external/local_tsl/tsl/framework/bfc_allocator.cc:497] ************************___________________************************____************************____*\n"
     ]
    },
    {
     "ename": "InternalError",
     "evalue": "Failed copying input tensor from /job:localhost/replica:0/task:0/device:CPU:0 to /job:localhost/replica:0/task:0/device:GPU:0 in order to run _EagerConst: Dst tensor is not initialized.",
     "output_type": "error",
     "traceback": [
      "\u001b[0;31m---------------------------------------------------------------------------\u001b[0m",
      "\u001b[0;31mInternalError\u001b[0m                             Traceback (most recent call last)",
      "Cell \u001b[0;32mIn[15], line 2\u001b[0m\n\u001b[1;32m      1\u001b[0m \u001b[38;5;66;03m# fit submission\u001b[39;00m\n\u001b[0;32m----> 2\u001b[0m \u001b[43mingestion\u001b[49m\u001b[38;5;241;43m.\u001b[39;49m\u001b[43mfit_submission\u001b[49m\u001b[43m(\u001b[49m\u001b[43m)\u001b[49m\n",
      "File \u001b[0;32m/clusterfs/ml4hep/jvdudley/projects/FairUniverse/examples/HEP-Challenge/ingestion_program/ingestion.py:122\u001b[0m, in \u001b[0;36mIngestion.fit_submission\u001b[0;34m(self)\u001b[0m\n\u001b[1;32m    118\u001b[0m \u001b[38;5;250m\u001b[39m\u001b[38;5;124;03m\"\"\"\u001b[39;00m\n\u001b[1;32m    119\u001b[0m \u001b[38;5;124;03mFit the submitted model.\u001b[39;00m\n\u001b[1;32m    120\u001b[0m \u001b[38;5;124;03m\"\"\"\u001b[39;00m\n\u001b[1;32m    121\u001b[0m \u001b[38;5;28mprint\u001b[39m(\u001b[38;5;124m\"\u001b[39m\u001b[38;5;124m[*] Calling fit method of submitted model\u001b[39m\u001b[38;5;124m\"\u001b[39m)\n\u001b[0;32m--> 122\u001b[0m \u001b[38;5;28;43mself\u001b[39;49m\u001b[38;5;241;43m.\u001b[39;49m\u001b[43mmodel\u001b[49m\u001b[38;5;241;43m.\u001b[39;49m\u001b[43mfit\u001b[49m\u001b[43m(\u001b[49m\u001b[43m)\u001b[49m\n",
      "File \u001b[0;32m/clusterfs/ml4hep/jvdudley/projects/FairUniverse/examples/HEP-Challenge/sample_code_submission/model.py:194\u001b[0m, in \u001b[0;36mModel.fit\u001b[0;34m(self)\u001b[0m\n\u001b[1;32m    192\u001b[0m     \u001b[38;5;28mself\u001b[39m\u001b[38;5;241m.\u001b[39mstat_analysis\u001b[38;5;241m.\u001b[39mload(saved_info_file) \n\u001b[1;32m    193\u001b[0m \u001b[38;5;28;01melse\u001b[39;00m:   \n\u001b[0;32m--> 194\u001b[0m     \u001b[38;5;28;43mself\u001b[39;49m\u001b[38;5;241;43m.\u001b[39;49m\u001b[43mstat_analysis\u001b[49m\u001b[38;5;241;43m.\u001b[39;49m\u001b[43mcalculate_saved_info\u001b[49m\u001b[43m(\u001b[49m\u001b[43m)\u001b[49m\n\u001b[1;32m    195\u001b[0m     \u001b[38;5;28mself\u001b[39m\u001b[38;5;241m.\u001b[39mstat_analysis\u001b[38;5;241m.\u001b[39msave(saved_info_file)\n\u001b[1;32m    197\u001b[0m train_score \u001b[38;5;241m=\u001b[39m \u001b[38;5;28mself\u001b[39m\u001b[38;5;241m.\u001b[39mmodel\u001b[38;5;241m.\u001b[39mpredict(\u001b[38;5;28mself\u001b[39m\u001b[38;5;241m.\u001b[39mtraining_set[\u001b[38;5;124m\"\u001b[39m\u001b[38;5;124mdata\u001b[39m\u001b[38;5;124m\"\u001b[39m])\n",
      "File \u001b[0;32m/clusterfs/ml4hep/jvdudley/projects/FairUniverse/examples/HEP-Challenge/sample_code_submission/statistical_analysis.py:183\u001b[0m, in \u001b[0;36mStatisticalAnalysis.calculate_saved_info\u001b[0;34m(self)\u001b[0m\n\u001b[1;32m    180\u001b[0m \u001b[38;5;28mself\u001b[39m\u001b[38;5;241m.\u001b[39msaved_info \u001b[38;5;241m=\u001b[39m {}\n\u001b[1;32m    181\u001b[0m \u001b[38;5;28;01mfor\u001b[39;00m key \u001b[38;5;129;01min\u001b[39;00m \u001b[38;5;28mself\u001b[39m\u001b[38;5;241m.\u001b[39msyst_settings\u001b[38;5;241m.\u001b[39mkeys():\n\u001b[0;32m--> 183\u001b[0m     coef_s_list, coef_b_list \u001b[38;5;241m=\u001b[39m \u001b[38;5;28;43mself\u001b[39;49m\u001b[38;5;241;43m.\u001b[39;49m\u001b[43mfit_functions\u001b[49m\u001b[43m(\u001b[49m\u001b[43mkey\u001b[49m\u001b[43m)\u001b[49m\n\u001b[1;32m    184\u001b[0m     \u001b[38;5;28mself\u001b[39m\u001b[38;5;241m.\u001b[39msaved_info[key] \u001b[38;5;241m=\u001b[39m {\n\u001b[1;32m    185\u001b[0m         \u001b[38;5;124m\"\u001b[39m\u001b[38;5;124mcoef_s\u001b[39m\u001b[38;5;124m\"\u001b[39m: coef_s_list,\n\u001b[1;32m    186\u001b[0m         \u001b[38;5;124m\"\u001b[39m\u001b[38;5;124mcoef_b\u001b[39m\u001b[38;5;124m\"\u001b[39m: coef_b_list,\n\u001b[1;32m    187\u001b[0m     }\n\u001b[1;32m    189\u001b[0m \u001b[38;5;28mself\u001b[39m\u001b[38;5;241m.\u001b[39malpha_function()\n",
      "File \u001b[0;32m/clusterfs/ml4hep/jvdudley/projects/FairUniverse/examples/HEP-Challenge/sample_code_submission/statistical_analysis.py:250\u001b[0m, in \u001b[0;36mStatisticalAnalysis.fit_functions\u001b[0;34m(self, key)\u001b[0m\n\u001b[1;32m    247\u001b[0m b_array \u001b[38;5;241m=\u001b[39m np\u001b[38;5;241m.\u001b[39mzeros((\u001b[38;5;28mlen\u001b[39m(alpha_list), \u001b[38;5;28mself\u001b[39m\u001b[38;5;241m.\u001b[39mbins))\n\u001b[1;32m    249\u001b[0m \u001b[38;5;28;01mfor\u001b[39;00m i \u001b[38;5;129;01min\u001b[39;00m \u001b[38;5;28mrange\u001b[39m(\u001b[38;5;28mlen\u001b[39m(alpha_list)):\n\u001b[0;32m--> 250\u001b[0m     s_array[i], b_array[i] \u001b[38;5;241m=\u001b[39m \u001b[38;5;28;43mself\u001b[39;49m\u001b[38;5;241;43m.\u001b[39;49m\u001b[43mnominal_histograms\u001b[49m\u001b[43m(\u001b[49m\u001b[43malpha_list\u001b[49m\u001b[43m[\u001b[49m\u001b[43mi\u001b[49m\u001b[43m]\u001b[49m\u001b[43m,\u001b[49m\u001b[43m \u001b[49m\u001b[43mkey\u001b[49m\u001b[43m)\u001b[49m\n\u001b[1;32m    252\u001b[0m s_array \u001b[38;5;241m=\u001b[39m s_array\u001b[38;5;241m.\u001b[39mT\n\u001b[1;32m    253\u001b[0m b_array \u001b[38;5;241m=\u001b[39m b_array\u001b[38;5;241m.\u001b[39mT\n",
      "File \u001b[0;32m/clusterfs/ml4hep/jvdudley/projects/FairUniverse/examples/HEP-Challenge/sample_code_submission/statistical_analysis.py:218\u001b[0m, in \u001b[0;36mStatisticalAnalysis.nominal_histograms\u001b[0;34m(self, alpha, key)\u001b[0m\n\u001b[1;32m    215\u001b[0m label_holdout \u001b[38;5;241m=\u001b[39m holdout_syst[\u001b[38;5;124m'\u001b[39m\u001b[38;5;124mlabels\u001b[39m\u001b[38;5;124m'\u001b[39m]\n\u001b[1;32m    216\u001b[0m weights_holdout \u001b[38;5;241m=\u001b[39m holdout_syst[\u001b[38;5;124m'\u001b[39m\u001b[38;5;124mweights\u001b[39m\u001b[38;5;124m'\u001b[39m]\n\u001b[0;32m--> 218\u001b[0m holdout_val \u001b[38;5;241m=\u001b[39m \u001b[38;5;28;43mself\u001b[39;49m\u001b[38;5;241;43m.\u001b[39;49m\u001b[43mmodel\u001b[49m\u001b[38;5;241;43m.\u001b[39;49m\u001b[43mpredict\u001b[49m\u001b[43m(\u001b[49m\u001b[43mholdout_syst\u001b[49m\u001b[43m[\u001b[49m\u001b[38;5;124;43m'\u001b[39;49m\u001b[38;5;124;43mdata\u001b[39;49m\u001b[38;5;124;43m'\u001b[39;49m\u001b[43m]\u001b[49m\u001b[43m)\u001b[49m\n\u001b[1;32m    220\u001b[0m weights_holdout_signal \u001b[38;5;241m=\u001b[39m weights_holdout[label_holdout \u001b[38;5;241m==\u001b[39m \u001b[38;5;241m1\u001b[39m]\n\u001b[1;32m    221\u001b[0m weights_holdout_background \u001b[38;5;241m=\u001b[39m weights_holdout[label_holdout \u001b[38;5;241m==\u001b[39m \u001b[38;5;241m0\u001b[39m]\n",
      "File \u001b[0;32m/clusterfs/ml4hep/jvdudley/projects/FairUniverse/examples/HEP-Challenge/sample_code_submission/neural_network_TF.py:89\u001b[0m, in \u001b[0;36mNeuralNetwork.predict\u001b[0;34m(self, test_data)\u001b[0m\n\u001b[1;32m     78\u001b[0m \u001b[38;5;250m\u001b[39m\u001b[38;5;124;03m\"\"\"\u001b[39;00m\n\u001b[1;32m     79\u001b[0m \u001b[38;5;124;03mPredicts the output labels for the test data.\u001b[39;00m\n\u001b[1;32m     80\u001b[0m \n\u001b[0;32m   (...)\u001b[0m\n\u001b[1;32m     86\u001b[0m \n\u001b[1;32m     87\u001b[0m \u001b[38;5;124;03m\"\"\"\u001b[39;00m\n\u001b[1;32m     88\u001b[0m test_data \u001b[38;5;241m=\u001b[39m \u001b[38;5;28mself\u001b[39m\u001b[38;5;241m.\u001b[39mscaler\u001b[38;5;241m.\u001b[39mtransform(test_data)\n\u001b[0;32m---> 89\u001b[0m \u001b[38;5;28;01mreturn\u001b[39;00m \u001b[38;5;28;43mself\u001b[39;49m\u001b[38;5;241;43m.\u001b[39;49m\u001b[43mmodel\u001b[49m\u001b[38;5;241;43m.\u001b[39;49m\u001b[43mpredict\u001b[49m\u001b[43m(\u001b[49m\u001b[43mtest_data\u001b[49m\u001b[43m,\u001b[49m\u001b[43m \u001b[49m\u001b[43mbatch_size\u001b[49m\u001b[38;5;241;43m=\u001b[39;49m\u001b[43mPREDICT_BATCH_SIZE\u001b[49m\u001b[43m)\u001b[49m\u001b[38;5;241m.\u001b[39mflatten()\u001b[38;5;241m.\u001b[39mravel()\n",
      "File \u001b[0;32m/clusterfs/ml4hep/jvdudley/software/miniforge3/envs/FairUniverse4/lib/python3.11/site-packages/keras/src/utils/traceback_utils.py:70\u001b[0m, in \u001b[0;36mfilter_traceback.<locals>.error_handler\u001b[0;34m(*args, **kwargs)\u001b[0m\n\u001b[1;32m     67\u001b[0m     filtered_tb \u001b[38;5;241m=\u001b[39m _process_traceback_frames(e\u001b[38;5;241m.\u001b[39m__traceback__)\n\u001b[1;32m     68\u001b[0m     \u001b[38;5;66;03m# To get the full stack trace, call:\u001b[39;00m\n\u001b[1;32m     69\u001b[0m     \u001b[38;5;66;03m# `tf.debugging.disable_traceback_filtering()`\u001b[39;00m\n\u001b[0;32m---> 70\u001b[0m     \u001b[38;5;28;01mraise\u001b[39;00m e\u001b[38;5;241m.\u001b[39mwith_traceback(filtered_tb) \u001b[38;5;28;01mfrom\u001b[39;00m \u001b[38;5;28;01mNone\u001b[39;00m\n\u001b[1;32m     71\u001b[0m \u001b[38;5;28;01mfinally\u001b[39;00m:\n\u001b[1;32m     72\u001b[0m     \u001b[38;5;28;01mdel\u001b[39;00m filtered_tb\n",
      "File \u001b[0;32m/clusterfs/ml4hep/jvdudley/software/miniforge3/envs/FairUniverse4/lib/python3.11/site-packages/tensorflow/python/framework/constant_op.py:103\u001b[0m, in \u001b[0;36mconvert_to_eager_tensor\u001b[0;34m(value, ctx, dtype)\u001b[0m\n\u001b[1;32m    101\u001b[0m     dtype \u001b[38;5;241m=\u001b[39m dtypes\u001b[38;5;241m.\u001b[39mas_dtype(dtype)\u001b[38;5;241m.\u001b[39mas_datatype_enum\n\u001b[1;32m    102\u001b[0m ctx\u001b[38;5;241m.\u001b[39mensure_initialized()\n\u001b[0;32m--> 103\u001b[0m \u001b[38;5;28;01mreturn\u001b[39;00m \u001b[43mops\u001b[49m\u001b[38;5;241;43m.\u001b[39;49m\u001b[43mEagerTensor\u001b[49m\u001b[43m(\u001b[49m\u001b[43mvalue\u001b[49m\u001b[43m,\u001b[49m\u001b[43m \u001b[49m\u001b[43mctx\u001b[49m\u001b[38;5;241;43m.\u001b[39;49m\u001b[43mdevice_name\u001b[49m\u001b[43m,\u001b[49m\u001b[43m \u001b[49m\u001b[43mdtype\u001b[49m\u001b[43m)\u001b[49m\n",
      "\u001b[0;31mInternalError\u001b[0m: Failed copying input tensor from /job:localhost/replica:0/task:0/device:CPU:0 to /job:localhost/replica:0/task:0/device:GPU:0 in order to run _EagerConst: Dst tensor is not initialized."
     ]
    }
   ],
   "source": [
    "\n",
    "# fit submission\n",
    "ingestion.fit_submission()"
   ]
  },
  {
   "cell_type": "code",
   "execution_count": null,
   "metadata": {},
   "outputs": [],
   "source": [
    "\n",
    "# load test set\n",
    "data.load_test_set()"
   ]
  },
  {
   "cell_type": "code",
   "execution_count": null,
   "metadata": {},
   "outputs": [],
   "source": [
    "\n",
    "# predict submission\n",
    "ingestion.predict_submission(test_settings)"
   ]
  },
  {
   "cell_type": "code",
   "execution_count": null,
   "metadata": {},
   "outputs": [],
   "source": [
    "ingestion.compute_result()"
   ]
  },
  {
   "cell_type": "code",
   "execution_count": null,
   "metadata": {},
   "outputs": [],
   "source": [
    "\n",
    "# save result\n",
    "ingestion.save_result(output_dir)"
   ]
  },
  {
   "cell_type": "markdown",
   "metadata": {},
   "source": [
    "***\n",
    "# Likelihood plots\n",
    "***"
   ]
  },
  {
   "cell_type": "code",
   "execution_count": 15,
   "metadata": {},
   "outputs": [],
   "source": [
    "from systematics import postprocess, systematics"
   ]
  },
  {
   "cell_type": "code",
   "execution_count": 16,
   "metadata": {},
   "outputs": [
    {
     "name": "stdout",
     "output_type": "stream",
     "text": [
      "[*] Loading Test data\n",
      "[+] Test data loaded successfully\n"
     ]
    }
   ],
   "source": [
    "# read data: train, valid, test\n",
    "train_set = ingestion.model.training_set\n",
    "valid_set = ingestion.model.stat_analysis.holdout_set\n",
    "ingestion.data.load_test_set()\n",
    "test_set = ingestion.data.get_test_set().copy()\n",
    "pseudo_exp_data = ingestion.data.generate_psuedo_exp_data(seed=314159)"
   ]
  },
  {
   "cell_type": "code",
   "execution_count": 17,
   "metadata": {},
   "outputs": [],
   "source": [
    "assert (pseudo_exp_data['weights'] == 1).all(), 'pseudo experiment data weights are not all one'"
   ]
  },
  {
   "cell_type": "code",
   "execution_count": 18,
   "metadata": {},
   "outputs": [
    {
     "name": "stdout",
     "output_type": "stream",
     "text": [
      "(7278, 28)\n",
      "ztautau (7211236, 28)\n",
      "diboson (81180, 28)\n",
      "ttbar (317522, 28)\n",
      "htautau (7278, 28)\n",
      "(7278, 28)\n"
     ]
    }
   ],
   "source": [
    "LHC_NUMBERS = {\n",
    "    \"ztautau\": 3544019,\n",
    "    \"diboson\": 40590,\n",
    "    \"ttbar\": 158761,\n",
    "    \"htautau\": 3639,\n",
    "}\n",
    "\n",
    "# for key in test_set:\n",
    "#     print(key, test_set[key].shape)\n",
    "#     assert test_set[key].shape[0] >= LHC_NUMBERS[key], f'{key} test set is too small'\n",
    "#     test_set[key] = test_set[key].copy()[:LHC_NUMBERS[key]]\n",
    "print(data.get_test_set()['htautau'].shape)\n",
    "test_set_samples = {}\n",
    "for name, df in test_set.items():\n",
    "    print(name, df.shape)\n",
    "    assert df.shape[0] >= LHC_NUMBERS[name], f'{name} test set is too small'\n",
    "    test_set_samples[name] = df[:LHC_NUMBERS[name]]\n",
    "test_set = test_set_samples\n",
    "print(data.get_test_set()['htautau'].shape)"
   ]
  },
  {
   "cell_type": "code",
   "execution_count": 19,
   "metadata": {},
   "outputs": [],
   "source": [
    "valid_syst = systematics(valid_set.copy())"
   ]
  },
  {
   "cell_type": "code",
   "execution_count": 21,
   "metadata": {},
   "outputs": [
    {
     "data": {
      "text/plain": [
       "(3377326.544520631, 3376804.0)"
      ]
     },
     "execution_count": 21,
     "metadata": {},
     "output_type": "execute_result"
    }
   ],
   "source": [
    "valid_syst['weights'].sum(), pseudo_exp_data['weights'].sum()"
   ]
  },
  {
   "cell_type": "code",
   "execution_count": 23,
   "metadata": {},
   "outputs": [],
   "source": [
    "valid_set = valid_syst"
   ]
  },
  {
   "cell_type": "code",
   "execution_count": 24,
   "metadata": {},
   "outputs": [
    {
     "name": "stdout",
     "output_type": "stream",
     "text": [
      "ztautau \n",
      " (3544019, 28)\n",
      "(3186040, 28)\n",
      "diboson \n",
      " (40590, 28)\n",
      "(36832, 28)\n",
      "ttbar \n",
      " (158761, 28)\n",
      "(148233, 28)\n",
      "htautau \n",
      " (3639, 28)\n",
      "(3448, 28)\n"
     ]
    }
   ],
   "source": [
    "for name in test_set:\n",
    "    print(name, '\\n', test_set[name].shape)\n",
    "    test_set[name] = postprocess(test_set[name])\n",
    "    print(test_set[name].shape)"
   ]
  },
  {
   "cell_type": "code",
   "execution_count": 38,
   "metadata": {},
   "outputs": [
    {
     "data": {
      "text/plain": [
       "3747009"
      ]
     },
     "execution_count": 38,
     "metadata": {},
     "output_type": "execute_result"
    }
   ],
   "source": [
    "sum(LHC_NUMBERS.values())"
   ]
  },
  {
   "cell_type": "code",
   "execution_count": 25,
   "metadata": {},
   "outputs": [
    {
     "data": {
      "text/plain": [
       "(3377326.544520631, 3374553, 3376804)"
      ]
     },
     "execution_count": 25,
     "metadata": {},
     "output_type": "execute_result"
    }
   ],
   "source": [
    "n_expected = valid_set['weights'].sum()\n",
    "n_observed = np.sum([data.shape[0] for data in test_set.values()])\n",
    "n_psuedo = pseudo_exp_data['data'].shape[0]\n",
    "\n",
    "n_expected, n_observed, n_psuedo"
   ]
  },
  {
   "cell_type": "code",
   "execution_count": 26,
   "metadata": {},
   "outputs": [
    {
     "name": "stdout",
     "output_type": "stream",
     "text": [
      "42/42 [==============================] - 3s 44ms/step\n",
      "32/32 [==============================] - 2s 45ms/step\n",
      "4/4 [==============================] - 0s 37ms/step\n",
      "4/4 [==============================] - 0s 35ms/step\n",
      "1/1 [==============================] - 0s 28ms/step\n",
      "1/1 [==============================] - 0s 36ms/step\n",
      "1/1 [==============================] - 0s 24ms/step\n"
     ]
    }
   ],
   "source": [
    "train_set['scores'] = ingestion.model.model.predict(train_set['data'])\n",
    "valid_set['scores'] = ingestion.model.model.predict(valid_set['data'])\n",
    "pseudo_exp_data['scores'] = ingestion.model.model.predict(pseudo_exp_data['data'])\n",
    "test_scores = {\n",
    "    name: ingestion.model.model.predict(test_set[name])\n",
    "    for name in test_set.keys()\n",
    "}"
   ]
  },
  {
   "cell_type": "code",
   "execution_count": 27,
   "metadata": {},
   "outputs": [],
   "source": [
    "num_bins = 2000\n",
    "hist_bins = np.linspace(0, 1, num_bins+1)\n",
    "\n",
    "histograms = { # train/valid, sig/bkgd\n",
    "    tv + sb: np.histogram(\n",
    "        dataset['scores'][dataset['labels'] == (1-j)],\n",
    "        bins=hist_bins,\n",
    "        weights=dataset['weights'][dataset['labels'] == (1-j)],\n",
    "        # range=(0, 1),\n",
    "    )\n",
    "    for tv, dataset in {'train': train_set, 'valid': valid_set}.items()\n",
    "    for j, sb in enumerate(['_sig', '_bkgd'])\n",
    "}\n",
    "pseudo_exp_hist = np.histogram(\n",
    "    pseudo_exp_data['scores'],\n",
    "    bins=hist_bins,\n",
    "    # weights=pseudo_exp_data['weights'], # weights are all 1\n",
    "    # range=(0, 1),\n",
    ")\n",
    "\n",
    "test_hist = {\n",
    "    name: np.histogram(\n",
    "        scores,\n",
    "        bins=hist_bins,\n",
    "        # range=(0, 1),\n",
    "    )\n",
    "    for name, scores in test_scores.items()\n",
    "}"
   ]
  },
  {
   "cell_type": "code",
   "execution_count": 28,
   "metadata": {},
   "outputs": [
    {
     "data": {
      "text/plain": [
       "(2, 1)"
      ]
     },
     "execution_count": 28,
     "metadata": {},
     "output_type": "execute_result"
    }
   ],
   "source": [
    "pseudo_exp_hist[0].min(), np.sum([hist for hist, _ in test_hist.values()], axis=0).min()"
   ]
  },
  {
   "cell_type": "code",
   "execution_count": 29,
   "metadata": {},
   "outputs": [
    {
     "data": {
      "text/plain": [
       "Text(0.5, 1.0, 'scores')"
      ]
     },
     "execution_count": 29,
     "metadata": {},
     "output_type": "execute_result"
    },
    {
     "data": {
      "image/png": "[encoded data removed]",
      "text/plain": [
       "<Figure size 1200x1000 with 1 Axes>"
      ]
     },
     "metadata": {},
     "output_type": "display_data"
    }
   ],
   "source": [
    "plot_density = False\n",
    "plot_scaled = False\n",
    "\n",
    "plt.figure(figsize=(12, 10))\n",
    "for name, (hist, bins) in histograms.items():\n",
    "    plt.hist(\n",
    "        bins[:-1],\n",
    "        bins,\n",
    "        weights=hist * ((n_observed / n_expected) if plot_scaled else 1),\n",
    "        label=name + (' (scaled)' if plot_scaled else ''),\n",
    "        density=plot_density,\n",
    "        histtype='step', # if 'train' in name else 'bar',\n",
    "        alpha=.8 if 'valid' in name else 0.5,\n",
    "    )\n",
    "# for name, (hist, bins) in test_hist.items():\n",
    "#     plt.hist(\n",
    "#         bins[:-1],\n",
    "#         bins,\n",
    "#         weights=hist,\n",
    "#         label=(name + ' (test set)'),\n",
    "#         density=plot_density,\n",
    "#         histtype='bar',\n",
    "#         stacked=True,\n",
    "#         alpha=.5,\n",
    "#     )\n",
    "tmp_hists = []\n",
    "tmp_weights = []\n",
    "plt.hist(\n",
    "    [bins[:-1] for (hist, bins) in test_hist.values()],\n",
    "    test_hist['htautau'][1], # all bins are the same; pick one\n",
    "    weights=[hist for (hist, bins) in test_hist.values()],\n",
    "    label=[name for name in test_hist],\n",
    "    density=plot_density,\n",
    "    histtype='barstacked',\n",
    ")\n",
    "plt.ylim(0, 11e3)\n",
    "plt.legend()\n",
    "plt.title('scores')"
   ]
  },
  {
   "cell_type": "code",
   "execution_count": 30,
   "metadata": {},
   "outputs": [],
   "source": [
    "def NLL(mu, observed, expected_sig, expected_bkgd, scale=1):\n",
    "    # need to double check the scaling\n",
    "    expected = scale * (mu * expected_sig + expected_bkgd)\n",
    "    return np.sum(expected - observed * np.log(expected))"
   ]
  },
  {
   "cell_type": "code",
   "execution_count": 31,
   "metadata": {},
   "outputs": [],
   "source": [
    "mus = np.linspace(0, 2.5, 1000)\n",
    "nlls = [\n",
    "    NLL(\n",
    "        mu,\n",
    "        histograms['train_sig'][0] + histograms['train_bkgd'][0],\n",
    "        histograms['valid_sig'][0],\n",
    "        histograms['valid_bkgd'][0],\n",
    "    ) for mu in mus\n",
    "]"
   ]
  },
  {
   "cell_type": "code",
   "execution_count": 32,
   "metadata": {},
   "outputs": [
    {
     "data": {
      "text/plain": [
       "'mu_hat = 2.5'"
      ]
     },
     "execution_count": 32,
     "metadata": {},
     "output_type": "execute_result"
    },
    {
     "data": {
      "image/png": "[encoded data removed]",
      "text/plain": [
       "<Figure size 640x480 with 1 Axes>"
      ]
     },
     "metadata": {},
     "output_type": "display_data"
    }
   ],
   "source": [
    "plt.plot(mus, nlls - min(nlls))\n",
    "plt.axhline(.5, color='r', linestyle='--')\n",
    "plt.axvline(1, color='g', label='mu_true')\n",
    "plt.axvline(mus[np.argmin(nlls)], color='r', label='mu_hat')\n",
    "plt.xlabel('mu')\n",
    "plt.ylabel('NLL')\n",
    "plt.ylim(0, 2.5)\n",
    "plt.grid()\n",
    "plt.legend()\n",
    "plt.title('training set')\n",
    "\n",
    "f'mu_hat = {mus[np.argmin(nlls)]}'"
   ]
  },
  {
   "cell_type": "code",
   "execution_count": 33,
   "metadata": {},
   "outputs": [],
   "source": [
    "test_nlls = [\n",
    "    NLL(\n",
    "        mu,\n",
    "        # test_hist['htautau'][0] + test_hist['ztautau'][0],\n",
    "        np.sum([hist for (hist, bins) in test_hist.values()], axis=0),\n",
    "        histograms['valid_sig'][0],\n",
    "        histograms['valid_bkgd'][0],\n",
    "        # scale=(n_observed / n_expected),\n",
    "    ) for mu in mus\n",
    "]"
   ]
  },
  {
   "cell_type": "code",
   "execution_count": 34,
   "metadata": {},
   "outputs": [
    {
     "data": {
      "text/plain": [
       "Text(0.5, 1.0, 'test set')"
      ]
     },
     "execution_count": 34,
     "metadata": {},
     "output_type": "execute_result"
    },
    {
     "data": {
      "image/png": "[encoded data removed]",
      "text/plain": [
       "<Figure size 640x480 with 1 Axes>"
      ]
     },
     "metadata": {},
     "output_type": "display_data"
    }
   ],
   "source": [
    "plt.plot(mus, test_nlls - min(test_nlls))\n",
    "plt.axhline(.5, color='r', linestyle='--')\n",
    "plt.xlabel('mu')\n",
    "plt.ylabel('NLL')\n",
    "plt.ylim(0, 2.5)\n",
    "plt.title('test set')"
   ]
  },
  {
   "cell_type": "code",
   "execution_count": null,
   "metadata": {},
   "outputs": [],
   "source": []
  },
  {
   "cell_type": "markdown",
   "metadata": {},
   "source": [
    "***\n",
    "# Score\n",
    "***\n",
    "1. Compute Scores\n",
    "2. Visualize Scores\n"
   ]
  },
  {
   "cell_type": "code",
   "execution_count": null,
   "metadata": {},
   "outputs": [],
   "source": [
    "def visualize_scatter(ingestion_result_dict, ground_truth_mus):\n",
    "    plt.figure(figsize=(6, 4))\n",
    "    for key in ingestion_result_dict.keys():\n",
    "        ingestion_result = ingestion_result_dict[key]\n",
    "        mu_hat = np.mean(ingestion_result[\"mu_hats\"])\n",
    "        mu = ground_truth_mus[key]\n",
    "        plt.scatter(mu, mu_hat, c='b', marker='o')\n",
    "    \n",
    "    plt.xlabel('Ground Truth $\\mu$')\n",
    "    plt.ylabel('Predicted $\\mu$ (averaged for 100 test sets)')\n",
    "    plt.title('Ground Truth vs. Predicted $\\mu$ Values')\n",
    "    plt.grid(axis='y', linestyle='--', alpha=0.7)\n",
    "    plt.show()\n",
    "\n",
    "def visualize_coverage(ingestion_result_dict, ground_truth_mus):\n",
    "\n",
    "    for key in ingestion_result_dict.keys():\n",
    "        plt.figure( figsize=(5, 5))\n",
    "\n",
    "        ingestion_result = ingestion_result_dict[key]\n",
    "        mu = ground_truth_mus[key]\n",
    "        mu_hats = np.mean(ingestion_result[\"mu_hats\"])\n",
    "        p16s = ingestion_result[\"p16\"]\n",
    "        p84s = ingestion_result[\"p84\"]\n",
    "        \n",
    "        # plot horizontal lines from p16 to p84\n",
    "        for i, (p16, p84) in enumerate(zip(p16s, p84s)):\n",
    "            plt.hlines(y=i, xmin=p16, xmax=p84, colors='b', label='p16-p84')\n",
    "\n",
    "        plt.vlines(x=mu_hats, ymin=0, ymax=len(p16s), colors='r', linestyles='dashed', label='Predicted $\\mu$')\n",
    "        plt.vlines(x=mu, ymin=0, ymax=len(p16s), colors='g', linestyles='dashed', label='Ground Truth $\\mu$')\n",
    "        plt.xlabel('mu')\n",
    "        plt.ylabel('psuedo-experiments')\n",
    "        plt.title(f'mu distribution - Set_{key}')\n",
    "        plt.legend()\n",
    "        \n",
    "    plt.show()\n"
   ]
  },
  {
   "cell_type": "code",
   "execution_count": null,
   "metadata": {},
   "outputs": [],
   "source": [
    "from score import Scoring"
   ]
  },
  {
   "cell_type": "code",
   "execution_count": null,
   "metadata": {},
   "outputs": [],
   "source": [
    "# Initialize Score\n",
    "score = Scoring()"
   ]
  },
  {
   "cell_type": "code",
   "execution_count": null,
   "metadata": {},
   "outputs": [],
   "source": [
    "score.load_ingestion_results(output_dir)"
   ]
  },
  {
   "cell_type": "code",
   "execution_count": null,
   "metadata": {},
   "outputs": [],
   "source": [
    "# Compute Score\n",
    "score.compute_scores(test_settings)"
   ]
  },
  {
   "cell_type": "code",
   "execution_count": null,
   "metadata": {},
   "outputs": [],
   "source": [
    "# Visualize scatter plot of ground truth mu and predicted mu\n",
    "visualize_scatter(ingestion_result_dict=ingestion.results_dict, \n",
    "                  ground_truth_mus=test_settings[\"ground_truth_mus\"])"
   ]
  },
  {
   "cell_type": "code",
   "execution_count": null,
   "metadata": {},
   "outputs": [],
   "source": [
    "# Visualize coverage\n",
    "visualize_coverage(ingestion_result_dict=ingestion.results_dict, \n",
    "                  ground_truth_mus=test_settings[\"ground_truth_mus\"])"
   ]
  },
  {
   "cell_type": "markdown",
   "metadata": {},
   "source": [
    "***\n",
    "# Submission\n",
    "***"
   ]
  },
  {
   "cell_type": "markdown",
   "metadata": {},
   "source": [
    "### **Prepare the submission**"
   ]
  },
  {
   "cell_type": "code",
   "execution_count": null,
   "metadata": {},
   "outputs": [],
   "source": [
    "import datetime\n",
    "from data_io import zipdir\n",
    "the_date = datetime.datetime.now().strftime(\"%y-%m-%d-%H-%M\")\n",
    "code_submission = 'HiggsML-code_submission_' + the_date + '.zip'\n",
    "zipdir(code_submission, submission_dir)\n",
    "print(\"Submit : \" + code_submission + \" to the competition\")\n",
    "print(\"You can find the zip file in `HEP-Challenge/\")"
   ]
  },
  {
   "cell_type": "code",
   "execution_count": null,
   "metadata": {},
   "outputs": [],
   "source": []
  }
 ],
 "metadata": {
  "kernelspec": {
   "display_name": "Python 3 (ipykernel)",
   "language": "python",
   "name": "python3"
  },
  "language_info": {
   "codemirror_mode": {
    "name": "ipython",
    "version": 3
   },
   "file_extension": ".py",
   "mimetype": "text/x-python",
   "name": "python",
   "nbconvert_exporter": "python",
   "pygments_lexer": "ipython3",
   "version": "3.11.9"
  },
  "vscode": {
   "interpreter": {
    "hash": "c9e001b0608738f9411416229c98988c04b997dc526fb61c5e4e084e768e3249"
   }
  }
 },
 "nbformat": 4,
 "nbformat_minor": 4
}
